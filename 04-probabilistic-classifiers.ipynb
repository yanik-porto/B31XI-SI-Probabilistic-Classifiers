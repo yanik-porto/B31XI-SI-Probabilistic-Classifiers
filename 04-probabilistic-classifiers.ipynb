{
 "cells": [
  {
   "cell_type": "markdown",
   "metadata": {},
   "source": [
    "# Pattern recognition - ViBOT MsCV"
   ]
  },
  {
   "cell_type": "markdown",
   "metadata": {},
   "source": [
    "Guillaume Lemaitre - Fabrice Meriaudeau - Joan Massich"
   ]
  },
  {
   "cell_type": "code",
   "execution_count": 1,
   "metadata": {
    "collapsed": false
   },
   "outputs": [
    {
     "name": "stdout",
     "output_type": "stream",
     "text": [
      "Pretty printing has been turned OFF\n"
     ]
    }
   ],
   "source": [
    "\n",
    "%matplotlib inline\n",
    "%pprint off\n",
    "\n",
    "# Matplotlib library\n",
    "from mpl_toolkits.mplot3d import Axes3D\n",
    "from matplotlib import cm\n",
    "from matplotlib.ticker import LinearLocator, FormatStrFormatter\n",
    "import matplotlib.pyplot as plt\n",
    "\n",
    "# MPLD3 extension\n",
    "import mpld3\n",
    "\n",
    "# Plotly library\n",
    "import plotly.plotly as py\n",
    "from plotly.graph_objs import *\n",
    "py.sign_in('glemaitre', 'se04g0bmi2')\n",
    "\n",
    "# Numpy library\n",
    "import numpy as np\n",
    "\n",
    "# To have some latex display\n",
    "from IPython.display import display, Math, Latex\n"
   ]
  },
  {
   "cell_type": "markdown",
   "metadata": {},
   "source": [
    "## Euclidean distance vs. Mahalanobis distance"
   ]
  },
  {
   "cell_type": "markdown",
   "metadata": {},
   "source": [
    "(a) Define the two distances anatycally."
   ]
  },
  {
   "cell_type": "markdown",
   "metadata": {},
   "source": []
  },
  {
   "cell_type": "markdown",
   "metadata": {},
   "source": [
    "(b) Comment in no more than three sentences on the differences between the two distances."
   ]
  },
  {
   "cell_type": "markdown",
   "metadata": {},
   "source": []
  },
  {
   "cell_type": "markdown",
   "metadata": {},
   "source": [
    "(c) Assume two 2-D Gaussian distributions defined by $μ_1 = \\left( \\begin{array}{cc}\n",
    "1 & 1 \\end{array} \\right)^t$ and $μ_2 = \\left( \\begin{array}{cc}\n",
    "4 & 4 \\end{array} \\right)^t$ with the following covariances:\n",
    "\n",
    "$\\Sigma_1 = \\left( \\begin{array}{cc}\n",
    "0.475 & -0.425 \\\\\n",
    "-0.425 & 0.475 \\end{array} \\right)$ and $\\Sigma_2 = \\left( \\begin{array}{cc}\n",
    "1 & 0 \\\\\n",
    "0 & 1 \\end{array} \\right)$"
   ]
  },
  {
   "cell_type": "code",
   "execution_count": 5,
   "metadata": {
    "collapsed": false
   },
   "outputs": [
    {
     "name": "stdout",
     "output_type": "stream",
     "text": [
      "[[ 0.475 -0.425]\n",
      " [-0.425  0.475]]\n"
     ]
    }
   ],
   "source": [
    "\n",
    "# Define the mean and standard deviation for each distribution\n",
    "### Use np.matrix() to allow multiplication of matrices in the follow\n",
    "mu1 = np.matrix([1, 1]).T\n",
    "sigma1 = np.matrix([[0.475, -0.425],[-0.425, 0.475]])\n",
    "mu2 = np.matrix([4, 4]).T\n",
    "sigma2 = np.matrix([[1, 0],[0, 1]])"
   ]
  },
  {
   "cell_type": "markdown",
   "metadata": {},
   "source": [
    "Given a vector $x = \\left( \\begin{array}{cc}\n",
    "2 & 2 \\end{array} \\right)^t$."
   ]
  },
  {
   "cell_type": "code",
   "execution_count": 6,
   "metadata": {
    "collapsed": false
   },
   "outputs": [],
   "source": [
    "\n",
    "# Define x\n",
    "### Use np.matrix() to allow multiplication of matrices in the follow\n",
    "x = np.matrix([2, 2]).T\n"
   ]
  },
  {
   "cell_type": "markdown",
   "metadata": {},
   "source": [
    "(d) Complete the following function to compute the Euclidean distance given $x$. To which class $x$ will be affected using Euclidean distance?"
   ]
  },
  {
   "cell_type": "code",
   "execution_count": 9,
   "metadata": {
    "collapsed": false
   },
   "outputs": [],
   "source": [
    "\n",
    "# Compute the Euclidean distance given x and the mean of a distribution\n",
    "### cf. check the function numpy.sqrt()\n",
    "### cf. check the function numpy.sum()\n",
    "### cf. check the function numpy.square()\n",
    "def EuclideanDistance(X, mu):\n",
    "    return np.sqrt((X-mu).T*(X-mu))\n"
   ]
  },
  {
   "cell_type": "code",
   "execution_count": 12,
   "metadata": {
    "collapsed": false
   },
   "outputs": [
    {
     "name": "stdout",
     "output_type": "stream",
     "text": [
      "The vector x will be affected to the class 1 with an Euclidean distance equal to [[ 1.41421356]]\n"
     ]
    }
   ],
   "source": [
    "\n",
    "# Compute the distance between x and each class center\n",
    "d_c1 = EuclideanDistance(x, mu1)\n",
    "d_c2 = EuclideanDistance(x, mu2)\n",
    "\n",
    "if d_c1 < d_c2:\n",
    "    print 'The vector x will be affected to the class 1 with an Euclidean distance equal to {}'.format(d_c1)\n",
    "else:\n",
    "    print 'The vector x will be affected to the class 2 with an Euclidean distance equal to {}'.format(d_c2)\n",
    "    "
   ]
  },
  {
   "cell_type": "markdown",
   "metadata": {},
   "source": [
    "(e) Complete the following function to compute the Mahalanobis distance. To which class $x$ will be affected using Mahalanobis distance?"
   ]
  },
  {
   "cell_type": "code",
   "execution_count": 13,
   "metadata": {
    "collapsed": false
   },
   "outputs": [],
   "source": [
    "\n",
    "# Define the Mahalanobis distance\n",
    "### cf. check the function numpy.transpose()\n",
    "### cf. check the function numpy.linalg.inv()\n",
    "def MahalanobisDistance(X, mean, cov):\n",
    "    return np.sqrt((X-mean).T*np.linalg.inv(cov)*(X-mean))"
   ]
  },
  {
   "cell_type": "code",
   "execution_count": 15,
   "metadata": {
    "collapsed": false
   },
   "outputs": [
    {
     "name": "stdout",
     "output_type": "stream",
     "text": [
      "The vector x will be affected to the class 2 with an Mahalanobis distance equal to [[ 2.82842712]]\n"
     ]
    }
   ],
   "source": [
    "\n",
    "# Compute the distance between x and each class center\n",
    "d_c1 = MahalanobisDistance(x, mu1, sigma1)\n",
    "d_c2 = MahalanobisDistance(x, mu2, sigma2)\n",
    "\n",
    "if d_c1 < d_c2:\n",
    "    print 'The vector x will be affected to the class 1 with an Mahalanobis distance equal to {}'.format(d_c1)\n",
    "else:\n",
    "    print 'The vector x will be affected to the class 2 with an Mahalanobis distance equal to {}'.format(d_c2)\n",
    "    "
   ]
  },
  {
   "cell_type": "markdown",
   "metadata": {},
   "source": [
    "(f) Generate 50 points from each distribution and plot them."
   ]
  },
  {
   "cell_type": "code",
   "execution_count": 40,
   "metadata": {
    "collapsed": false
   },
   "outputs": [
    {
     "data": {
      "text/html": [
       "\n",
       "\n",
       "<style>\n",
       "\n",
       "</style>\n",
       "\n",
       "<div id=\"fig_el2653140551542055440839036723\"></div>\n",
       "<script>\n",
       "function mpld3_load_lib(url, callback){\n",
       "  var s = document.createElement('script');\n",
       "  s.src = url;\n",
       "  s.async = true;\n",
       "  s.onreadystatechange = s.onload = callback;\n",
       "  s.onerror = function(){console.warn(\"failed to load library \" + url);};\n",
       "  document.getElementsByTagName(\"head\")[0].appendChild(s);\n",
       "}\n",
       "\n",
       "if(typeof(mpld3) !== \"undefined\" && mpld3._mpld3IsLoaded){\n",
       "   // already loaded: just create the figure\n",
       "   !function(mpld3){\n",
       "       \n",
       "       mpld3.draw_figure(\"fig_el2653140551542055440839036723\", {\"axes\": [{\"xlim\": [-1.0, 6.0], \"yscale\": \"linear\", \"axesbg\": \"#FFFFFF\", \"texts\": [{\"v_baseline\": \"auto\", \"h_anchor\": \"start\", \"color\": \"#000000\", \"text\": \"None\", \"coordinates\": \"axes\", \"zorder\": 1000003.0, \"alpha\": 1, \"fontsize\": 10.0, \"position\": [-0.16129032258064516, -0.16129032258064516], \"rotation\": -0.0, \"id\": \"el2653140551539160656\"}, {\"v_baseline\": \"auto\", \"h_anchor\": \"start\", \"color\": \"#000000\", \"text\": \"class1\", \"coordinates\": \"axes\", \"zorder\": 1000003.0, \"alpha\": 1, \"fontsize\": 12.0, \"position\": [0.86122311827956988, 0.91129032258064513], \"rotation\": -0.0, \"id\": \"el2653140551539118864\"}, {\"v_baseline\": \"auto\", \"h_anchor\": \"start\", \"color\": \"#000000\", \"text\": \"class2\", \"coordinates\": \"axes\", \"zorder\": 1000003.0, \"alpha\": 1, \"fontsize\": 12.0, \"position\": [0.86122311827956988, 0.831989247311828], \"rotation\": -0.0, \"id\": \"el2653140551539121232\"}], \"zoomable\": true, \"images\": [], \"xdomain\": [-1.0, 6.0], \"ylim\": [-1.0, 7.0], \"paths\": [{\"edgecolor\": \"#000000\", \"facecolor\": \"#FFFFFF\", \"edgewidth\": 1.0, \"pathcodes\": [\"M\", \"L\", \"L\", \"L\", \"Z\"], \"yindex\": 1, \"coordinates\": \"axes\", \"dasharray\": \"10,0\", \"zorder\": 1000001.0, \"alpha\": 1, \"xindex\": 0, \"data\": \"data04\", \"id\": \"el2653140551539118288\"}], \"sharey\": [], \"sharex\": [], \"axesbgalpha\": null, \"axes\": [{\"scale\": \"linear\", \"tickformat\": null, \"grid\": {\"gridOn\": false}, \"fontsize\": 10.0, \"position\": \"bottom\", \"nticks\": 8, \"tickvalues\": null}, {\"scale\": \"linear\", \"tickformat\": null, \"grid\": {\"gridOn\": false}, \"fontsize\": 10.0, \"position\": \"left\", \"nticks\": 9, \"tickvalues\": null}], \"lines\": [], \"markers\": [{\"edgecolor\": \"#0000FF\", \"facecolor\": \"#0000FF\", \"edgewidth\": 0.5, \"yindex\": 1, \"coordinates\": \"data\", \"zorder\": 2, \"markerpath\": [[[-3.0, 3.0], [3.0, -3.0], [-3.0, -3.0], [3.0, 3.0]], [\"M\", \"L\", \"M\", \"L\"]], \"alpha\": 1, \"xindex\": 0, \"data\": \"data01\", \"id\": \"el2653140551539061456pts\"}, {\"edgecolor\": \"#FF0000\", \"facecolor\": \"#FF0000\", \"edgewidth\": 0.5, \"yindex\": 1, \"coordinates\": \"data\", \"zorder\": 2, \"markerpath\": [[[-3.0, 3.0], [3.0, -3.0], [-3.0, -3.0], [3.0, 3.0]], [\"M\", \"L\", \"M\", \"L\"]], \"alpha\": 1, \"xindex\": 0, \"data\": \"data02\", \"id\": \"el2653140551540067664pts\"}, {\"edgecolor\": \"#0000FF\", \"facecolor\": \"#0000FF\", \"edgewidth\": 0.5, \"yindex\": 1, \"coordinates\": \"axes\", \"zorder\": 1000002.0, \"markerpath\": [[[-3.0, 3.0], [3.0, -3.0], [-3.0, -3.0], [3.0, 3.0]], [\"M\", \"L\", \"M\", \"L\"]], \"alpha\": 1, \"xindex\": 0, \"data\": \"data03\", \"id\": \"el2653140551539120336pts\"}, {\"edgecolor\": \"#FF0000\", \"facecolor\": \"#FF0000\", \"edgewidth\": 0.5, \"yindex\": 2, \"coordinates\": \"axes\", \"zorder\": 1000002.0, \"markerpath\": [[[-3.0, 3.0], [3.0, -3.0], [-3.0, -3.0], [3.0, 3.0]], [\"M\", \"L\", \"M\", \"L\"]], \"alpha\": 1, \"xindex\": 0, \"data\": \"data03\", \"id\": \"el2653140551539159568pts\"}], \"id\": \"el2653140551540066768\", \"ydomain\": [-1.0, 7.0], \"collections\": [], \"xscale\": \"linear\", \"bbox\": [0.125, 0.125, 0.77500000000000002, 0.77500000000000002]}], \"height\": 320.0, \"width\": 480.0, \"plugins\": [{\"type\": \"reset\"}, {\"enabled\": false, \"button\": true, \"type\": \"zoom\"}, {\"enabled\": false, \"button\": true, \"type\": \"boxzoom\"}], \"data\": {\"data04\": [[0.7465277777777778, 0.7983870967741935], [0.982078853046595, 0.7983870967741935], [0.982078853046595, 0.9731182795698926], [0.7465277777777778, 0.9731182795698926]], \"data02\": [[3.51455089460573, 3.1891750819026035], [3.9446179371423735, 3.73383915760568], [4.090103324357992, 3.3386315213597575], [3.730961951895272, 5.337571316978547], [3.9706947692086687, 3.598430278707022], [5.664332542472769, 5.140646295585692], [4.160184921311901, 2.5008821444369023], [4.817196026096103, 3.1231989518582823], [4.958919400399793, 3.731983432656878], [2.477921987501256, 1.9447954299773773], [3.2773072087462998, 4.192545542208716], [3.5317095423389233, 3.971771417937999], [3.85125212075486, 4.465905608631502], [4.035288324088661, 6.16467638565998], [5.689765501865656, 4.557935288731461], [4.130613926482354, 3.5285739454616163], [3.8881241486346947, 2.934700336415924], [3.4582803167191636, 4.18980357173129], [4.045150451987036, 4.837719207166179], [4.053417583746548, 3.2592225102178536], [4.176570341732249, 4.507111917043358], [4.080285391348734, 2.6740744778088965], [4.320382718399036, 3.0493574300542474], [4.6086189868176515, 5.20764697921881], [4.4554467635492685, 6.492809978980064], [5.28356945101416, 4.890359946955926], [3.1110580910579766, 3.1422402746219418], [3.508339695491643, 4.254628416760379], [2.089766395693241, 5.162468622352806], [3.9685643162174635, 4.131375366159324], [4.367073773553249, 3.1025962733832255], [5.946225749867589, 3.287314045143305], [4.173475561681799, 3.133522259359058], [1.4201204396516536, 1.7934792835346074], [5.010802701796116, 4.549033250678398], [4.152426187493411, 4.540669007795453], [3.249357127405221, 3.786192232440264], [3.1652436820535077, 3.946909038964287], [5.057966160778224, 3.650700481044095], [4.56479508303016, 3.2286135061877266], [4.397706837990047, 4.161247049385868], [4.508457784580985, 4.848973545587462], [3.245050433184889, 5.584950632581423], [3.7520027514941723, 2.8008902050337485], [5.639762047192637, 5.312357643922842], [4.118309463070019, 3.917628801562815], [4.506410913675379, 4.508535409463596], [5.165985569997913, 3.9732484269741524], [4.943701875585315, 4.51672523560493], [1.0205196597559203, 3.9509526185346577]], \"data03\": [[0.7716173835125448, 0.9301075268817204, 0.8508064516129032], [0.8217965949820789, 0.9301075268817204, 0.8508064516129032]], \"data01\": [[0.6866408337780708, 1.1520580937180773], [2.0861891653525144, 0.10150894006837852], [1.0141959633075337, 0.8820602470462021], [0.6415627931808833, 1.6345888010925702], [0.8023113282765193, 1.3100971327072137], [0.9445369591506385, 0.5478525190862169], [1.965179694844955, -0.1291253786940465], [1.736902628612217, 0.37269495896911], [1.1007616708651418, 0.7151400735615498], [1.7042364542498487, 0.05275860293138768], [1.0706276107845878, 1.2327258001714556], [1.399776949839964, 0.28350208921758924], [-0.22541270884933828, 1.9666284104670004], [2.0717357440573867, -0.14932986367195955], [0.9091990123723448, 1.3860363698788338], [1.2252506670696213, 1.1210435128580178], [0.39406413436584375, 1.720462187115724], [0.5094833214695744, 1.4167208125070179], [1.6856190030261544, 0.22461665617542337], [0.18557473056866403, 1.0707652406304127], [0.6722045190316581, 1.6854231095933299], [0.7229825533155161, 1.1951089250454126], [1.2544549975163672, 0.71986227989559], [0.49101553993139013, 1.5079568864847719], [0.6656272340124963, 1.4799191413273913], [0.40327091613572796, 1.9154878497651693], [0.5157173211459807, 1.2638079869021506], [1.3995178496488987, 0.7008118404964474], [1.4437548671996212, 0.30282448786519023], [1.1111316148794455, 0.5802550325742979], [-0.09051595238845378, 2.341482644452052], [0.9767545018632479, 1.0290802097887697], [1.0801868988460537, 0.7409865775719209], [-0.20655411262388546, 1.8588465269838115], [0.9286326302456471, 0.6338192265881049], [1.6510856492149169, -0.07632703458686763], [0.389724091431513, 1.6787078306065968], [1.085717607290854, 1.2550131374796316], [1.1005029000655953, 0.9941789528340369], [0.703790732066179, 1.4128045294615414], [1.7175804988759562, -0.018421766074792956], [0.17316409005818434, 2.0852504494232758], [2.7038944800129525, -0.35353443223530556], [1.713899816289049, 0.39879075594921276], [1.0227091984735461, 1.0169090381330006], [0.5106105685485771, 1.685816128955357], [1.1812149129994658, 0.49533170518098735], [1.2888663982512392, 0.568050256165227], [0.057692307370630136, 1.8197073401599368], [1.5922964877653476, 0.4949867047867338]]}, \"id\": \"el2653140551542055440\"});\n",
       "   }(mpld3);\n",
       "}else if(typeof define === \"function\" && define.amd){\n",
       "   // require.js is available: use it to load d3/mpld3\n",
       "   require.config({paths: {d3: \"https://mpld3.github.io/js/d3.v3.min\"}});\n",
       "   require([\"d3\"], function(d3){\n",
       "      window.d3 = d3;\n",
       "      mpld3_load_lib(\"https://mpld3.github.io/js/mpld3.v0.2.js\", function(){\n",
       "         \n",
       "         mpld3.draw_figure(\"fig_el2653140551542055440839036723\", {\"axes\": [{\"xlim\": [-1.0, 6.0], \"yscale\": \"linear\", \"axesbg\": \"#FFFFFF\", \"texts\": [{\"v_baseline\": \"auto\", \"h_anchor\": \"start\", \"color\": \"#000000\", \"text\": \"None\", \"coordinates\": \"axes\", \"zorder\": 1000003.0, \"alpha\": 1, \"fontsize\": 10.0, \"position\": [-0.16129032258064516, -0.16129032258064516], \"rotation\": -0.0, \"id\": \"el2653140551539160656\"}, {\"v_baseline\": \"auto\", \"h_anchor\": \"start\", \"color\": \"#000000\", \"text\": \"class1\", \"coordinates\": \"axes\", \"zorder\": 1000003.0, \"alpha\": 1, \"fontsize\": 12.0, \"position\": [0.86122311827956988, 0.91129032258064513], \"rotation\": -0.0, \"id\": \"el2653140551539118864\"}, {\"v_baseline\": \"auto\", \"h_anchor\": \"start\", \"color\": \"#000000\", \"text\": \"class2\", \"coordinates\": \"axes\", \"zorder\": 1000003.0, \"alpha\": 1, \"fontsize\": 12.0, \"position\": [0.86122311827956988, 0.831989247311828], \"rotation\": -0.0, \"id\": \"el2653140551539121232\"}], \"zoomable\": true, \"images\": [], \"xdomain\": [-1.0, 6.0], \"ylim\": [-1.0, 7.0], \"paths\": [{\"edgecolor\": \"#000000\", \"facecolor\": \"#FFFFFF\", \"edgewidth\": 1.0, \"pathcodes\": [\"M\", \"L\", \"L\", \"L\", \"Z\"], \"yindex\": 1, \"coordinates\": \"axes\", \"dasharray\": \"10,0\", \"zorder\": 1000001.0, \"alpha\": 1, \"xindex\": 0, \"data\": \"data04\", \"id\": \"el2653140551539118288\"}], \"sharey\": [], \"sharex\": [], \"axesbgalpha\": null, \"axes\": [{\"scale\": \"linear\", \"tickformat\": null, \"grid\": {\"gridOn\": false}, \"fontsize\": 10.0, \"position\": \"bottom\", \"nticks\": 8, \"tickvalues\": null}, {\"scale\": \"linear\", \"tickformat\": null, \"grid\": {\"gridOn\": false}, \"fontsize\": 10.0, \"position\": \"left\", \"nticks\": 9, \"tickvalues\": null}], \"lines\": [], \"markers\": [{\"edgecolor\": \"#0000FF\", \"facecolor\": \"#0000FF\", \"edgewidth\": 0.5, \"yindex\": 1, \"coordinates\": \"data\", \"zorder\": 2, \"markerpath\": [[[-3.0, 3.0], [3.0, -3.0], [-3.0, -3.0], [3.0, 3.0]], [\"M\", \"L\", \"M\", \"L\"]], \"alpha\": 1, \"xindex\": 0, \"data\": \"data01\", \"id\": \"el2653140551539061456pts\"}, {\"edgecolor\": \"#FF0000\", \"facecolor\": \"#FF0000\", \"edgewidth\": 0.5, \"yindex\": 1, \"coordinates\": \"data\", \"zorder\": 2, \"markerpath\": [[[-3.0, 3.0], [3.0, -3.0], [-3.0, -3.0], [3.0, 3.0]], [\"M\", \"L\", \"M\", \"L\"]], \"alpha\": 1, \"xindex\": 0, \"data\": \"data02\", \"id\": \"el2653140551540067664pts\"}, {\"edgecolor\": \"#0000FF\", \"facecolor\": \"#0000FF\", \"edgewidth\": 0.5, \"yindex\": 1, \"coordinates\": \"axes\", \"zorder\": 1000002.0, \"markerpath\": [[[-3.0, 3.0], [3.0, -3.0], [-3.0, -3.0], [3.0, 3.0]], [\"M\", \"L\", \"M\", \"L\"]], \"alpha\": 1, \"xindex\": 0, \"data\": \"data03\", \"id\": \"el2653140551539120336pts\"}, {\"edgecolor\": \"#FF0000\", \"facecolor\": \"#FF0000\", \"edgewidth\": 0.5, \"yindex\": 2, \"coordinates\": \"axes\", \"zorder\": 1000002.0, \"markerpath\": [[[-3.0, 3.0], [3.0, -3.0], [-3.0, -3.0], [3.0, 3.0]], [\"M\", \"L\", \"M\", \"L\"]], \"alpha\": 1, \"xindex\": 0, \"data\": \"data03\", \"id\": \"el2653140551539159568pts\"}], \"id\": \"el2653140551540066768\", \"ydomain\": [-1.0, 7.0], \"collections\": [], \"xscale\": \"linear\", \"bbox\": [0.125, 0.125, 0.77500000000000002, 0.77500000000000002]}], \"height\": 320.0, \"width\": 480.0, \"plugins\": [{\"type\": \"reset\"}, {\"enabled\": false, \"button\": true, \"type\": \"zoom\"}, {\"enabled\": false, \"button\": true, \"type\": \"boxzoom\"}], \"data\": {\"data04\": [[0.7465277777777778, 0.7983870967741935], [0.982078853046595, 0.7983870967741935], [0.982078853046595, 0.9731182795698926], [0.7465277777777778, 0.9731182795698926]], \"data02\": [[3.51455089460573, 3.1891750819026035], [3.9446179371423735, 3.73383915760568], [4.090103324357992, 3.3386315213597575], [3.730961951895272, 5.337571316978547], [3.9706947692086687, 3.598430278707022], [5.664332542472769, 5.140646295585692], [4.160184921311901, 2.5008821444369023], [4.817196026096103, 3.1231989518582823], [4.958919400399793, 3.731983432656878], [2.477921987501256, 1.9447954299773773], [3.2773072087462998, 4.192545542208716], [3.5317095423389233, 3.971771417937999], [3.85125212075486, 4.465905608631502], [4.035288324088661, 6.16467638565998], [5.689765501865656, 4.557935288731461], [4.130613926482354, 3.5285739454616163], [3.8881241486346947, 2.934700336415924], [3.4582803167191636, 4.18980357173129], [4.045150451987036, 4.837719207166179], [4.053417583746548, 3.2592225102178536], [4.176570341732249, 4.507111917043358], [4.080285391348734, 2.6740744778088965], [4.320382718399036, 3.0493574300542474], [4.6086189868176515, 5.20764697921881], [4.4554467635492685, 6.492809978980064], [5.28356945101416, 4.890359946955926], [3.1110580910579766, 3.1422402746219418], [3.508339695491643, 4.254628416760379], [2.089766395693241, 5.162468622352806], [3.9685643162174635, 4.131375366159324], [4.367073773553249, 3.1025962733832255], [5.946225749867589, 3.287314045143305], [4.173475561681799, 3.133522259359058], [1.4201204396516536, 1.7934792835346074], [5.010802701796116, 4.549033250678398], [4.152426187493411, 4.540669007795453], [3.249357127405221, 3.786192232440264], [3.1652436820535077, 3.946909038964287], [5.057966160778224, 3.650700481044095], [4.56479508303016, 3.2286135061877266], [4.397706837990047, 4.161247049385868], [4.508457784580985, 4.848973545587462], [3.245050433184889, 5.584950632581423], [3.7520027514941723, 2.8008902050337485], [5.639762047192637, 5.312357643922842], [4.118309463070019, 3.917628801562815], [4.506410913675379, 4.508535409463596], [5.165985569997913, 3.9732484269741524], [4.943701875585315, 4.51672523560493], [1.0205196597559203, 3.9509526185346577]], \"data03\": [[0.7716173835125448, 0.9301075268817204, 0.8508064516129032], [0.8217965949820789, 0.9301075268817204, 0.8508064516129032]], \"data01\": [[0.6866408337780708, 1.1520580937180773], [2.0861891653525144, 0.10150894006837852], [1.0141959633075337, 0.8820602470462021], [0.6415627931808833, 1.6345888010925702], [0.8023113282765193, 1.3100971327072137], [0.9445369591506385, 0.5478525190862169], [1.965179694844955, -0.1291253786940465], [1.736902628612217, 0.37269495896911], [1.1007616708651418, 0.7151400735615498], [1.7042364542498487, 0.05275860293138768], [1.0706276107845878, 1.2327258001714556], [1.399776949839964, 0.28350208921758924], [-0.22541270884933828, 1.9666284104670004], [2.0717357440573867, -0.14932986367195955], [0.9091990123723448, 1.3860363698788338], [1.2252506670696213, 1.1210435128580178], [0.39406413436584375, 1.720462187115724], [0.5094833214695744, 1.4167208125070179], [1.6856190030261544, 0.22461665617542337], [0.18557473056866403, 1.0707652406304127], [0.6722045190316581, 1.6854231095933299], [0.7229825533155161, 1.1951089250454126], [1.2544549975163672, 0.71986227989559], [0.49101553993139013, 1.5079568864847719], [0.6656272340124963, 1.4799191413273913], [0.40327091613572796, 1.9154878497651693], [0.5157173211459807, 1.2638079869021506], [1.3995178496488987, 0.7008118404964474], [1.4437548671996212, 0.30282448786519023], [1.1111316148794455, 0.5802550325742979], [-0.09051595238845378, 2.341482644452052], [0.9767545018632479, 1.0290802097887697], [1.0801868988460537, 0.7409865775719209], [-0.20655411262388546, 1.8588465269838115], [0.9286326302456471, 0.6338192265881049], [1.6510856492149169, -0.07632703458686763], [0.389724091431513, 1.6787078306065968], [1.085717607290854, 1.2550131374796316], [1.1005029000655953, 0.9941789528340369], [0.703790732066179, 1.4128045294615414], [1.7175804988759562, -0.018421766074792956], [0.17316409005818434, 2.0852504494232758], [2.7038944800129525, -0.35353443223530556], [1.713899816289049, 0.39879075594921276], [1.0227091984735461, 1.0169090381330006], [0.5106105685485771, 1.685816128955357], [1.1812149129994658, 0.49533170518098735], [1.2888663982512392, 0.568050256165227], [0.057692307370630136, 1.8197073401599368], [1.5922964877653476, 0.4949867047867338]]}, \"id\": \"el2653140551542055440\"});\n",
       "      });\n",
       "    });\n",
       "}else{\n",
       "    // require.js not available: dynamically load d3 & mpld3\n",
       "    mpld3_load_lib(\"https://mpld3.github.io/js/d3.v3.min.js\", function(){\n",
       "         mpld3_load_lib(\"https://mpld3.github.io/js/mpld3.v0.2.js\", function(){\n",
       "                 \n",
       "                 mpld3.draw_figure(\"fig_el2653140551542055440839036723\", {\"axes\": [{\"xlim\": [-1.0, 6.0], \"yscale\": \"linear\", \"axesbg\": \"#FFFFFF\", \"texts\": [{\"v_baseline\": \"auto\", \"h_anchor\": \"start\", \"color\": \"#000000\", \"text\": \"None\", \"coordinates\": \"axes\", \"zorder\": 1000003.0, \"alpha\": 1, \"fontsize\": 10.0, \"position\": [-0.16129032258064516, -0.16129032258064516], \"rotation\": -0.0, \"id\": \"el2653140551539160656\"}, {\"v_baseline\": \"auto\", \"h_anchor\": \"start\", \"color\": \"#000000\", \"text\": \"class1\", \"coordinates\": \"axes\", \"zorder\": 1000003.0, \"alpha\": 1, \"fontsize\": 12.0, \"position\": [0.86122311827956988, 0.91129032258064513], \"rotation\": -0.0, \"id\": \"el2653140551539118864\"}, {\"v_baseline\": \"auto\", \"h_anchor\": \"start\", \"color\": \"#000000\", \"text\": \"class2\", \"coordinates\": \"axes\", \"zorder\": 1000003.0, \"alpha\": 1, \"fontsize\": 12.0, \"position\": [0.86122311827956988, 0.831989247311828], \"rotation\": -0.0, \"id\": \"el2653140551539121232\"}], \"zoomable\": true, \"images\": [], \"xdomain\": [-1.0, 6.0], \"ylim\": [-1.0, 7.0], \"paths\": [{\"edgecolor\": \"#000000\", \"facecolor\": \"#FFFFFF\", \"edgewidth\": 1.0, \"pathcodes\": [\"M\", \"L\", \"L\", \"L\", \"Z\"], \"yindex\": 1, \"coordinates\": \"axes\", \"dasharray\": \"10,0\", \"zorder\": 1000001.0, \"alpha\": 1, \"xindex\": 0, \"data\": \"data04\", \"id\": \"el2653140551539118288\"}], \"sharey\": [], \"sharex\": [], \"axesbgalpha\": null, \"axes\": [{\"scale\": \"linear\", \"tickformat\": null, \"grid\": {\"gridOn\": false}, \"fontsize\": 10.0, \"position\": \"bottom\", \"nticks\": 8, \"tickvalues\": null}, {\"scale\": \"linear\", \"tickformat\": null, \"grid\": {\"gridOn\": false}, \"fontsize\": 10.0, \"position\": \"left\", \"nticks\": 9, \"tickvalues\": null}], \"lines\": [], \"markers\": [{\"edgecolor\": \"#0000FF\", \"facecolor\": \"#0000FF\", \"edgewidth\": 0.5, \"yindex\": 1, \"coordinates\": \"data\", \"zorder\": 2, \"markerpath\": [[[-3.0, 3.0], [3.0, -3.0], [-3.0, -3.0], [3.0, 3.0]], [\"M\", \"L\", \"M\", \"L\"]], \"alpha\": 1, \"xindex\": 0, \"data\": \"data01\", \"id\": \"el2653140551539061456pts\"}, {\"edgecolor\": \"#FF0000\", \"facecolor\": \"#FF0000\", \"edgewidth\": 0.5, \"yindex\": 1, \"coordinates\": \"data\", \"zorder\": 2, \"markerpath\": [[[-3.0, 3.0], [3.0, -3.0], [-3.0, -3.0], [3.0, 3.0]], [\"M\", \"L\", \"M\", \"L\"]], \"alpha\": 1, \"xindex\": 0, \"data\": \"data02\", \"id\": \"el2653140551540067664pts\"}, {\"edgecolor\": \"#0000FF\", \"facecolor\": \"#0000FF\", \"edgewidth\": 0.5, \"yindex\": 1, \"coordinates\": \"axes\", \"zorder\": 1000002.0, \"markerpath\": [[[-3.0, 3.0], [3.0, -3.0], [-3.0, -3.0], [3.0, 3.0]], [\"M\", \"L\", \"M\", \"L\"]], \"alpha\": 1, \"xindex\": 0, \"data\": \"data03\", \"id\": \"el2653140551539120336pts\"}, {\"edgecolor\": \"#FF0000\", \"facecolor\": \"#FF0000\", \"edgewidth\": 0.5, \"yindex\": 2, \"coordinates\": \"axes\", \"zorder\": 1000002.0, \"markerpath\": [[[-3.0, 3.0], [3.0, -3.0], [-3.0, -3.0], [3.0, 3.0]], [\"M\", \"L\", \"M\", \"L\"]], \"alpha\": 1, \"xindex\": 0, \"data\": \"data03\", \"id\": \"el2653140551539159568pts\"}], \"id\": \"el2653140551540066768\", \"ydomain\": [-1.0, 7.0], \"collections\": [], \"xscale\": \"linear\", \"bbox\": [0.125, 0.125, 0.77500000000000002, 0.77500000000000002]}], \"height\": 320.0, \"width\": 480.0, \"plugins\": [{\"type\": \"reset\"}, {\"enabled\": false, \"button\": true, \"type\": \"zoom\"}, {\"enabled\": false, \"button\": true, \"type\": \"boxzoom\"}], \"data\": {\"data04\": [[0.7465277777777778, 0.7983870967741935], [0.982078853046595, 0.7983870967741935], [0.982078853046595, 0.9731182795698926], [0.7465277777777778, 0.9731182795698926]], \"data02\": [[3.51455089460573, 3.1891750819026035], [3.9446179371423735, 3.73383915760568], [4.090103324357992, 3.3386315213597575], [3.730961951895272, 5.337571316978547], [3.9706947692086687, 3.598430278707022], [5.664332542472769, 5.140646295585692], [4.160184921311901, 2.5008821444369023], [4.817196026096103, 3.1231989518582823], [4.958919400399793, 3.731983432656878], [2.477921987501256, 1.9447954299773773], [3.2773072087462998, 4.192545542208716], [3.5317095423389233, 3.971771417937999], [3.85125212075486, 4.465905608631502], [4.035288324088661, 6.16467638565998], [5.689765501865656, 4.557935288731461], [4.130613926482354, 3.5285739454616163], [3.8881241486346947, 2.934700336415924], [3.4582803167191636, 4.18980357173129], [4.045150451987036, 4.837719207166179], [4.053417583746548, 3.2592225102178536], [4.176570341732249, 4.507111917043358], [4.080285391348734, 2.6740744778088965], [4.320382718399036, 3.0493574300542474], [4.6086189868176515, 5.20764697921881], [4.4554467635492685, 6.492809978980064], [5.28356945101416, 4.890359946955926], [3.1110580910579766, 3.1422402746219418], [3.508339695491643, 4.254628416760379], [2.089766395693241, 5.162468622352806], [3.9685643162174635, 4.131375366159324], [4.367073773553249, 3.1025962733832255], [5.946225749867589, 3.287314045143305], [4.173475561681799, 3.133522259359058], [1.4201204396516536, 1.7934792835346074], [5.010802701796116, 4.549033250678398], [4.152426187493411, 4.540669007795453], [3.249357127405221, 3.786192232440264], [3.1652436820535077, 3.946909038964287], [5.057966160778224, 3.650700481044095], [4.56479508303016, 3.2286135061877266], [4.397706837990047, 4.161247049385868], [4.508457784580985, 4.848973545587462], [3.245050433184889, 5.584950632581423], [3.7520027514941723, 2.8008902050337485], [5.639762047192637, 5.312357643922842], [4.118309463070019, 3.917628801562815], [4.506410913675379, 4.508535409463596], [5.165985569997913, 3.9732484269741524], [4.943701875585315, 4.51672523560493], [1.0205196597559203, 3.9509526185346577]], \"data03\": [[0.7716173835125448, 0.9301075268817204, 0.8508064516129032], [0.8217965949820789, 0.9301075268817204, 0.8508064516129032]], \"data01\": [[0.6866408337780708, 1.1520580937180773], [2.0861891653525144, 0.10150894006837852], [1.0141959633075337, 0.8820602470462021], [0.6415627931808833, 1.6345888010925702], [0.8023113282765193, 1.3100971327072137], [0.9445369591506385, 0.5478525190862169], [1.965179694844955, -0.1291253786940465], [1.736902628612217, 0.37269495896911], [1.1007616708651418, 0.7151400735615498], [1.7042364542498487, 0.05275860293138768], [1.0706276107845878, 1.2327258001714556], [1.399776949839964, 0.28350208921758924], [-0.22541270884933828, 1.9666284104670004], [2.0717357440573867, -0.14932986367195955], [0.9091990123723448, 1.3860363698788338], [1.2252506670696213, 1.1210435128580178], [0.39406413436584375, 1.720462187115724], [0.5094833214695744, 1.4167208125070179], [1.6856190030261544, 0.22461665617542337], [0.18557473056866403, 1.0707652406304127], [0.6722045190316581, 1.6854231095933299], [0.7229825533155161, 1.1951089250454126], [1.2544549975163672, 0.71986227989559], [0.49101553993139013, 1.5079568864847719], [0.6656272340124963, 1.4799191413273913], [0.40327091613572796, 1.9154878497651693], [0.5157173211459807, 1.2638079869021506], [1.3995178496488987, 0.7008118404964474], [1.4437548671996212, 0.30282448786519023], [1.1111316148794455, 0.5802550325742979], [-0.09051595238845378, 2.341482644452052], [0.9767545018632479, 1.0290802097887697], [1.0801868988460537, 0.7409865775719209], [-0.20655411262388546, 1.8588465269838115], [0.9286326302456471, 0.6338192265881049], [1.6510856492149169, -0.07632703458686763], [0.389724091431513, 1.6787078306065968], [1.085717607290854, 1.2550131374796316], [1.1005029000655953, 0.9941789528340369], [0.703790732066179, 1.4128045294615414], [1.7175804988759562, -0.018421766074792956], [0.17316409005818434, 2.0852504494232758], [2.7038944800129525, -0.35353443223530556], [1.713899816289049, 0.39879075594921276], [1.0227091984735461, 1.0169090381330006], [0.5106105685485771, 1.685816128955357], [1.1812149129994658, 0.49533170518098735], [1.2888663982512392, 0.568050256165227], [0.057692307370630136, 1.8197073401599368], [1.5922964877653476, 0.4949867047867338]]}, \"id\": \"el2653140551542055440\"});\n",
       "            })\n",
       "         });\n",
       "}\n",
       "</script>"
      ],
      "text/plain": [
       "<IPython.core.display.HTML object>"
      ]
     },
     "execution_count": 40,
     "metadata": {},
     "output_type": "execute_result"
    }
   ],
   "source": [
    "\n",
    "### cf. check the function numpy.random.multivariate_normal()\n",
    "### cf. check the function np.asarray()\n",
    "### cf. check the function np.squeeze()\n",
    "\n",
    "# Generate the two distributions\n",
    "### Use the function np.random.multivariate_normal() and transpose\n",
    "x_d1, y_d1 = np.random.multivariate_normal(np.squeeze(np.asarray(mu1)), np.squeeze(np.asarray(sigma1)), 50).T \n",
    "#print np.random.multivariate_normal(np.squeeze(np.asarray(mu1)), np.squeeze(np.asarray(sigma1)), 50).T\n",
    "x_d2, y_d2 = np.random.multivariate_normal(np.squeeze(np.asarray(mu2)), np.squeeze(np.asarray(sigma2)), 50).T \n",
    "\n",
    "# Plot the distributions\n",
    "fig = plt.figure()\n",
    "plt.plot(x_d1, y_d1, 'xb', label='class1')\n",
    "plt.plot(x_d2, y_d2, 'xr', label='class2')\n",
    "\n",
    "plt.legend()\n",
    "\n",
    "mpld3.display(fig)\n"
   ]
  },
  {
   "cell_type": "markdown",
   "metadata": {},
   "source": [
    "(g) Estimate the mean and covariance from the samples generated and compare with their theoritical values and comments briefly."
   ]
  },
  {
   "cell_type": "code",
   "execution_count": 44,
   "metadata": {
    "collapsed": false
   },
   "outputs": [
    {
     "name": "stdout",
     "output_type": "stream",
     "text": [
      "First class statistics: mean = 0.984951086012 and covariance = [[ 0.39568545 -0.38920657]\n",
      " [-0.38920657  0.44896277]]\n",
      "Second class statistics: mean = 4.03147008618 and covariance = [[ 0.96499502  0.24829663]\n",
      " [ 0.24829663  0.98824901]]\n"
     ]
    }
   ],
   "source": [
    "\n",
    "### cf. check the function numpy.mean()\n",
    "### cf. check the function numpy.cov()\n",
    "\n",
    "# Estimation of the mean and std of the first class\n",
    "est_mean_d1 = np.mean([x_d1, y_d1])\n",
    "est_cov_d1 = np.cov([x_d1, y_d1])\n",
    "\n",
    "# Estimation of the mean and std of the second class\n",
    "est_mean_d2 = np.mean([x_d2, y_d2])\n",
    "est_cov_d2 = np.cov([x_d2, y_d2])\n",
    "\n",
    "print 'First class statistics: mean = {} and covariance = {}'.format(est_mean_d1, est_cov_d1)\n",
    "print 'Second class statistics: mean = {} and covariance = {}'.format(est_mean_d2, est_cov_d2)\n"
   ]
  },
  {
   "cell_type": "markdown",
   "metadata": {},
   "source": [
    "(h) Now, generate 1000 points and retry the experiments of (d) and (e)."
   ]
  },
  {
   "cell_type": "code",
   "execution_count": 46,
   "metadata": {
    "collapsed": false
   },
   "outputs": [
    {
     "name": "stdout",
     "output_type": "stream",
     "text": [
      "First class statistics: mean = 1.00602032438 and covariance = [[ 0.45471022 -0.41041105]\n",
      " [-0.41041105  0.46151201]]\n",
      "Second class statistics: mean = 4.01130671631 and covariance = [[ 0.91734061 -0.00304883]\n",
      " [-0.00304883  0.96004571]]\n"
     ]
    },
    {
     "data": {
      "text/html": [
       "\n",
       "\n",
       "<style>\n",
       "\n",
       "</style>\n",
       "\n",
       "<div id=\"fig_el26531405515845806886302902368\"></div>\n",
       "<script>\n",
       "function mpld3_load_lib(url, callback){\n",
       "  var s = document.createElement('script');\n",
       "  s.src = url;\n",
       "  s.async = true;\n",
       "  s.onreadystatechange = s.onload = callback;\n",
       "  s.onerror = function(){console.warn(\"failed to load library \" + url);};\n",
       "  document.getElementsByTagName(\"head\")[0].appendChild(s);\n",
       "}\n",
       "\n",
       "if(typeof(mpld3) !== \"undefined\" && mpld3._mpld3IsLoaded){\n",
       "   // already loaded: just create the figure\n",
       "   !function(mpld3){\n",
       "       \n",
       "       mpld3.draw_figure(\"fig_el26531405515845806886302902368\", {\"axes\": [{\"xlim\": [-2.0, 8.0], \"yscale\": \"linear\", \"axesbg\": \"#FFFFFF\", \"texts\": [{\"v_baseline\": \"auto\", \"h_anchor\": \"start\", \"color\": \"#000000\", \"text\": \"None\", \"coordinates\": \"axes\", \"zorder\": 1000003.0, \"alpha\": 1, \"fontsize\": 10.0, \"position\": [-0.16129032258064516, -0.16129032258064516], \"rotation\": -0.0, \"id\": \"el2653140551538452368\"}, {\"v_baseline\": \"auto\", \"h_anchor\": \"start\", \"color\": \"#000000\", \"text\": \"class1\", \"coordinates\": \"axes\", \"zorder\": 1000003.0, \"alpha\": 1, \"fontsize\": 12.0, \"position\": [0.86122311827956988, 0.91129032258064513], \"rotation\": -0.0, \"id\": \"el2653140551538406480\"}, {\"v_baseline\": \"auto\", \"h_anchor\": \"start\", \"color\": \"#000000\", \"text\": \"class2\", \"coordinates\": \"axes\", \"zorder\": 1000003.0, \"alpha\": 1, \"fontsize\": 12.0, \"position\": [0.86122311827956988, 0.831989247311828], \"rotation\": -0.0, \"id\": \"el2653140551538408848\"}], \"zoomable\": true, \"images\": [], \"xdomain\": [-2.0, 8.0], \"ylim\": [-1.0, 8.0], \"paths\": [{\"edgecolor\": \"#000000\", \"facecolor\": \"#FFFFFF\", \"edgewidth\": 1.0, \"pathcodes\": [\"M\", \"L\", \"L\", \"L\", \"Z\"], \"yindex\": 1, \"coordinates\": \"axes\", \"dasharray\": \"10,0\", \"zorder\": 1000001.0, \"alpha\": 1, \"xindex\": 0, \"data\": \"data04\", \"id\": \"el2653140551538405904\"}], \"sharey\": [], \"sharex\": [], \"axesbgalpha\": null, \"axes\": [{\"scale\": \"linear\", \"tickformat\": null, \"grid\": {\"gridOn\": false}, \"fontsize\": 10.0, \"position\": \"bottom\", \"nticks\": 6, \"tickvalues\": null}, {\"scale\": \"linear\", \"tickformat\": null, \"grid\": {\"gridOn\": false}, \"fontsize\": 10.0, \"position\": \"left\", \"nticks\": 10, \"tickvalues\": null}], \"lines\": [], \"markers\": [{\"edgecolor\": \"#0000FF\", \"facecolor\": \"#0000FF\", \"edgewidth\": 0.5, \"yindex\": 1, \"coordinates\": \"data\", \"zorder\": 2, \"markerpath\": [[[-3.0, 3.0], [3.0, -3.0], [-3.0, -3.0], [3.0, 3.0]], [\"M\", \"L\", \"M\", \"L\"]], \"alpha\": 1, \"xindex\": 0, \"data\": \"data01\", \"id\": \"el2653140551538353168pts\"}, {\"edgecolor\": \"#FF0000\", \"facecolor\": \"#FF0000\", \"edgewidth\": 0.5, \"yindex\": 1, \"coordinates\": \"data\", \"zorder\": 2, \"markerpath\": [[[-3.0, 3.0], [3.0, -3.0], [-3.0, -3.0], [3.0, 3.0]], [\"M\", \"L\", \"M\", \"L\"]], \"alpha\": 1, \"xindex\": 0, \"data\": \"data02\", \"id\": \"el2653140551538912720pts\"}, {\"edgecolor\": \"#0000FF\", \"facecolor\": \"#0000FF\", \"edgewidth\": 0.5, \"yindex\": 1, \"coordinates\": \"axes\", \"zorder\": 1000002.0, \"markerpath\": [[[-3.0, 3.0], [3.0, -3.0], [-3.0, -3.0], [3.0, 3.0]], [\"M\", \"L\", \"M\", \"L\"]], \"alpha\": 1, \"xindex\": 0, \"data\": \"data03\", \"id\": \"el2653140551538407952pts\"}, {\"edgecolor\": \"#FF0000\", \"facecolor\": \"#FF0000\", \"edgewidth\": 0.5, \"yindex\": 2, \"coordinates\": \"axes\", \"zorder\": 1000002.0, \"markerpath\": [[[-3.0, 3.0], [3.0, -3.0], [-3.0, -3.0], [3.0, 3.0]], [\"M\", \"L\", \"M\", \"L\"]], \"alpha\": 1, \"xindex\": 0, \"data\": \"data03\", \"id\": \"el2653140551538451280pts\"}], \"id\": \"el2653140551538911888\", \"ydomain\": [-1.0, 8.0], \"collections\": [], \"xscale\": \"linear\", \"bbox\": [0.125, 0.125, 0.77500000000000002, 0.77500000000000002]}], \"height\": 320.0, \"width\": 480.0, \"plugins\": [{\"type\": \"reset\"}, {\"enabled\": false, \"button\": true, \"type\": \"zoom\"}, {\"enabled\": false, \"button\": true, \"type\": \"boxzoom\"}], \"data\": {\"data04\": [[0.7465277777777778, 0.7983870967741935], [0.982078853046595, 0.7983870967741935], [0.982078853046595, 0.9731182795698926], [0.7465277777777778, 0.9731182795698926]], \"data02\": [[2.3109093641600613, 4.324907578082301], [5.022014367380573, 2.3205391561937887], [3.1468646280604253, 4.736275387548077], [3.653574119788859, 3.780087834302052], [5.17887973733488, 2.7621763545636213], [4.633040816719562, 3.205967157527449], [4.110712459931281, 3.981961560189024], [3.4838020599407375, 5.62735684910025], [5.541497948657315, 4.070390475637231], [3.097181274501185, 3.759027140591996], [2.8148119775653972, 3.728350345584599], [4.4647439479823445, 4.073361855790437], [4.144861270733327, 3.282363183706272], [5.760520254890299, 3.8137707426128804], [3.6061259109673127, 5.096555354329547], [3.622440377042114, 2.8782812320076014], [5.741575931262502, 4.506751196688439], [3.392918665006076, 3.2133865172468488], [4.128433996984332, 3.361298770007001], [3.3663755255704038, 1.8632476994555431], [2.424636402754737, 3.6212725618120634], [4.748348211304876, 2.4559405292592427], [4.337416414719392, 4.169579791388476], [3.7404760221148092, 4.618011194475729], [3.9177277352707645, 5.001628775747927], [5.458326548467359, 3.60960828537846], [5.579412636425973, 2.9512122523438533], [3.2591616718875467, 4.010865635017966], [2.9902058377688836, 4.619433639537814], [3.6328072646153675, 2.47153021767023], [3.8403870835014633, 5.715957036903854], [4.497787960806188, 3.9494827709301137], [1.9380521178952383, 3.42090944003746], [4.885874276526922, 4.925767955174225], [3.2561951349205867, 3.4356184280016904], [3.573126864681103, 4.3371803129391635], [5.029255354063969, 4.289289967133673], [3.837706086837671, 4.299696378792122], [3.7196152321643416, 3.6319360206383413], [1.9375666429210572, 3.643090850911524], [3.481947162374082, 4.4024927967729415], [2.572005883442422, 4.341154700245251], [4.360925628754199, 4.86845756153836], [3.3320231967425915, 3.9681232653917453], [2.053691475618619, 5.03640475858059], [3.5775384205868646, 3.344878061648117], [2.9297744123024314, 2.787347375468937], [5.319758212094512, 4.713907013015485], [4.586007879828954, 2.99426104268387], [3.523276723273856, 4.054247667773872], [3.7742380097696295, 4.181189195671644], [2.8053055276598053, 3.5621611663908377], [4.903485303001677, 4.588579810525589], [5.279671995509107, 4.896678934773427], [2.650724100195834, 3.6676053789669973], [3.911481189311461, 3.0070121253948137], [4.124221910166, 3.53291187605834], [4.223966120538985, 2.950583952775644], [2.942397605379875, 5.7865932403662415], [2.70595129887258, 5.060806547285305], [4.120578160037159, 1.483291009173748], [4.202218068318533, 3.357573455196459], [3.480496717468685, 3.4101960162500484], [3.827708748305758, 4.798626294873112], [4.076919356190409, 3.9133084871724835], [4.772705452327075, 4.170698011545326], [1.834340122804179, 4.436186966554655], [4.4048488217878505, 2.95110375260649], [3.762441092083168, 2.5338696489157395], [5.179193488196435, 5.846863477348168], [4.877178464074497, 4.103854697315189], [4.048093597109149, 4.046843585722223], [3.360836546443199, 4.294872462765098], [4.897300468893626, 4.471086071450706], [3.7699134029021204, 5.55060358465763], [4.400473700652761, 3.3661759620268312], [4.337651999476438, 3.576089153404849], [3.401255828032137, 2.763571041443753], [4.186827546461209, 5.111113999889698], [5.526792290907531, 4.5997215557547895], [3.908176440280555, 3.660827191645598], [4.792829873545781, 4.023163219129948], [3.892538238699412, 3.7491208292262646], [4.122695300107408, 4.277255098144896], [2.682282246996685, 4.231400732849936], [4.261156039116062, 2.8924671287929344], [4.228862738067031, 4.6311884861207275], [4.1299822523193646, 4.310241562190546], [3.7894479591148333, 4.147625765260794], [4.565775762246458, 2.578160285807546], [3.905499670869461, 4.28667513840399], [3.108193489980469, 3.1327450418638074], [3.9625381243395403, 4.756315290995454], [3.9731778678583836, 4.4269755747908155], [4.651448363122527, 2.8332206750247306], [2.871162023829154, 5.677624937990142], [4.727379358699189, 4.527072311861714], [5.917444013549529, 3.7079421832582846], [5.999864132935425, 5.077339182377896], [2.9101602223352003, 3.6205535899755943], [4.622730478252955, 4.517689319675957], [3.630208720565673, 5.576957993755872], [3.6744480719373662, 4.0925250651819445], [4.247663371568276, 2.954645960102579], [4.119044585509802, 4.8510557550729825], [3.432027185790501, 3.564229512253997], [4.386029488848143, 3.7541324173958808], [4.671431576499689, 3.5449308304205127], [3.618565078340513, 4.626505136969919], [2.360318035285921, 2.5637103326940673], [5.132401390610135, 3.7094477484903248], [4.41284624270482, 5.017514105022635], [2.843180730681958, 3.9497088144066606], [2.5810451313733003, 3.4260805953037363], [5.226311895154599, 3.177601886937266], [3.866921451266568, 2.9378707302303706], [5.299874874914261, 3.626835618409291], [4.235099529158939, 4.111461579654123], [5.981305646246422, 3.948630786672077], [2.6288411213990495, 4.199601149898399], [4.495797553833406, 2.9361149780950475], [6.03102777019324, 3.57729630849551], [4.321625117603864, 5.829303584886212], [3.389953471231157, 3.795713214114079], [2.8961161297534117, 4.3597430298798], [4.641247020194478, 4.263852784394996], [1.5697996701775625, 3.5568349921833895], [3.5498287367981267, 4.33039188386781], [2.2487563628729683, 5.446450229740716], [4.2545022652784406, 5.007568040235118], [4.28273288547588, 2.8355658531329646], [4.34576262140251, 2.529587582835656], [4.260574322302179, 5.243817859836782], [4.433151806409658, 3.1878858859974204], [5.464877713091017, 7.500947502908598], [4.572883289069136, 3.2816023823505898], [4.162848141817287, 4.909127082279054], [3.6136952695598925, 4.364970270256361], [4.041950418490187, 3.1060438988854724], [3.68131055259115, 3.092306963911246], [4.495669127911779, 3.433663746891722], [4.498090702213483, 3.249955557379093], [4.899965099233744, 3.14597663374213], [3.8972679923351565, 4.674329438787084], [3.7146974254302174, 4.218544287083589], [3.2381690793542717, 4.735277136843271], [4.7569821285801455, 4.287971751378535], [3.8162759904023735, 3.971203732965096], [3.126986618154607, 2.94506787498435], [3.199755872900409, 3.9398731622862706], [2.9597753343060464, 2.694691565218255], [2.4798663614969936, 3.9036378300058936], [5.050873636303067, 2.433838977077164], [4.218914765855349, 5.167911156356396], [3.6243743993386945, 4.576946433042544], [3.6391908184622204, 2.521568538063545], [3.884440537481562, 3.911603057561778], [4.406733718080024, 3.509408278408754], [1.2182046527776698, 4.0700923874180495], [4.308325354442264, 3.7509798629355955], [4.443567301525821, 2.882769421896726], [5.228291679461397, 3.4935340864366218], [3.90236719671323, 6.273180938593003], [3.938540029602712, 3.890967478785736], [4.7437140460434915, 4.504928902450525], [3.5661438019982272, 3.4922007690376287], [3.3371038792053875, 2.9687088155018007], [2.109197254737417, 2.959277492011956], [4.870485593397251, 3.72318974829046], [3.940395035155051, 5.594888817148384], [4.029480724341221, 5.095501340679929], [3.5529785484467418, 4.9798879950899915], [3.9815743890512407, 3.3868050747127385], [4.1329064157319895, 5.070351627470644], [2.640116965115717, 3.323310130818609], [4.775898744231237, 3.016580562372942], [3.383417061841345, 3.332775061732749], [4.971723543715024, 4.54442464316994], [3.5516269561715075, 2.398292466727682], [3.4449030632489, 3.4238568765642885], [2.1795985185674285, 4.11802800238248], [4.2811877197857235, 3.6121745331455104], [3.621202412518376, 3.006735852885756], [3.5151150848335466, 5.331849175693629], [2.158941868363851, 3.139702597359261], [4.159771414839689, 4.057218317849999], [3.2960598588153065, 4.405311826315413], [3.279532837750353, 5.686424261455623], [4.294493888000178, 3.6734841876873885], [3.4573890682483133, 3.8964335895643165], [3.0611209500921603, 4.794811268407653], [3.444428285177364, 3.5823601014441326], [4.879978492184085, 6.369159784154013], [4.887297551584344, 4.775454629690928], [3.2401934152046152, 2.9575777470687212], [4.8327078873089855, 1.9458304475468173], [5.450719627496904, 3.5671794877451757], [3.820356952906766, 4.70146046135678], [3.157469837546794, 5.142204816877565], [4.270937518596882, 4.995799072010719], [3.887463737222519, 3.5325293423160593], [5.251229250108375, 4.047654970220168], [3.7739607039559138, 4.328902453063843], [5.276973972767571, 3.905631401093915], [3.9269340082706004, 5.120281937308647], [2.318459062684223, 5.530805801969544], [2.663241781884687, 5.202110800360031], [4.45326188208191, 3.747171756163228], [3.744860668709959, 3.912639239234925], [4.637338518414329, 6.098778895158161], [2.61703501481242, 5.598715711432094], [4.578389589433155, 4.78080305207405], [4.52459809051632, 3.7485292919781577], [3.8640735953254572, 1.6953896853397445], [3.982244615526176, 3.68050732113109], [5.568460264743918, 3.9950416186787847], [2.8074361884457093, 2.8280318385326852], [3.384062838671352, 4.878953242928237], [3.2218494248387826, 4.023935684845945], [3.0799919191947325, 6.789662067419549], [5.0001933603337925, 4.7045187394492585], [4.8653736327409485, 3.997068032099466], [4.669836932731792, 4.2012721040016725], [2.3796687460834622, 5.869520201722331], [3.32844824532445, 4.0438044496976415], [4.661419305305311, 4.808559158496308], [3.004298562212366, 2.370577430002059], [5.38201063217258, 3.0869665473666683], [3.6027023230942317, 4.0058832426288635], [4.5628920726463305, 5.505975778310747], [3.8149685659092882, 2.8288744116625315], [3.6405684725688716, 4.874304425653229], [4.766486671077206, 4.1633260841800634], [4.084730462788818, 3.15551028357676], [4.165078202508093, 5.185070901215217], [4.1549325421252705, 4.438572539320669], [4.117561135650566, 4.371925839634235], [3.898021655981729, 4.122338989981294], [4.03499782384138, 4.166448453371268], [4.073998196550147, 3.850198222360322], [4.8428579484551975, 3.1453153672737164], [3.5070121570953043, 4.333414373401346], [4.326544374002303, 2.698464755360013], [3.98945455246382, 5.30923732924833], [4.017868995493477, 4.306563999200038], [5.214648958501353, 3.0957161377752347], [2.604534112867853, 4.180788564796936], [4.944918126443701, 5.523815565675266], [5.697403267126269, 3.974918304759833], [4.557797535115691, 3.6560547722434595], [2.846735442138706, 3.6132549601275334], [2.8004567165422434, 4.678952156723613], [4.0771499345664735, 6.142781420405559], [2.5029409061645866, 4.5591397567580065], [2.5706558704383964, 3.648893528009026], [4.347666753390579, 4.766656410605644], [4.593290469496377, 4.747794463575577], [3.0511769220713125, 3.1699028416629886], [3.0416875363508304, 4.492599296143076], [5.40227477753423, 3.1187960363723346], [2.8424367289463364, 4.85688728518417], [4.886460048954568, 3.04947354827899], [4.498775341438684, 4.20681460942043], [6.315310129986198, 3.164709188673276], [2.9408202623850332, 4.926461483066868], [4.585077351083753, 4.580461618085608], [4.864202721776112, 3.2673513469909112], [5.139317770604702, 2.9304659080774944], [3.1015290135998637, 3.748035113873416], [3.0159761348855927, 5.270960096995061], [3.541569176448831, 4.538513530993665], [3.9413888330358513, 5.459051522973155], [4.192846561746412, 3.8744863482238463], [4.505033221904425, 4.539747962779547], [3.117479354137874, 4.479482297239498], [3.4286650770570155, 3.3359464142982214], [1.7899170446211068, 3.8423756869639454], [2.391968703557569, 3.936613660044964], [3.184213606217778, 4.585579409822674], [3.6346891172182527, 3.879005343925174], [4.386148074255489, 4.064534693496927], [4.169634352876492, 2.8853950763654117], [3.281123430494206, 3.613560163170243], [4.842550137779049, 2.6285733294243263], [4.185798545200868, 4.1932013133225094], [6.093604975887985, 1.9312298664384167], [4.3703115118506, 4.224418372487496], [3.908532675256777, 4.843290471082485], [3.749891952283248, 2.7566956152075974], [5.687060464606149, 3.647722617482993], [4.433864677901698, 4.292636969470814], [3.4928500309485755, 4.41046530397799], [3.9668541665929697, 5.052605316727482], [2.7453494349438854, 5.388730707109318], [3.120291473453798, 4.19530531837699], [2.9255999142338216, 4.1362978938791715], [4.427197338144119, 4.034914131965726], [4.428102175355081, 5.042133325997414], [5.168645818464912, 3.884737054831558], [2.3125850403862165, 3.455182990237051], [3.969054917115601, 2.9780248070746675], [4.8664936914191275, 5.69410092600453], [5.02278435217819, 3.5101093733096964], [5.164544531993792, 3.0688959804908214], [3.66199020265423, 4.165146583497093], [3.4041398735416957, 2.2386664151817497], [3.199351938209231, 4.489526704264897], [3.2254876132798342, 3.257224772231094], [3.470914456406432, 2.8199704767204885], [2.436229506342273, 5.046074356702862], [3.4762278136712172, 4.224277122934166], [3.7809582051634796, 3.82246895308863], [3.0214347978869514, 5.056580113979125], [5.273673128637478, 4.3064366269806795], [4.636108193110135, 4.648113438454406], [4.037850990780535, 4.838208126943476], [3.915458324548681, 5.865517438197976], [3.7421883576859356, 3.9201707347917414], [3.96319569084004, 4.401574392652881], [3.2316080829285054, 3.815740778945614], [4.958980883699654, 4.123485276876077], [3.981284503821882, 4.197199527017824], [3.667332860067798, 4.822524354381993], [2.6324718909400704, 4.441307822667574], [3.5293443225728063, 4.330945800514283], [4.842481723078199, 3.6959709445498885], [5.166537213266771, 3.224671150201395], [3.709087810174488, 4.1021748724740705], [4.237260972237842, 3.6541315400596592], [3.531267876549528, 5.546993405346176], [4.18740923269713, 5.365053885777408], [3.405094210801712, 5.512757142353138], [3.7015946924305045, 4.460158338157125], [4.053234610873351, 4.494733004941017], [4.354606682407761, 2.925173847470882], [4.457328413948469, 4.5038731732582695], [5.640929659171523, 5.060395620299609], [2.873635729622357, 3.4820464330199603], [4.427506524408261, 4.076844317947971], [3.738403795829956, 4.194897640015639], [2.8933363619361243, 4.2973461212293005], [3.5997363648424368, 4.581457821873112], [2.9279998256661344, 2.8680085761714142], [3.3965565512356406, 3.0110258314346168], [4.202318152161535, 5.788199305201072], [3.44340783433878, 4.704448619737944], [4.5626140637263495, 3.3087534720530813], [4.998866042975011, 2.534679718268707], [4.98435202292318, 4.748132264988962], [3.659793711113456, 3.1193534363474775], [4.0496657029607155, 4.54259125957312], [3.709175585238977, 3.889299028934491], [3.215593603923487, 5.409855043396738], [3.7058398449303707, 4.240722503247001], [3.4252234739679728, 3.4122111606179284], [4.8426807293628, 3.4913405574909047], [3.371558842737878, 3.427539446290771], [4.0970853754244185, 4.111274050894226], [3.3935534606385533, 6.136819069230513], [4.551156692514795, 4.6043932553853955], [4.311574430305487, 2.819329757671961], [3.2734398895608035, 4.5068372005843225], [4.478530557509133, 2.979349000493227], [3.649082877518287, 3.779058638700308], [3.2317122997644177, 5.173541088854028], [4.231108711902336, 4.8003192904524585], [4.593964500234961, 3.648391694057156], [4.501263418356993, 3.7531637438669576], [5.108974649491012, 5.359172984399889], [3.315594206900112, 5.685778245284094], [2.633052134275512, 4.436642452300433], [4.282731658200304, 3.4011445354246423], [3.1704240855806853, 4.096508691975354], [6.248494974264471, 4.2175950120808245], [4.422511311127588, 5.039877600860113], [2.2678466904356007, 4.862615614437393], [4.0808368420704175, 3.4467613983901257], [4.530639025009146, 4.649894154282787], [3.728298249806945, 3.2373797413375858], [4.722041791565499, 4.679277795697969], [5.3683276367915465, 3.8637714116936586], [2.3484504928887695, 4.0066487388777885], [3.5093784778676844, 3.0519897440140102], [3.348001366934284, 2.78408248011241], [2.548530067391108, 4.908025058512809], [3.3214933168211873, 3.951671581826028], [3.7529038019701284, 3.914152945192915], [3.34893353651247, 3.5033003163104044], [4.229811980034601, 2.185838683451398], [3.6228430776281924, 5.332845791676578], [3.805864378291621, 1.852937780129281], [2.5153706766570414, 3.908158423659835], [2.6621150638362234, 4.490319787106055], [2.7441276474901466, 3.640144198408702], [2.2531800469289007, 4.6981298882714775], [4.6187075728903695, 5.003164904134401], [3.625249135397486, 2.9570399519841444], [2.606315933693786, 5.48443641610762], [3.3986302393605126, 6.164534747205892], [3.373627685717727, 6.116764235651831], [1.304362473221873, 3.6519207090544104], [5.692590656689016, 3.355180674569787], [4.027565034972555, 4.2581878056177205], [3.3594370132449423, 4.79781290724754], [4.226880061102002, 3.795510721530561], [4.162971848403719, 5.771332265733728], [3.747030225212787, 4.446555950350237], [3.9263545202941175, 5.504214110084559], [5.070830237031165, 3.8795071734647872], [3.8620630754668017, 3.83600995593277], [4.694125033754889, 2.860846951813036], [4.626293924976588, 5.537137658281465], [4.447409393798461, 4.182847360084554], [4.413919552162094, 3.3110794283182248], [4.407894580869999, 4.590215866973266], [2.3098485844313528, 6.314445561433638], [3.8230357485814137, 4.758570377079414], [4.026016417863601, 3.0919741066228745], [3.334742839425658, 4.219723338344859], [3.8966277023568767, 4.953737001880447], [3.3514076263562416, 2.8988937964553116], [4.73526042806978, 2.5695512863395766], [2.9933528597851162, 4.347566308435458], [3.754815420759823, 1.9284004295537986], [3.770455639215792, 3.9510833194525943], [3.0609699581570444, 2.527540780394056], [3.815674679039139, 3.9790639967736965], [4.490723516437456, 3.731401895162963], [4.917307742620091, 3.8706249716169427], [4.681682570018214, 5.3599154383320124], [3.774860099649394, 5.3206362411125445], [3.5848724878599376, 5.2768023439694405], [5.282108742260304, 4.166755309722523], [4.537260302657129, 4.871925018200015], [4.060412280432238, 4.960641751427982], [5.704448960782692, 4.047450020573787], [3.7368096010599685, 4.0982157042128975], [3.9505284779433087, 5.142709929534075], [4.962810347427686, 4.75026649746726], [4.050673188564447, 5.202871493941991], [3.8612435036500883, 3.814465643272074], [4.3626122899766875, 6.086285600704027], [2.525759315382974, 3.2525760456504056], [2.0438411432985424, 3.471374161210015], [3.172348069703024, 1.7768570728905524], [3.5976811906289625, 4.086344211521939], [4.410183797664103, 3.885467073168539], [3.5528512676966715, 3.212884495080231], [4.095471311362322, 3.6950708294428964], [4.199820455930271, 4.012064201385611], [3.4188016545339015, 2.9162999550891455], [2.623686988448754, 3.748420442258545], [4.669676244782101, 3.2755710180500164], [4.547658680553425, 3.697248043220992], [4.660991234968775, 4.630024072288885], [2.1730033311547503, 3.4614649464360094], [3.057619336152129, 4.189283099023839], [3.093712174612139, 3.240404552271927], [4.710165843674349, 4.219501187797419], [3.094281534387264, 5.011324292480147], [3.335217576620451, 3.579918340558547], [4.028896434317725, 5.09234648434571], [4.869088330205772, 4.335424398264347], [6.006217975643398, 3.0552628458981306], [4.541734138875893, 4.147063715715038], [4.711885578090006, 4.029371327263297], [3.473369255499891, 3.3995797750772616], [3.1450435646993293, 5.179689187195266], [3.5313964472929142, 3.7391100963605375], [4.412853760589129, 5.096990890621543], [2.7656314336946783, 5.781093178999697], [4.584421510895181, 5.004838831407733], [3.0043261856801022, 5.106875917173248], [3.0629362353682628, 4.4131655820626206], [4.751226018094933, 3.624843283345413], [4.218465685521494, 2.7998080268222365], [3.2946137702242178, 3.41640414296516], [4.5266173927694835, 4.2202139593997385], [5.072117070885076, 3.7508816415486907], [4.31753874108564, 5.761992733781728], [4.454073115909533, 4.315074699747052], [3.448763725343445, 4.608064157164701], [4.395469653661206, 5.151067953649088], [4.55795377299065, 3.926237770997816], [2.827790985134717, 5.015689103653709], [3.748852378152555, 2.6542197764474684], [3.2909320957491275, 4.219296618574367], [6.825557547467108, 2.665017578980817], [5.963622154800424, 3.5135499386659825], [2.980261401480613, 3.689998518105971], [4.803792687255893, 5.528449982648514], [4.5720710815740055, 2.9986807245688967], [5.536814320284743, 2.748364604342072], [4.223935996224219, 4.064411959196954], [2.7431703864498695, 4.511262502287036], [5.322262543093924, 4.10506096086851], [4.91218994784704, 5.291169571152574], [3.1838974844389645, 5.7507478174459505], [4.579686913604499, 4.59653884007825], [3.5599011485559826, 3.295755176660257], [2.919209568033334, 4.572664581618146], [4.843450379880888, 3.0478563086466446], [5.892131090507718, 4.574975062138958], [4.285438247096612, 4.415441117505118], [2.1939809802327828, 3.418077120618576], [3.117283163676585, 4.998254612098379], [3.575150808449015, 3.404508431529054], [4.095861018228437, 5.482601862746707], [3.618362964400071, 4.562070647778493], [3.834015219151345, 5.685867040515085], [3.232078718253301, 4.020742736587522], [3.856753091108771, 4.619603776173334], [3.446508875656145, 3.2252941390417877], [3.633259879155416, 4.971347450088579], [6.388213749716522, 2.924098233453784], [4.363960942134721, 3.76209776850674], [4.9837876906204395, 3.778069390106944], [3.9483378649844023, 5.447118596946385], [5.095955993953952, 5.309957816227173], [1.5605364655996716, 3.59371775089302], [4.325957213677005, 3.669944843865404], [5.265495395346328, 4.336949698303665], [4.5307920844378, 7.042577184159425], [2.837322016511994, 4.891427905840573], [4.537756486902575, 4.716324646604099], [2.887250943234139, 3.973086879879828], [4.546905271943146, 4.673741865751173], [3.577076524584363, 4.680758776499828], [2.9272858520074347, 4.253941395496542], [4.480227131957614, 4.158402126748366], [4.724684722086973, 3.226446759212096], [3.8947281473060666, 2.7237408936633303], [3.374762159388303, 4.225126871717201], [4.551477694466971, 3.509290593832079], [2.5440756294866627, 5.165024003712243], [2.856739287914955, 4.382895089222753], [2.5194534162622224, 2.6336563461928413], [3.3524068941779372, 5.546693201108942], [4.172551849498917, 5.362145610923385], [3.397534700440454, 1.7412711612577798], [4.005266551080818, 3.97591052071757], [4.76447646822148, 4.190330559593504], [4.598078403678106, 4.783880077158239], [4.7654042222979776, 3.4114909981643047], [5.76522962545971, 1.2706954905438992], [3.553433695311494, 4.781436835374958], [3.17152620697508, 1.7478190741752866], [4.788951951206817, 2.5937491951426472], [2.7550146006133045, 4.157138025584561], [5.509540225929709, 3.0105595661679945], [3.1020987684159165, 4.3905032313428585], [3.7969257924462942, 3.609273713760935], [5.468815974682645, 3.0687227373000745], [4.059730774246098, 3.5457929176313168], [5.216590281095624, 4.31005217252578], [5.826759021856244, 4.179655065890557], [3.970499248321208, 3.578278497175919], [2.1497311668878636, 3.9251618212799344], [3.149980186552465, 1.0984624333548405], [3.109154873136382, 3.2034792936323737], [5.345362554226545, 4.072201552130543], [4.764984736203703, 2.325695334984887], [4.0885975559140375, 5.864166569766366], [4.690338841719338, 2.4654367437024938], [4.791862561532305, 5.362822989209855], [5.146783713485468, 3.6208841176134867], [2.5671501136375916, 5.804650715162463], [4.163439886392828, 5.1468282191042265], [5.415380680635401, 4.683017336670911], [2.1128343741057964, 4.4891785734748515], [3.845921720781924, 3.5888978339037245], [3.747380808345763, 4.4492096542252275], [3.09633153211049, 3.9247235751774703], [4.213878817012302, 4.6488355368753504], [4.993567276129629, 5.141197920306319], [3.029760703873006, 3.6926896937020137], [4.477356728091552, 4.081212921206188], [2.2602920141078906, 5.189329888437426], [3.415070571268982, 4.02596665951274], [3.4560266153765875, 3.1056991347146408], [5.059880096904767, 4.514758912781546], [2.3333178525546066, 5.271178773285213], [4.633650859357248, 4.826461811738588], [4.1999277622938305, 4.515785058929947], [4.4540339119427435, 5.52934579803501], [7.002339612203671, 5.529115713019991], [4.324664178782039, 2.7692617024880084], [3.7535015766671975, 4.450641035645798], [6.112483504487516, 4.100011714336352], [3.618968221543443, 3.6649535098298567], [5.440457310215516, 4.48827672637401], [4.751265608849721, 3.2684090765300193], [4.412921320829852, 4.740882391498829], [3.5908808451847585, 4.333190387490967], [4.843262576676217, 5.631460129298453], [2.9435919769089782, 6.249123414481856], [4.15232473185871, 4.84624181385194], [4.240978396953434, 3.1612667304123114], [4.417417448405561, 4.885711863304507], [5.1924280763080874, 4.931547361105179], [3.4491571595461865, 2.706647812673258], [2.5533428831699503, 1.701300373716696], [3.9872080659927884, 3.0692782608127693], [5.765867211147945, 5.310724479574777], [3.074984993798096, 3.8822492436842206], [4.337063754916025, 3.7068135219999254], [3.509019564266971, 4.075428032453858], [4.137091406992609, 5.478120218810189], [3.830664726325762, 3.77711548649815], [3.9668083174885043, 4.5561058623462545], [3.335871681561012, 5.367640167725971], [4.116802773619093, 4.624432202029773], [3.1658290732960332, 4.685780354526459], [4.360607832546541, 4.423272846248789], [3.4846887621820373, 3.698448638626533], [3.0854543496158042, 4.633937942977237], [3.316160341573615, 4.710498891677995], [4.985365171376049, 2.10090520220446], [4.903300499797936, 4.343658558778985], [3.084405214564834, 4.242103889207173], [4.195380866561267, 2.0113555867282127], [4.553958053022426, 3.1180970392441374], [3.7412341746712614, 4.967726571823075], [2.84332773985824, 4.54872026503789], [3.8655816421422626, 4.519535296974172], [4.513379040608317, 6.326698055007919], [4.066756343570521, 3.5669137979668006], [2.581610517498742, 3.374756164686773], [4.302767759134153, 5.04068002835858], [4.533566761239208, 3.1011266209037767], [3.656363513524314, 3.573524937376665], [3.5466740967324966, 1.658434466410359], [4.324145166672981, 3.2557809510734423], [6.4329850061692575, 3.941719500936796], [7.411089928441404, 3.64758265022214], [2.1416702774695215, 4.3554523296553125], [4.811973313259847, 3.743875225965226], [4.900151329196008, 3.8962892213100333], [4.2948696859837705, 3.532678943463819], [5.681870598235512, 5.015494918222674], [5.121422484407403, 3.846390082852087], [4.547876459246021, 3.4732012675523865], [3.485722573673744, 4.285324999844744], [4.6517784149745225, 2.4859595277166626], [3.2142291441361626, 3.1469425606952885], [3.1277196424813325, 4.804568176217562], [4.462216580504599, 3.9497303107835178], [4.201922833405352, 4.908534028135576], [4.585110751546824, 5.267409199612403], [1.4118036674730159, 3.639836862730475], [3.136123949723465, 3.7294761855607232], [3.251268307598005, 5.1230441621286005], [5.122117424336072, 2.1478513823002494], [4.558618448825428, 5.734079776683545], [3.9451572838184483, 4.2378281993771925], [4.577513105791496, 2.747357034189508], [2.9519718161803246, 4.424034774869425], [4.594439605173105, 2.3414827747115665], [3.577018513597974, 2.8739192977416854], [4.011028312887801, 3.5136325200765697], [4.2702645109359105, 4.407605738948846], [2.0320603584892982, 2.6488456365167456], [4.5866628172042265, 2.0092678566657876], [4.211946142525731, 2.6139540323681327], [4.150594352845029, 2.5445947449942743], [2.8647832301408243, 4.6579367186077185], [4.675289688426593, 3.015548198944436], [5.752097361313785, 5.05234406268148], [4.923570376203322, 4.088977763654013], [2.396634031327217, 4.298064150543158], [4.094463591053554, 3.095354391130596], [3.9340835462293877, 2.976031906265891], [4.669348090916202, 2.255338370800179], [4.484867649523445, 3.206770812265428], [3.8388870641896102, 6.040936588321742], [5.369612704914596, 3.9305904033927175], [3.393091754814641, 3.5024808463125083], [3.499266376010731, 5.942698411961263], [4.030413889714428, 2.670503675505382], [2.635388216885395, 3.4914350239291516], [4.555261176465528, 3.9294285713917128], [4.7192127201408605, 1.4007220378330794], [5.871896040909658, 5.2594558612776385], [4.057979024030796, 3.996525763309196], [1.4824544466718708, 4.562635944121767], [4.499787874628866, 4.257906512748659], [3.577803092676131, 4.52821388539574], [2.6830594013919575, 1.8099216647214766], [4.687623812807585, 5.131607665829899], [4.021493338676543, 3.996643600735876], [4.842004458876072, 3.2616320097924327], [3.373544602061104, 3.588491170616898], [3.192910744951235, 2.061263552627474], [4.446836551868341, 2.9475343028401575], [4.786156016598041, 4.801953170216314], [4.875333195073908, 4.20981759118885], [5.122921105024226, 4.080983283451683], [4.5164020913440215, 4.686131438105153], [5.235172708181904, 2.30047511918821], [5.045663047911743, 4.271109885773983], [5.2868041447357275, 3.0462620498452586], [3.988087988072372, 3.8082411594853367], [3.9841165490064276, 4.916244823399889], [2.4284542946530534, 4.298402765736312], [4.599458069078861, 4.587149060922303], [3.396166109102256, 2.4726561755690284], [4.742445934244004, 3.3518523851618265], [4.580888864215157, 3.295299188417223], [4.295182136530367, 4.596809148219653], [4.1542128805877, 3.52707676554596], [2.5379038473706856, 3.4879350009841237], [2.998286576050421, 3.393004439414363], [3.593926263754841, 2.5789541425794527], [3.273841741560762, 2.5107456373464667], [4.058141616739378, 4.125514482325716], [3.4053566459458002, 3.8084090381805233], [4.112740602955745, 3.845715104769541], [2.9904600301923, 1.6826948374190862], [3.3225058639139777, 3.150307776804529], [5.06613432970789, 5.020425975577942], [4.374063936445427, 4.530607292555123], [4.017952184094437, 3.584367665376318], [5.532844175591213, 6.2996951247525015], [4.074469153351574, 2.0023824355918305], [6.032384069825089, 4.27756569547409], [3.0036945718684254, 3.2800068912265377], [5.309885344825925, 6.398977019998782], [4.508636995494267, 5.042344291190432], [3.6866104631290035, 2.1903694799210847], [3.767958181588737, 5.768789045992005], [2.483904292161009, 4.83858796429411], [4.596101086905877, 2.784084782057274], [3.3034016341423023, 3.865289114105282], [4.613230588222334, 5.16304793156308], [4.105993575916716, 4.353158833274348], [4.365124270828642, 3.827487103953576], [3.434088887203519, 3.68219086822489], [4.692734014578374, 4.217212369449619], [2.717360259661771, 3.5693913356423437], [6.438749184273236, 4.69999746855726], [4.563106930943129, 4.831844152203934], [4.236401852887012, 3.2162716048781066], [4.001949270882516, 3.53274281927345], [3.5217288653692718, 3.8224309459606847], [3.125366749600658, 4.314439725631857], [4.730692826364457, 3.2506685448610515], [2.378395493696263, 4.522986846045209], [3.9786778122495168, 5.412762135685124], [3.565723464482688, 3.5874667934139177], [4.82845157845008, 4.724669178080025], [5.251911547850933, 4.375624394305486], [3.5812767063205406, 3.4866202427376307], [4.006961298826111, 3.8668809912922084], [4.12469332343148, 5.245310311458767], [4.360425949656749, 5.424727193635535], [3.1769171654133714, 5.461174555413967], [4.5697799129485785, 4.528175017141662], [2.695974694918247, 3.079967632977323], [3.418652508339159, 2.5549961411595667], [4.375637355870756, 5.039441566271114], [4.55604997258466, 3.995482759185313], [5.518531827475455, 4.716893747102951], [3.6020941197308716, 4.72131541439405], [4.923162583262485, 3.213578833329436], [3.1992422886479286, 3.6005960370226067], [5.049696995785229, 4.304847941109289], [3.844291806345477, 1.8986489495979821], [2.5389121694458874, 5.308645902733224], [4.280553051397856, 5.558554947355391], [3.7607077868887218, 3.760897479554704], [3.0489666505128463, 3.18825052375822], [5.605905348545635, 3.6011954477692307], [4.234680915170133, 2.7852688357426736], [4.967266640698762, 3.813064410313245], [3.946601871030133, 3.8842375217089575], [2.677597990188297, 4.680426326032697], [3.407226510626295, 2.1934545061772375], [5.016030620395354, 3.7501062568964514], [2.627948652761222, 4.601987837475884], [3.144399083836875, 2.686254185456433], [1.3739349890290762, 3.1837858991201595], [2.2786492436848933, 4.04478550666922], [1.8894233827591846, 2.8248268498655644], [3.616078453969986, 3.2326657643372156], [3.4257516800958756, 3.4668100904812467], [4.117533113940889, 3.6084209145928288], [5.573140077882376, 3.374502862635568], [4.086398896870881, 4.20302698850634], [4.92608942590334, 5.739177035798129], [4.134041917616616, 4.03261190406086], [3.8642957717456765, 4.5970300764225325], [3.5143001204513773, 4.734499585389681], [4.086068064397413, 3.9546536374876364], [5.008134961591879, 3.818294354907366], [4.369791583328104, 2.997984541280694], [4.387794777242117, 5.17177836320451], [3.4324451937785634, 3.834227726405431], [4.6285657168530845, 4.049756168552649], [1.842039586667656, 4.126552914856488], [4.445018315329092, 3.7356954520611123], [3.571362966122354, 4.842275191145895], [2.483543023112607, 3.3114024753366245], [5.8679813581424956, 4.290959625248701], [3.9466714436733468, 4.7832496238457765], [1.7594021306058236, 4.239086869043726], [4.698092465970479, 4.283304024659883], [3.9384806518237676, 4.8595602462226495], [5.309431199541995, 4.063821045893182], [2.81715341849874, 5.256353382191566], [5.007364796461198, 3.3462801304157455], [4.543556166775441, 2.89450243390693], [5.238296277105828, 4.923448615099977], [4.661989377514605, 3.586606172370354], [1.6466690854888615, 2.8129185332915965], [3.4498943232301027, 5.008694291551313], [3.3979199408367036, 4.955419270404111], [1.9749752452516232, 4.967063253176333], [3.342364206888, 3.248286792776742], [3.216821733547003, 3.3141410593291445], [3.45161686924403, 4.917519047906398], [5.122731198940323, 3.288620927747075], [4.145406028865162, 5.28319591352071], [6.717233850189246, 5.512687656968948], [3.7380411559834683, 5.957383967739316], [2.2484986041102104, 2.7949897054592006], [4.953398005486753, 2.4557276009576374], [4.191580299592503, 4.637042275297122], [5.047243835120263, 4.892159545510675], [3.020638190895292, 2.9737908794516885], [3.064256252088245, 3.475258698934973], [5.435283228834548, 4.296164648955813], [3.4579072462489915, 4.6579681275292675], [3.348074816637986, 5.858957265938788], [2.9846214453532296, 2.7775820855687336], [5.213059782025097, 4.362817592266879], [2.677767170853496, 5.707140064957005], [2.577001935048541, 3.972050095389169], [4.2041288832240955, 5.385809729737662], [5.966987053071421, 4.8369622648165125], [5.076673900223981, 5.458619579400865], [5.071557574691244, 4.034514758408571], [2.731533518949306, 3.891865649463516], [6.105710108497455, 4.790375460053084], [3.3209817054469815, 4.978882527785763], [2.927788817345797, 5.417642766640924], [4.503459809212554, 2.812863173840023], [3.96715794564456, 6.040637088400806], [3.6653154804617, 4.636881767448671], [3.206145833217347, 3.2137948959766622], [2.978297918017943, 3.3509094032968694], [4.8504140163105385, 2.9374694950034232], [3.812296388272271, 3.625813155865284], [3.99396506759861, 4.377726461845338], [4.729064085170678, 4.492551314177193], [5.157576657481279, 5.2879056727882645], [2.6616198200984895, 3.681610616248236], [4.1713882485958464, 4.444328423309847], [5.129059232345778, 5.208710478916335], [3.0156961708983268, 3.052546080947651], [4.317690153383389, 4.758619315453383], [3.616041598551129, 4.12570638398523], [4.299939460424563, 3.391405331987863], [5.279052257316941, 4.2513457893299424], [2.7113359977859766, 2.6824665636120573], [4.3675283170515256, 1.4878256504709837], [2.3098073892440247, 3.2904740423581376], [4.689236860642326, 4.469599548881808], [2.0456601672230876, 5.4398835476291225], [2.7264485743974527, 3.6089293159264333], [3.4907737415334474, 4.998000454764371], [5.882991610191186, 3.4857874820965495], [4.308467372868901, 4.081623825524526], [3.6398344599555794, 3.4034268246367145], [4.088355871810812, 3.6908239806181995], [4.854354398030199, 4.650853455707122], [2.738857867182565, 5.010851120529018], [4.821328166715366, 4.742026292177739], [3.165902921422436, 3.229403619155622], [3.2851061478184707, 4.164322389937166], [3.444243905672635, 1.850120504382192], [5.545680003722014, 4.524894911908273], [4.103623704627473, 3.882820610434382], [4.123505652213787, 5.155045818362075], [2.7769995531702314, 2.3263952553794383], [4.036678691293381, 2.5071862285762965], [3.6047669316796687, 2.1307107234856253], [3.0297921722009864, 4.557962506509526], [3.8183255123637565, 4.849233533197656], [4.018381473992479, 2.611954771935304], [3.902879741091491, 1.950148015901744], [5.217693992575912, 3.617341384311639], [2.985864976162612, 3.9930425915305525], [6.106287315451337, 4.362244222777781], [4.965658706669114, 4.2145706136446], [4.4424947348560675, 2.9342642619822366], [3.8596541473830976, 4.786516217849821], [2.0480587531421377, 3.7429892767083066], [4.390518586804596, 4.521134675820704], [5.465248541612089, 4.45170710466888], [4.963665295375501, 2.826138044738695], [3.999928017506994, 4.744947395459802], [4.747994327149627, 4.517105446661202], [4.506393749110265, 2.8879401561713602], [3.814491688706038, 3.7072355394625673], [4.136906490778289, 4.992899271335919], [3.992343280058029, 4.845178365670556], [5.685268972042714, 3.3336507262323076], [4.9034815435475405, 2.966034675031791], [4.9040310986770885, 2.713563579181262], [5.5708322901248035, 3.369524540214523], [4.2976230114651495, 5.4497982790979975], [4.9808604310107025, 3.571026460223707], [6.510973728173458, 4.762336048234795], [5.1691732650657425, 3.686983990078958], [4.938212354679162, 4.219416427403891], [4.121745703732698, 4.233396452080113], [5.073009428885487, 4.258309781142909], [2.7967688704612437, 2.236492655527028], [4.2205188201721615, 3.1000318566103817], [6.044276511427949, 1.8431626141703839], [3.458246291409298, 4.6058099079809525], [2.5660828748323077, 4.427543981196564], [3.5230385045132224, 4.747937661852177], [5.20363095054473, 4.304708878545691], [3.775306078897361, 4.043548795111854], [2.12645343272847, 2.3984992643437755], [3.564551960280649, 3.9954108979267113], [5.623656599473152, 5.83380073690121], [4.786476782237976, 2.9532186316631424], [4.693240420534661, 3.4347158084834613], [4.287405681045089, 4.534248890193091], [4.531392817943009, 2.579323691717951], [4.005429772395561, 3.3805911335537053], [5.75696263058288, 3.231375012876633], [5.410874976048123, 4.368598451654461], [5.518182688406023, 4.824465009076924], [3.7753673946877977, 5.613600593771715], [2.868465579253958, 3.9034217702142273], [5.3044142810185, 1.8761223554038033], [4.751509588468808, 2.6288655344978644], [3.440336111172119, 4.308158019979462], [4.034593819931923, 5.0745975782397075], [4.50067936744343, 1.2259644988862104], [5.075451398763849, 2.298681655819426], [2.402935892161291, 2.7869739378474305], [5.9329616498258355, 5.832443654466649], [4.737554031809099, 2.163705612697929], [2.9881766771994727, 4.195619530492178], [3.058769478515491, 5.068656506677771], [3.506532058972776, 4.778927953180812], [4.864497425138296, 4.233304195588283], [4.113816090186562, 2.6217311191291306], [3.201179060612488, 3.1471353119462115], [3.307737006621473, 4.001307191542764], [2.1688310657246497, 3.1757754013266237], [4.113825303959138, 3.2973955081608444], [3.6800481517010533, 5.712062724953522], [2.684112589282996, 3.256885269138654], [3.8630002722074703, 3.7922673761547157], [2.434525518775308, 4.467708768267986], [4.107675494778064, 3.8498117343870066], [3.789744655145088, 4.80508396096344], [3.043549591109967, 5.9965687479152985], [3.9247357741517126, 5.021639731403681], [4.214639272837893, 5.1602150280186105], [3.111320427868399, 4.6496988504356755], [7.050908601263038, 3.4403354989693677], [3.2944262331979726, 2.754727436515951], [4.8100136542720895, 3.4362741786521322], [4.600087391574627, 4.031573694444845], [2.7824906317762297, 3.3452937407876226], [5.834200907550646, 5.438877305548119], [4.279895911887102, 5.015707181496223], [3.2608219433331533, 3.709131815331821], [4.303985610243934, 1.6424999400070264], [5.140281124530326, 5.677202442862281], [5.007907719690439, 3.7114526289361267], [5.229534369658016, 4.187742949027369], [4.110994386677472, 5.084888342765915], [5.170211774830468, 3.2993369154018986], [4.428534799809606, 4.687865224713859], [2.103640676847247, 5.420232513095099], [3.3253144269166492, 3.6011937169743113], [3.2596729883729987, 3.8513260367324182], [4.325781204716199, 4.098741401050837], [3.7579245957311516, 4.381987219306129], [2.4587267077565444, 3.8464154655973886], [3.218962216435332, 2.6807455829557547], [4.0219302838801845, 4.9841265938022365], [3.1805398647096585, 3.5737208638362628], [4.918024341832738, 5.643903500493235], [4.415537465491081, 4.579558407472602], [4.997226934788936, 3.1344728427283313], [2.8555348004871455, 4.579293640416348], [3.774436084163253, 3.1366487830829346], [3.5362904934510024, 4.474689723676593], [3.229376397948509, 3.7120967707889596], [3.8252616166819475, 3.3805739215915214], [3.6674299967399193, 2.7662177856392436], [4.013723386107539, 3.0438455692605393]], \"data03\": [[0.7716173835125448, 0.9301075268817204, 0.8508064516129032], [0.8217965949820789, 0.9301075268817204, 0.8508064516129032]], \"data01\": [[1.1982052032919634, 0.9940094176543155], [0.37904282765487274, 1.4575986285805411], [1.090233581871501, 0.9520409968900595], [0.3867875326928235, 1.4437328769158584], [1.7238202615246412, 0.7279399044773045], [0.24474452747052255, 1.8114536998699462], [2.5581981862362877, -0.6514175067108274], [2.544818463200819, 0.014815969300424836], [0.3896262681549483, 1.9849962068522782], [1.2665348742992897, 1.2818297863977175], [1.7241892871780762, 0.3830971244441388], [2.3444781638499146, -0.2694400534533459], [0.7391837273490868, 1.0725445388546127], [0.4117316594850413, 2.4215440675058906], [0.4400094008398816, 1.346640839372674], [0.30385295762275044, 2.056928784764997], [2.610327141784265, -0.670899695740452], [-0.33728869817909324, 1.9596497174638121], [-0.23826548094138666, 1.7468657367900127], [0.7817768337733357, 0.6304690052681042], [1.3083128288572117, -0.013864080415692426], [0.9858859865807453, 1.292482247003311], [1.2980529148481796, 0.7252064420936235], [0.8148068947857612, 1.9504785788255783], [0.15242114390715256, 1.5407815830972968], [0.8496331220252746, 1.2610914782916345], [0.6185405220253903, 1.5194299642251181], [1.9939531341987573, 0.04758268657858589], [0.7465872088802508, 1.7646994969092926], [0.654245466373402, 1.0843607979628493], [0.13648174174442684, 1.521398416660478], [1.7017589599216225, 0.07594609389286744], [1.2379253367548622, 0.8097157689907167], [1.4090303777724178, -0.2742218104111527], [1.1512221103947653, 0.7743072871058065], [1.0882159731138978, 1.1125558570540008], [0.7887566022564426, 1.3658342811441773], [1.5450015891585933, 0.7976563102716848], [0.9317289339178405, 0.8282325401263855], [0.641507190485582, 1.0286193034272235], [0.42503950447477146, 1.8093944437495288], [2.107608769526184, 0.0829850150345669], [1.362423022625254, 0.02477314442320333], [2.2416735396300043, -0.06903281811328821], [1.3549767191805215, 0.16787777505648516], [1.3450194952559638, -0.04369065989387311], [0.873803061295803, 1.2454981977202557], [1.708287095563326, 0.6011438965367165], [1.4505078349465208, 0.8808301634589384], [0.2729566592910194, 1.4913335162972723], [1.1992181792886978, 1.0780640904382344], [0.69819570041193, 1.0912241656081185], [1.2517911380867972, 0.8738524379286469], [1.5352340311552173, 0.3265725002143385], [1.2798905930757605, 0.83169562217862], [1.2141501956095984, 0.6829606178430512], [1.074762407935883, 1.579725661664115], [1.0923007093035737, 1.1429775828443516], [0.10906823986790026, 2.3180344130510453], [-0.25602163450568804, 2.560560386613999], [1.2016251587072766, 0.8750873136044743], [0.263814351486656, 2.082673727917997], [1.8764871025691532, 0.5895153201138855], [2.191871093430812, 0.35277116942488795], [-0.10627506688473698, 1.9753632463808577], [0.8803711492990753, 1.522628479649441], [0.7499063842145868, 1.328000929201405], [1.8774398680408289, 0.43444529442617763], [1.326712064081865, 0.775220525245824], [0.9241866699832944, 1.255997596491123], [0.32605263819770014, 2.1932737562519504], [0.9564997468625607, 1.1277609000910487], [1.2292179970025343, 0.5571477951090125], [1.4016477547101203, 0.1779789637424687], [1.685429978435521, 0.6890401146560707], [0.8646570951191348, 1.4492470687240082], [0.37716973504436724, 1.5673009229143176], [-0.3731783960018824, 2.34011702546119], [1.9256778761309001, 0.042085041968543346], [1.289394921997157, 0.5978960622009694], [0.5326797729660337, 1.1634583059643582], [1.1031722964224964, 0.9823521813942101], [-0.30217928257794546, 2.2354645121153656], [1.2915696524745002, 0.44558833823603805], [0.5800964527485892, 1.5394447488352219], [1.4181492538737661, 0.7331838454786126], [1.3695211662043263, 0.3984140945633923], [0.1401492703005881, 1.4193167397663191], [2.215476544028071, -0.22150119694259418], [0.7588816483066844, 1.4508442270313804], [1.2410577141074215, 0.6349390656221396], [0.8595559554823555, 1.093513031292674], [1.601122349297365, 0.310407674765517], [1.7988294986596234, 0.17699725444410885], [1.528440500670753, 0.7454179477601335], [1.413877482644743, 0.31950832813407093], [-0.12588407535276036, 2.0978295374279643], [0.054190231531694666, 1.4578698529523564], [0.5106171680386512, 1.4843405815345116], [0.8412698377506711, 0.9025233586404139], [3.2063350164588926, -0.7015948802159762], [0.1062533003009436, 1.745669719501248], [2.137951469653128, 0.04398354271704874], [0.26846496077981985, 1.7240737667301387], [0.723141238811195, 0.9709165066256087], [0.49814370164329425, 1.4426068025581702], [0.4900566974212095, 1.5112133411862576], [0.8363834213128942, 1.0909005673572953], [0.9098734214756876, 0.9614714950081109], [1.3119781980548135, 0.56603047414991], [1.3442215933763584, 0.5530733437773073], [1.7873921367635217, 0.16679294727832517], [1.0644843585953414, 1.3086207564930112], [0.7758590583587499, 1.0139925440865674], [0.8252346821355863, 0.8582247279387416], [1.2248891556342039, 0.576599002624012], [1.513230180079198, 0.7731611904193967], [1.4860105418362535, 0.4946181471945259], [0.680253293242476, 1.7340780748921634], [2.184285598832351, 0.03777086149647002], [0.7690878946762505, 1.175198933525409], [1.24121297738817, 0.8252614950265567], [1.674029776018227, 0.2856047386415381], [0.444257434516679, 2.0884774567050925], [1.8000857866608553, -0.21000506497228066], [1.8068636601628147, 0.060349796057941996], [0.24464646819278535, 1.9132288813088525], [1.0901317187478203, 0.9805381329501294], [0.9419446802633827, 0.9293264768958553], [0.08450821615768, 1.5043867951658147], [1.6534162625012057, 0.64771816455599], [0.3811108846665482, 1.2222374848277215], [0.5032327367355137, 1.0632103445718761], [1.4587273063073085, 0.3811897376596487], [1.6905408788244332, 0.42442308702984566], [0.6180664082510837, 1.4219232444393861], [0.8656604093963123, 1.3573142008763892], [1.3588767094614171, 0.7013132235272785], [0.8640871866827224, 1.4384584431445688], [1.7801639020629196, 0.7758811165089934], [1.6068013213694226, 0.251749698265301], [0.9962075222002711, 1.4438225732993826], [1.9463681540604103, 0.43032602201580616], [1.0523708026737597, 1.2106974579938112], [0.8812476263713663, 1.5502354824661075], [1.8089916964858586, 0.1807938704052432], [1.09244783736227, 0.8981343915238342], [0.27650937331596315, 1.8634860959234225], [1.0679925409530562, 0.6370679042564344], [2.2128571895965132, -0.08314126625802731], [0.6089234096467389, 1.692935566222614], [1.4873145963071517, 0.24681413384717377], [1.848805762858306, 0.4671706747581176], [1.484230774077206, 0.8917806612368728], [1.5320000400323446, 0.2567366203819422], [0.7109933033737772, 1.057862389993978], [1.9230373594665187, 0.5281314035213327], [1.9616322856226707, 0.2534358133474993], [-0.2904256811146022, 2.6781368626832993], [1.8754630788956974, 0.09707261555167246], [0.5995150854031837, 1.3400020433452395], [1.168601781253172, 0.5523129151465109], [2.3689050897956485, -0.36762233196850813], [1.4891433211551757, 1.2373541145384626], [1.663598472433341, 0.5280989338080548], [1.0560062604101599, 0.6961880454600703], [1.2990233374563918, 0.5428831172981101], [1.0434081255532774, 1.146823467105848], [0.9806598335266772, 1.2018368734440734], [0.9988716469674976, 0.33492794286580096], [1.0809137879322568, 0.9863512232570697], [0.70040583901443, 1.5026197763149376], [1.1155388650905176, 1.1058562170653135], [1.8290126283586736, 0.04749591737836423], [1.64287907849345, 0.29975930777510973], [1.0982540675143977, 1.0578885567561096], [0.7381094771498947, 1.73299490677738], [0.8826768978497336, 1.3914552266184654], [1.2992825334254416, 0.4645892115405059], [1.838580079565145, 0.13852218729497345], [0.8089825527559662, 0.9915323933266442], [0.5069310298381202, 1.149162273891035], [1.2149291420120965, 0.6659787318210962], [1.494441664369492, 0.4617955411145269], [0.9379553649632965, 1.3222576021761807], [1.64838846299252, 0.12299289621588005], [1.7088154900408528, 0.6192033630036394], [0.7745302001623001, 1.0336031418176073], [0.8929203743456351, 1.1956297542889196], [2.1464203448352626, -0.01993188079925523], [1.6434580865804578, 0.03944148884623344], [1.3848933651502504, 0.45189287035045844], [0.5641027089535806, 1.6720047154814228], [1.1942182955522052, 0.29739786817763836], [-0.22818408700786508, 1.8893459336679843], [1.0895935067510423, 0.8760363801913261], [2.680480712543151, -0.18121038566214254], [1.164606690955775, 0.30840014252585535], [1.245214840923138, 0.5618567396171978], [0.5482395854675876, 1.23325982140085], [1.3267340927604985, 0.7606085616870983], [0.4472185147325166, 1.1594163642546023], [-0.21821542130942295, 2.1087909338662856], [0.7356635582817802, 0.9739461830656131], [0.7373946707558868, 1.5142114362624501], [0.8165919779958615, 0.9569957869293272], [1.370419698434656, 0.5466949933676277], [1.402763018932625, 0.36040246022271893], [2.032565232943892, 0.34501719509059703], [-0.038206210800303175, 1.640535089537062], [1.8975340939559155, 0.1927805327357397], [1.0938891404003872, 1.0347231234181344], [0.5678902083649097, 1.1479264016805824], [1.2169687821783912, 0.8946174596467229], [-0.08815215619788663, 2.118559005033533], [2.1406784482606884, 0.18064845303936905], [0.5778307338603373, 1.8364326596620737], [1.7265628677427525, 0.19260772989983543], [1.1074546963249254, 0.6095476471905812], [0.691349909939386, 1.1019720289248545], [1.151585912571286, 1.3028060082535], [0.7443198569260492, 0.8720660904906279], [2.3154016498801537, 0.33600665499898685], [2.5768954696888673, -0.10363330658049552], [0.853689095821213, 1.3009059980081994], [0.6647062320131947, 1.3963962233333953], [0.3438852502831974, 1.2143821739937788], [1.522423638409911, 0.4435136144823931], [0.023977444783291224, 2.151121338193306], [1.5532669575912075, 0.5524456833700409], [0.5954869080034129, 0.6381504438765107], [0.7304897105432221, 1.516942557217039], [-0.15169506018483525, 2.440881829910551], [1.1450525244679293, 0.6741628714132428], [1.1732369450597229, 0.9841249862911584], [-0.04365562652761645, 1.3585751713448846], [0.5430173712903587, 1.1004883517558288], [1.2296915311608272, 0.5658446286353399], [0.6566264821039076, 0.8531261726960659], [1.0641424774196788, 1.5007020462605203], [1.5077935881553723, 0.5586692058738928], [1.3402597795826123, 0.6590203340576227], [2.192930367749808, 0.32391697166387057], [0.39079863698160133, 1.7806844337921497], [0.46665597030103867, 1.0721610052357942], [0.8456133055782451, 0.8281509217304022], [1.1682568992560545, 1.0630133164343056], [0.1768390220816375, 1.858930345497253], [0.25870971043956925, 1.5052426042568674], [0.4172478701809871, 1.671096688515462], [0.713844179078323, 1.0166582262944557], [0.4237001179991835, 1.901615412798026], [1.236316626821468, 1.083097419231954], [-0.2538785618048991, 2.103969094919445], [-0.2886551367668968, 2.4287866786604053], [0.679075342904318, 1.174198834495848], [1.084271529129065, 1.0629162748626955], [0.4938683192599175, 1.3687752746320705], [1.3763776503811016, 0.33303881362789933], [0.4204951699631071, 1.3614223329438886], [0.5862524375559712, 1.5278377843970263], [0.18239386712439176, 1.579518976024084], [1.115403323626831, 0.7977734981426877], [1.1679095322481885, 0.859879873026164], [0.6094469120277346, 1.2335802673304888], [1.0465493391413934, 1.171460599443716], [0.8567862245373606, 0.902864910046407], [0.4402825798214306, 1.6220226166947378], [0.9118708725730462, 1.0609503537356688], [1.5245623186691826, -0.03190442615008182], [1.537589581443642, 0.8473066428152864], [2.2201647251847314, -0.294480851468337], [0.605688052648472, 1.00966733715904], [1.579514235991874, 0.4868493455447409], [1.5667754042452682, 0.5612847251655346], [1.2914379158329896, 1.3333286303678464], [1.5477575356529414, 0.47455402810106995], [0.552985978432293, 1.1353665843606833], [0.5150357761472368, 1.640249207304708], [2.011952771015654, -0.22099327777236222], [1.3737400074999822, 1.025907863762795], [0.47469668741168425, 1.6577593343058643], [1.8502185242598204, 0.3274016606496474], [0.10934927773456893, 1.8158286222471882], [2.6154113781289787, -0.24733233867242754], [0.1265877429472837, 1.9082795355004063], [1.2174118155037892, 0.5300594689984779], [0.870086680121325, 1.2317419737099171], [0.008397135316625337, 1.7927464459199842], [1.0836124257712814, 1.5105851694752892], [1.3510089865301547, 0.6278151603023299], [1.2390019147195823, 0.7321544278077929], [1.1402778951162322, 0.6725398010772313], [0.1346962598999336, 1.8235956602493486], [0.8161839662005818, 1.2586618222337211], [0.6443193311814222, 1.3570351542744208], [-0.50923347218451, 2.1501374338992116], [1.272550925025366, 0.4162240318123006], [0.835196756126124, 0.8719128910056395], [0.8546252193648189, 1.1468624993397647], [0.05866629568353687, 2.1659877761895276], [2.343973920250679, -0.7034870560731101], [1.170530856500707, 0.9753114545989221], [1.9019027242396649, 0.15813835937851273], [1.2149875138119894, 1.048597236011381], [0.2848446492531005, 1.5044119403379808], [1.7709276398115863, 0.6264335719829051], [2.007554410277747, 0.14395396662681859], [1.2655685208488787, 0.5477275987294793], [0.9768651936342696, 1.284230501129378], [0.6311224940981609, 1.062522845448792], [1.4564532088824027, 0.9807861226883289], [1.8487353269812943, 0.4563291952658013], [1.3699616317642853, 0.5038272430110589], [1.4356389599879065, 1.0078501141261953], [0.07180990687307975, 2.455026141924398], [0.22053468419002353, 1.7562445953967212], [1.1256697021769664, 0.8247833911926465], [0.927324926040269, 1.4285349167725798], [0.025970185452222294, 1.3551097891303912], [1.982756539332958, 0.33006529311634547], [2.011880187131422, 0.09944921190970457], [1.3600254148707143, 1.2311196760406984], [2.2009584739404837, 0.09014293344752256], [0.8958505129769068, 0.9987032596817697], [1.0848092122754571, 1.2036651621912875], [0.2989042792087485, 1.8204635691587452], [1.0984087293029627, 0.7563847864378702], [0.782602333127803, 1.9280086680151456], [0.3591225457691186, 1.0405741328287093], [0.5993212496302093, 1.2374023888057968], [1.285228144251758, 0.782697507806973], [2.028585615632692, -0.10780068569058887], [0.9045725244018541, 1.3631977512122169], [0.07200583650732839, 1.5012441955165192], [1.8041450594929909, 0.5271209897219336], [1.2158907350891672, 1.1583723177724745], [2.2567194547319733, -0.02494432270646252], [1.0178678057376014, 1.2588087346176269], [0.082273032439387, 1.8153847702642345], [0.8092186888123477, 1.1640144950870082], [0.9255115320581776, 0.7783483677221196], [1.8206051859895127, 0.3643205401213271], [1.8294528472416798, 0.26126464350234024], [1.0036958295295029, 1.0833804222973449], [1.1106774796391354, 0.009593107219309616], [0.6946963709015725, 1.5824189045193844], [0.8141528663076835, 1.494527650974713], [1.230949948376944, 0.19723092595248082], [2.5077202009864235, -0.4256861147513904], [1.8248969945149025, 0.3436244153177559], [1.9528688839448802, 0.1397417503057976], [0.9502766567017638, 0.7780907465167204], [0.6442201426090058, 1.4416278216690523], [1.7857114871068211, -0.0526344178322069], [0.8078177488631892, 1.2030228310162152], [1.8816552641192894, 0.1539714353746522], [0.12036874018900812, 1.2709340251850547], [1.296691826746911, 0.7879695440986707], [0.7796243958914129, 1.2977867827548342], [0.782552808764686, 1.243232523174893], [0.5953454223017545, 1.2371728276792289], [0.4924078276119265, 1.592053654966414], [1.6756870578498404, 0.44229194131046534], [0.8165101426545727, 1.003315068221107], [1.036859035064816, 1.176762287892994], [1.3273073227990801, 0.39067789857303215], [1.6441707442892488, 0.3839172098000805], [1.1644885825051277, 1.1953832599195964], [1.2498279348436556, 0.9936653143072502], [1.9402541233384722, 0.017528313441476318], [0.9269363947652345, 0.9586517521509615], [1.2664380531071897, 0.8308896111426282], [-0.4428100778692563, 2.387999725385453], [1.168930502277556, 0.9228689798465984], [1.778660908437353, 0.21220692826216725], [1.2619151322131288, 1.1221791300895392], [1.3307681446814645, 0.9146774092178385], [-0.7106713229227899, 2.0945590239920984], [0.7828970208650191, 1.1314889493451308], [1.0376597925676612, 0.6470748092294298], [1.0446372799755415, 0.9999376843733094], [1.1171081462394012, 0.7866676917559561], [0.1903319142815575, 1.3808217203325], [0.4314497322686278, 1.3806116186897484], [1.0512306587197375, 1.001367941930118], [1.376814387167828, 0.5823582893213369], [1.4776475131061522, 0.29606302754446256], [0.417270566717465, 1.5457044457514384], [0.7347937216369442, 1.4025754632458414], [0.6937862808228912, 1.5523268864357118], [1.2154432089950293, 0.4735906210870604], [-0.306367599717442, 2.5090074374056455], [0.37742493119423826, 1.6040381635896623], [0.4319204322088037, 0.9314459413686946], [-0.3014130437759326, 2.561984830729336], [1.008535004564788, 0.6819059486906422], [1.6551644965040064, 1.0033821139526868], [1.2463795671187319, 1.223717014507109], [0.42308968385005075, 1.4562903521620667], [0.9602483407320038, 1.1533270393216708], [0.18258757747757015, 1.7966318376320247], [2.1450334623003493, -0.11388229634984848], [0.8657801681678194, 0.9684364830088247], [0.06566365793652573, 1.6173865052194243], [1.73240339114981, 0.5225516920419123], [0.18067554349036374, 1.9947235249096835], [0.5542957202122918, 1.0256833073195324], [0.2752871870826372, 1.7636067002757445], [1.811586348099373, 0.2840877499061367], [0.7287827819487356, 0.9502469192706784], [1.465748625646743, 0.8762154796906256], [1.7855870308921498, 0.7590494809500191], [1.643355674488177, 0.43576619525523874], [0.7983019805937365, 1.151964518557384], [0.5481289695192982, 1.0638259522353088], [1.6744726768791547, 0.0023335214616131417], [0.3008952034866803, 2.321793580651131], [1.1217905360083174, 0.37163183977594505], [0.27058221918842496, 2.137389179840854], [1.2586279077620848, 0.9684005772025603], [0.8965632208315353, 1.2228283591717], [-0.10185712002206082, 1.362894413969174], [1.885951783623169, 0.020188069829541355], [1.3587181180787762, 0.6501043191656901], [1.0150555377322061, 0.5700311090728141], [0.8793595576823191, 0.9801908862124913], [0.8291631385360162, 1.2825993743965953], [1.3118742734819178, 0.4443677394586377], [1.913771998092754, -0.185074614722319], [0.6188877536232887, 1.401554300703706], [2.7712331072071863, -0.19304261197520178], [0.7385053712715088, 1.36731373352417], [0.6689244020145679, 0.6347121688380754], [0.9117683561288932, 1.0429302392308668], [-0.03980399921289424, 1.929535419994471], [0.6639497292378993, 1.2593460828572232], [1.964639121792525, 0.23484704231078846], [1.4127652758304232, 0.7311375841383185], [2.7073675004564093, -0.824027391811857], [1.2737524211754103, 0.2949264001806091], [1.9223383976460249, -0.12693022379872998], [1.1633316610665219, 0.8541917418788083], [1.0988685623625247, 1.0983930464111988], [0.9266849174489815, 0.9927129701651869], [0.781911524329659, 1.1172746317026259], [0.8101437617506831, 1.533300786248502], [1.5811094861081418, 0.5704710864136786], [1.4873483010053428, 0.8267949855499278], [0.8923118005604352, 0.6014846734256947], [1.1742750651151457, 0.7272903856138275], [1.5210252681329166, 0.6795223882241626], [0.13135553622274587, 2.4042468177385508], [1.316083568806547, 0.37422313680335373], [0.7319498219461489, 1.4435709570957935], [0.5199542536462609, 1.307245263202326], [0.7431810390498561, 0.9579154203259207], [1.992886382539485, -0.10110080854732928], [2.3949917522983055, -0.568243080548765], [1.358021079665145, 0.7237151398884967], [1.212568569883418, 0.6452424478654017], [-0.09640410551757528, 1.514750864663157], [2.4707198107703006, -0.5408161715399802], [1.3440791089044455, 0.7567308108095272], [0.667730794396649, 1.3827191215254686], [2.4290954476747277, -0.20739888075769075], [0.839065237092633, 1.17661225480917], [1.2183386302708497, 0.7883744337392138], [0.6107728982280857, 1.4957206928479514], [0.44621438958856896, 1.8684269588296876], [1.659728408689635, -0.055204647002992324], [0.3015541760135281, 1.6519416478268647], [2.0558076576596713, -0.27964644979993714], [0.8019758780931342, 1.395339154857954], [0.9334870758499851, 0.7393910652893736], [0.5299914858511825, 1.9819295492382754], [0.5799844132902615, 1.961194802652936], [0.6447264959902413, 0.9464388354863795], [1.9695853402363772, -0.2909276298742922], [1.1062856295366157, 1.4340884756878696], [1.2289094154343883, 0.733986730295294], [2.0239295115349454, -0.09338858151682494], [-0.0095835754287108, 1.967221129207173], [0.45655828254328934, 1.577830538675674], [-0.033030458318571654, 2.1877157241638536], [1.0579988596853938, 1.3332741741384968], [0.5874664417908585, 1.3393056696698435], [1.9276901508534219, 0.4732311051607079], [1.4058130402306466, 0.5624255567795924], [0.13340608189255865, 1.4231863924775563], [1.2036120053487913, 0.576757095156281], [1.3671984420450225, 1.0957618836640297], [3.0075711227264663, -0.8989120788668128], [0.95848788456183, 0.9081629801698718], [1.2321473630544906, 1.2191977075189762], [0.5298159237922835, 2.0238104142382833], [0.2215390664080764, 1.811295474662681], [1.325270557651029, 0.39905329523357347], [1.6871061466333432, 0.9196852600060381], [0.8711190881653718, 0.690110078290841], [1.3823786839489742, 0.3338074159387119], [1.5362579526943394, 0.7755913759076752], [0.4669448195321495, 1.0995037113344241], [1.635651727943206, 0.8006831272881254], [0.9595843673209461, 1.069637726141981], [0.7758912406076811, 0.9970621449270258], [1.1759516266087051, 0.6233848200629546], [0.3946134027677647, 1.9286904098953026], [-0.0859083339107336, 1.7616863902521345], [1.8761441394645373, -0.2284506843718721], [1.8020615048745348, 0.23292157014225556], [0.8412813981260399, 1.1555274135348812], [1.7279959888095926, 0.5651916991406296], [0.9064523277633773, 1.466674059236312], [-0.012526123369407838, 1.679830006924804], [1.1658311591502404, 0.5320347086989642], [1.4259034348113593, 0.46693298986416687], [0.635961487818367, 1.5268181145697315], [0.697278150161579, 0.8241297310566464], [1.886929084504293, 0.3027666720714022], [0.2552603201124475, 1.818787463132862], [1.326397622874359, 0.5300692886596876], [0.534188435419343, 2.17748665855346], [1.0385620360158392, 0.7853325335284069], [1.2330010425884816, 0.5617642025426919], [0.7175816754761306, 1.8860844709252038], [0.9623480853735986, 1.1358369191730393], [-0.08587352655717306, 1.6798438775796056], [0.9112676855855242, 0.49489470781873], [0.857258865971729, 0.2618951293493157], [1.6441050936216604, 0.5277381776561543], [1.8924281857687641, -0.019014291034319175], [1.015916286429831, 1.0869116521089506], [0.8725653998123907, 0.9959100602342084], [1.2537288981341228, 1.2971026586563978], [0.48859346623597777, 2.0001824010176437], [2.3167908625605715, -0.3077201613013416], [0.6932459827597918, 1.4083385131034487], [1.22867070689995, 0.19201793496275377], [0.6950457974037312, 1.3494364225034796], [0.30947267278487267, 1.440883420945863], [-0.20640308867153068, 1.8207696599324674], [0.4797228792985839, 1.602250071826291], [1.3087539862646385, 1.670621228107216], [2.1241794327943717, 0.10479265057245057], [0.7317527568176299, 1.192954294410354], [1.1162836131885827, 0.83335627735487], [-0.08270022729912996, 1.656769976068473], [2.3254757273796125, 0.1755027932674199], [0.1275800987209169, 1.2456362413658395], [1.4876966092335628, 0.3610468491578597], [0.6285919075296865, 1.1246905657975204], [0.19076382527970426, 1.8433920505958583], [1.1134208727531973, 0.9935755351978157], [2.8343942377549878, -0.5801509061112826], [1.7546484731031784, -0.04703597797198378], [-0.059323505315299174, 1.909781415213823], [1.660127412723624, 0.1290210204713491], [1.547507933461175, 0.5828254033747712], [2.138679125176081, 0.10799971254338891], [1.2275340171922524, 0.8155245659914806], [2.0700609783167354, 0.14141385059350797], [1.1644090243065108, 0.987849714625577], [1.0674925462565104, 1.1524987425796613], [2.2095094303307197, -0.15000952770191178], [0.5083000371232509, 1.1387318477260069], [1.6000457798694425, 0.4053910723091977], [1.592632309080471, 0.5653372310859399], [-0.012458944851200693, 1.5273869625503222], [0.32967893599157294, 2.0172795655220828], [1.5786144215626132, 0.5010591199288956], [1.6689927219506817, 0.44281926842172836], [0.20483130463904098, 1.327085520469335], [1.2166986144818435, 0.6915455964769627], [1.528092948830242, 0.49886329705797017], [1.7347740415502262, 0.6234548739510724], [0.664918996534309, 2.293950567542997], [1.0554106182561838, 0.5128102374825421], [1.2787241377208103, 0.5095546546349411], [0.685849405589829, 0.7835703573950774], [-0.38522300339684645, 2.1598719696209976], [1.4765910403649507, 0.5927096130713067], [0.7802543632217501, 0.8409697332955407], [1.3328059257946405, 0.7626686952206354], [-0.35002098029790196, 2.37303875786629], [1.9085077006340034, -0.054998180695226884], [1.136545434026849, 0.7689063798337452], [1.398177285891374, 0.9087919045181566], [1.279311250110587, 1.0505591063691533], [0.5789895770644403, 1.31586848023156], [1.420196164817283, 0.9420804649477446], [0.261665764621857, 1.6899656185769438], [1.303989625468682, 1.2246379966242809], [-0.6639334418737048, 2.279774019854592], [0.7809118802471908, 1.2952061970568385], [-0.6452615858957931, 2.7275467166143166], [0.6267422692620632, 0.6680468754596309], [0.5805126738185702, 1.422023810321705], [1.6852336875609497, 0.40433573899167696], [0.9452648147653828, 1.067047562094862], [0.9164067671250844, 0.9320780995001925], [1.8460496934630242, 0.4142998921513573], [0.11959928783296048, 1.9228113380815715], [1.3946490767089035, 0.5293064607094861], [1.3767210754546795, 0.803006409053567], [0.49607213831016506, 1.5510277123726648], [1.6529596672711344, 0.28987407680266797], [1.663563735964899, 0.24474155549119825], [0.5846898192497911, 1.4497303659853364], [1.2216271401158536, 1.3614355691519837], [0.8114297800563599, 1.301501198505966], [1.0621901566761913, 0.36321122761659197], [0.756151075210907, 1.1353504683069942], [0.9033548552160962, 1.4185548875889882], [-0.43112676367165115, 2.0479588047741744], [0.9557772318418379, 1.0445962467387049], [0.8308030302507137, 1.1992790714897195], [0.5104643094215604, 1.0064619880163714], [0.9929571859997581, 1.1870605426194962], [1.6582605516702102, 0.12501664116135802], [1.4286411793534224, 0.5790454057570977], [1.8346465967749086, 0.21007902679906953], [1.085257558125852, 0.9344383622345016], [0.566590086525419, 1.2420825630438412], [1.1509051741159284, 0.9181129736677747], [2.047412501485356, -0.05949748481714279], [2.21870493661216, -0.31513238810466926], [0.38142948934078513, 1.8586873867693101], [1.9929586755711461, -0.07139797983834417], [0.3996231408947697, 1.3858619097725857], [1.3367717294449764, 0.5990696088843088], [2.2563087055057434, -0.06325827579173215], [1.5592149888235012, -0.07607573970362003], [0.49604329737622155, 1.1155586540296236], [0.6805578788495825, 0.14144247459188253], [-0.04491531415842642, 1.772650769731426], [-0.33328085608088953, 2.477801196056388], [1.2772345433210655, 0.4442674166276913], [0.17409004986770882, 1.6079908067840742], [0.3768910379670405, 1.8568893323246622], [1.1042435958128072, 0.743375275360598], [1.9486590648129787, -0.13499109189877823], [1.8664999714931068, 0.4173541315758915], [2.5011094664029656, -0.14815374725417674], [1.4501902984820247, 0.32809784178793866], [0.7532401571416383, 0.8227781785920834], [0.3696568555147689, 1.6219588823455107], [1.2648983697336806, 0.8865753091267058], [2.115347474982188, -0.06539020421355701], [-0.22875282370238437, 2.0437733650072687], [0.6678991175844041, 1.339331217964991], [2.2553439422950317, -0.30988317426552037], [1.1432291987443473, 1.1642849621947609], [0.9124541210515863, 0.6817178281804144], [1.6592512549862697, 0.22783428493928592], [1.014922972024738, 0.30660286537593184], [1.0864061946600427, 0.7726976736292799], [0.40142284989286303, 2.042520457337514], [0.8314057888935724, 1.4247444546591255], [0.36616146923962034, 0.8712284651374378], [2.166339174242585, -0.09369539656598169], [0.4798689107847509, 1.7296288463618907], [0.2964980294493139, 1.9806542322466014], [0.7977294040050427, 1.2895596041445612], [1.3660367250003989, 0.3935941067778993], [0.8481563127246483, 1.3085035236417644], [1.5741328098187368, 0.6873904940767361], [2.4981447086489856, -0.21257857170177163], [0.5789253833074792, 1.752075575471859], [1.2405622070003552, 0.7090385993378835], [1.2238496312656744, 0.8630478543422153], [0.4966249239139189, 1.8290824836329032], [1.1036578738353182, 1.581078420617644], [0.592986684793364, 1.2009820991672226], [-0.08794979438201089, 2.2720332974839708], [1.4731493692000117, 0.8600144405597374], [1.8135459415449966, -0.21832757932014024], [-0.08192255502463164, 1.5942282967022594], [0.789971070652076, 1.3516427392520174], [1.4815387447877684, 0.5654034458453245], [0.994714132696602, 0.9130212644918329], [1.0253745376405565, 1.1104148116382375], [0.41109898055237837, 1.3972351956558728], [1.1531897497300037, 0.6369508383830375], [0.4285812097133349, 1.419582472016097], [0.735518400537976, 1.0202896012328142], [1.117519053704606, 1.004441376774078], [0.6560291742545522, 0.5743282930978735], [1.4329129846658026, 0.7803283517717574], [0.6726416808646258, 1.5931549680610464], [-0.3550180545013739, 2.448552281246925], [1.1351948002660395, 0.3959357052015742], [1.1145922118661344, 0.8853963715704655], [1.3074860754951394, 0.8593922859814513], [1.8362638403339784, 0.12258465001156749], [0.979513839782911, 1.8614977892676494], [1.0551957153130163, 0.8639312985210765], [0.7516595618014099, 1.2348826619394433], [1.1117214959085795, 1.2652144631620101], [0.9463226472569952, 1.4470921353832233], [1.862823788985327, 0.26159237544606073], [0.020914740117468966, 1.6258273962789842], [0.9624453099508489, 0.9660088997091281], [-0.47426095284380243, 2.4320264197603967], [-0.05951872179685691, 1.4321772211161532], [0.5184012841338496, 1.6160930277355074], [1.7271346185681145, 0.38903413559665145], [1.0887435079835077, 0.1119515149929986], [0.3285273912773379, 1.3147968364390583], [0.9262367292399701, 1.0019415722140461], [0.5396572119970857, 1.1286226279676401], [-0.06866281595250578, 2.719306480647079], [0.4049790110130078, 1.708950230695659], [0.1756780034132125, 1.7787719205497967], [0.8671295546152799, 1.1601336795421031], [1.3673494037651377, 0.7556499693882599], [0.4983420278500553, 1.6376089338134023], [1.8510258134137465, -0.2793264238030959], [0.874839499680828, 1.1365125369107925], [2.5516449317317984, -0.3834574591047768], [0.7578602475744227, 0.9647935590505735], [1.8723774220310532, 0.3811158739246039], [0.22283001339597763, 2.0186351414694657], [-0.11911864368932767, 2.1035651318432445], [1.7960813593543599, 0.22955500266718154], [1.5953391896275733, 1.0357770060345441], [0.7327812382425427, 1.3922013954352122], [2.267195744746981, -0.592242159173884], [0.41924616315997654, 1.5238233817043279], [1.2985908004399216, 0.4004806256953197], [0.6054563726596784, 1.1118084521919127], [0.254425188817872, 1.7605588851851275], [2.0659126523945517, 0.18182165573423803], [1.0629321710642785, 1.152449558383036], [0.7436767316307822, 1.1555741892282312], [0.9562641237140433, 1.098813408023567], [0.28359402405526346, 1.649634133488825], [0.9497701669206651, 0.9697357584070251], [0.8801025179849576, 0.8838068632645816], [1.029660979782961, 1.3258139364026378], [1.9775872600962696, -0.07408887658970631], [1.9586053962591592, -0.11703549625594611], [0.6064887267351505, 1.2969776640189887], [0.5407108574213282, 1.0870435629937099], [1.8550240283746442, 0.3032366550059338], [0.1670436382531989, 2.0165295478203795], [1.3834187212785483, 0.3540263621943145], [1.3115771898517428, 0.8366399778767379], [0.9399671889555481, 1.1976301498957431], [1.8648015271920806, 0.44349014298878875], [0.8755075414044255, 0.6623788051378403], [1.2413848221531294, 0.5738711962637543], [0.2639014435371959, 1.831631094485084], [1.159981249918737, 0.783094842803995], [1.2449427060864082, 0.40048953252173614], [-0.2310633736877823, 1.9126729161178222], [0.42588934993302474, 1.8554073284571178], [1.3636527535952334, 1.0651494907433698], [1.6998034016296717, 0.13792974974719008], [1.2539545454124437, 1.4671456424124576], [1.352543617655346, 0.859417492124438], [1.2746049480232262, 0.727906732000577], [0.10244231066797471, 1.2720457485796781], [-0.20336533730003548, 2.493798640665621], [-0.3294490293148229, 2.0681730686187874], [1.009840994904568, 0.9717569008923435], [1.5024059823039542, 0.40457167767902225], [-0.10329632152126256, 2.1116176708474885], [0.4183316122894343, 2.0422834901589413], [1.89164461866571, -0.04722278674761293], [0.9624048396010105, 1.5181082364657328], [0.8986987607457242, 0.8323690490704776], [0.9615482417701157, 0.29416221318811275], [1.812986077250387, 0.09903786437720297], [-0.35341615675699845, 1.9983025018430534], [0.8154568538498779, 0.5387017661590184], [1.3616365711286345, 1.2035494757836669], [2.0309318576366433, 0.008692000592003812], [0.291385364726773, 1.6322896700687808], [2.3645796286786247, -0.004190459896642906], [1.0635557049072253, 0.9937409243727909], [0.8530791099839428, 1.1797173791817], [1.0773958359062932, 1.026880561572203], [0.6691756516138657, 1.0087636772983832], [0.8231513209273803, 1.502372530928743], [1.3268878971683813, 0.6774601147643391], [2.7296096096557454, -0.28004717551350033], [1.3811463263989068, 0.6148183596783714], [1.066639355545041, 1.0501103983855407], [1.3632245623189534, 0.5927351566534721], [1.2276804050616332, 0.401748076408604], [0.7172092084605285, 1.282437825939688], [1.3987542844787253, 0.619495632388674], [0.3939283823671984, 1.9989291487611907], [0.7212043395133261, 0.9885827450187891], [0.65331752725751, 1.4452007122937809], [0.7839013250914646, 0.8095800493463072], [1.743603798642733, -0.05916403207905674], [-0.14180462357736512, 1.8192223818557005], [0.8143507047368183, 1.4158364052749737], [0.7203572599984585, 1.054059207354003], [1.5244353652149902, 0.6217290339768785], [0.43628292773095145, 0.9761743867567987], [1.737110596477169, 0.3343916569131925], [0.5383972201306799, 1.7542393460610772], [0.42813178210787206, 1.8403738646652512], [1.7122261424314846, 0.9080549010066092], [1.1403327102840406, 0.6819249216667089], [1.0185307110919954, 1.0631710603160256], [1.3371661726096482, 1.109448891248597], [0.4306932179859114, 1.8302517159131444], [0.8690600769700325, 1.5651617907153146], [1.5848624355150367, 0.3884268713173332], [0.8447936199373487, 0.9254793402512346], [0.6420963874734593, 1.3778089214866087], [1.228241501495054, 1.0870668327797388], [2.082165785511214, -0.330275708337447], [0.46553167020297836, 1.1719927073204022], [0.34972612709078177, 1.5434723979068763], [1.7392288689947282, 0.09847008768589216], [0.7248221170088841, 1.5554148295387829], [0.39367082922100494, 1.3253902622855045], [-0.90235900396115, 2.3559104894003617], [1.0582707444788102, 0.9158309391316937], [1.8132911253487292, -0.0008713793128483083], [1.412250356890186, 0.6703620428864365], [0.7754185474037327, 1.1831113523156347], [1.0869345589300183, 1.1302127007259417], [1.6692522622449983, 0.21217468476068502], [-0.5002519418955138, 2.4422179945129994], [0.937148020326855, 0.9907373965039445], [1.1756660093033973, 0.9573224492891034], [1.3864637092640932, 0.968817539850657], [-0.4431883927392495, 2.5212169948041616], [0.9960045954844622, 1.190746283930333], [0.42285402637694536, 1.7880881283358787], [-0.7821800749370194, 3.2728084478296138], [1.357330100059404, 0.9665719313515541], [1.6062023560639345, -0.007599744720098167], [2.139998489900293, 0.27668577613597956], [1.4302774143927233, 0.7299495771797955], [0.4352155343006493, 1.3410512682981268], [0.41732833273213343, 1.215327870161371], [0.09444052356821064, 1.981897681702577], [1.1442631212357621, 1.7408484429492266], [0.24802417225521445, 2.1296480282493357], [0.6944073702290607, 1.2318565929710583], [1.3612588901560339, 0.9688314227227555], [-0.23135929880738382, 2.2998032348892767], [0.7869078028601042, 1.1706502932307736], [0.20654138768978758, 1.355143954678331], [1.5307670364615804, 0.5541580529276866], [2.026361461102984, 0.3997442882331672], [0.8991398916194319, 1.3359808103529671], [0.21948757541047859, 1.4626781257924968], [0.48250111765797954, 1.799879372832415], [2.179631433519358, 0.17294381973391804], [0.4523331878266543, 1.402076809473506], [1.543095003418656, 1.2022504455906406], [1.756005579286922, 0.6412683017424746], [1.2980757382422958, 0.6223332307843603], [-0.3862374251983929, 1.9930331216850816], [1.232893629270726, 0.7490507737423103], [1.4345577972621681, 0.869222088911768], [0.6590835709333993, 1.711453418759231], [0.2361577161704589, 1.567704748929387], [2.3790028140241546, -0.561725021639498], [1.0302483098302773, 1.0731058943524647], [0.43594688618696353, 0.884975420693774], [1.6880178760971323, -0.04151541711369666], [0.969397114471858, 0.7021734752843816], [1.117082841489993, 1.2073735679415258], [1.6861519307263322, 0.9029579466664369], [0.5696007548396921, 1.4290519466387592], [1.3895522706025434, 1.197311264403381], [0.5829450296306615, 1.111259490543454], [1.0169031738494532, 1.4549848710661348], [0.8920817198404377, 1.0514336515739542], [1.5513677714173832, 0.5072444849640225], [1.466556841690978, 0.864373704683219], [0.19918120106260462, 1.7764893295130113], [-0.142582325199212, 2.101543706534318], [1.3150400706433953, 0.8230360422950532], [-0.0394992897209796, 2.0716593875139733], [1.1755966454865352, 1.045622292803726], [1.6994007500354813, 0.3878473930138506], [1.3929280856943445, 0.44160642794997507], [1.9904153291984052, -0.0185213710183334], [1.0120254203215076, 1.38028189077325], [1.9298898601572296, 0.06917476027664926], [0.677277967034746, 1.276099847368486], [0.25816568042172516, 1.4320890355273668], [0.928392024312876, 1.3098661241367984], [-0.0919541082371036, 2.2790250240651218], [1.1178945960528013, 1.39392488598051], [1.280529984085688, 0.9166807884317646], [1.3954775138558357, 0.039115769398286426], [0.7825981316599425, 1.8195520587992249], [0.2332526081150028, 1.7820279850630993], [0.4871252372442082, 1.8749987440789], [3.04623327760434, -0.8357582620847472], [-0.09817620236364633, 1.4029040509025792], [1.80603532732168, 0.5274268459933179], [0.9591695040403165, 0.956416904357474], [1.4912816534302575, 0.9012243783301886], [0.2020425233804114, 1.716082538247936], [1.692895032093094, 0.6854921019090824], [2.1691553314633443, -0.16219616840977036], [0.7847605562732582, 1.5670247578241052], [0.48338201092234423, 1.7235568888016437], [0.1758297472124314, 1.5741632522727405], [0.6434660679203819, 1.4741220999101645], [1.4327622341948387, 0.9233811156945289], [-0.5427335778722977, 2.3830832738397767], [-0.5291913436401581, 2.3307684639966633], [-1.016052027212523, 2.8630656957452443], [1.1632752090590353, 0.593939409004985], [0.8330185298599105, 1.4412607816393876], [0.16518328990364894, 1.4337973711787892], [0.6822451267598469, 1.7310590017121803], [1.4279926940823267, 0.4530492540089113], [0.7616685653533389, 1.3204834052266468], [1.7382991484648154, 0.43091380983746674], [0.978924463181855, 0.9809595771100417], [0.5092443711856931, 1.211152872072714], [0.794699581735938, 1.1839656793016642], [0.6128738511603425, 1.2122658535902995], [1.0933381864420888, 1.0730697995682936], [1.3612499573708083, 0.5114235266475979], [1.936404026735055, 0.21825107409187672], [1.8281688800389417, -0.2544185461402384], [0.37704308154620203, 2.111988579594456], [1.135029570316292, 0.822168399964096], [0.8336123506059484, 1.4230808986122165], [0.33682506479034335, 1.5072410534308474], [2.0069092382700378, -0.7798628329168666], [0.8915618790932648, 1.3112347922652194], [1.3400232752864152, 0.8206395220993603], [0.347228553672821, 1.7654657074913769], [2.72569858580265, 0.08956179233336758], [1.1334275698568423, 1.148458844052797], [0.6713935589527715, 1.530293359560835], [0.8633763048940782, 1.5339975963852592], [1.6257782730027601, -0.23222530356324422], [0.034190095676405186, 2.3620707753985286], [2.1169882380013716, 0.26130146162325374], [0.40294549251262823, 1.178544630586798], [0.9829686392338983, 1.0829461765930644], [1.174153219993174, 0.316681987280542], [2.08542871750945, -0.46048283507618315], [0.2618808566421308, 1.5305174840072011], [0.9135232446985695, 1.7001538874498976], [1.422861792403674, 0.9022952711717337], [1.8342870446002122, 0.05113346255115381], [0.4326146137662422, 1.622200670454073], [0.544518530790822, 1.6152416437373982], [0.8963587156415281, 1.0879969840906714], [1.2915189299452496, 0.5632180339210393], [0.37830957154160616, 1.333220654284712], [1.3683516336354549, 1.3472543034990494], [1.214730109835643, 1.1882454474435773], [-0.12745345597403523, 1.9434256135990633], [2.6032289483450644, -0.5137612820395849], [0.3595055617442141, 1.7725588105838361], [1.27127961731965, 0.7327580382238907], [1.3862938055689342, 0.6686891997483748], [1.5383056170956735, 0.9690104877866963], [0.686077785388693, 1.9568195223671432], [0.8453085154848972, 0.9897305347524837], [1.89064741992531, 0.3874762885817772], [1.0432258936413366, 1.0685010938806887], [1.8685489827335582, 0.5817398116241557], [1.1883397718635644, 1.2045955131045671], [-0.08699337089563586, 2.0970185923616267], [1.532003513087818, 0.594930288318599], [0.9674512858745987, 0.8283167132081171], [0.2916169450984616, 1.8264818913872591], [0.920938305416859, 1.1244872938455266], [2.1751357628154766, -0.9377025094275622], [0.9924677304599885, 1.2643055237054526], [1.399286777159653, 0.6192017594711543], [0.7874789696389466, 1.1576423730930876], [1.309993552809566, 0.41380197885184256], [2.1648659222617592, -0.17468306147732604], [0.9401320424962613, 0.9983248741323698], [1.5919543815315116, 0.7420885854605848], [1.6035408684446575, 0.3330092973975842], [0.9725499316487959, 0.9769028176788762], [1.1898444110209152, 0.9109044383023315], [0.9652643032099163, 1.6083808668039798], [1.7519739367690512, 0.5758010878847882], [0.7686808298897141, 1.3962092939098074], [0.8965116058523636, 1.0400310404378432], [0.9858367286579534, 0.7472573397450409], [0.28128080401494127, 2.2609129237600456], [2.717768535769698, -0.7012645110485307], [0.8194566400009218, 1.5323512605766296], [1.1403163205343219, 0.8456263910592352], [1.4494305975034183, 0.04040422988594572], [0.6768571572599833, 1.1808540522590967]]}, \"id\": \"el2653140551584580688\"});\n",
       "   }(mpld3);\n",
       "}else if(typeof define === \"function\" && define.amd){\n",
       "   // require.js is available: use it to load d3/mpld3\n",
       "   require.config({paths: {d3: \"https://mpld3.github.io/js/d3.v3.min\"}});\n",
       "   require([\"d3\"], function(d3){\n",
       "      window.d3 = d3;\n",
       "      mpld3_load_lib(\"https://mpld3.github.io/js/mpld3.v0.2.js\", function(){\n",
       "         \n",
       "         mpld3.draw_figure(\"fig_el26531405515845806886302902368\", {\"axes\": [{\"xlim\": [-2.0, 8.0], \"yscale\": \"linear\", \"axesbg\": \"#FFFFFF\", \"texts\": [{\"v_baseline\": \"auto\", \"h_anchor\": \"start\", \"color\": \"#000000\", \"text\": \"None\", \"coordinates\": \"axes\", \"zorder\": 1000003.0, \"alpha\": 1, \"fontsize\": 10.0, \"position\": [-0.16129032258064516, -0.16129032258064516], \"rotation\": -0.0, \"id\": \"el2653140551538452368\"}, {\"v_baseline\": \"auto\", \"h_anchor\": \"start\", \"color\": \"#000000\", \"text\": \"class1\", \"coordinates\": \"axes\", \"zorder\": 1000003.0, \"alpha\": 1, \"fontsize\": 12.0, \"position\": [0.86122311827956988, 0.91129032258064513], \"rotation\": -0.0, \"id\": \"el2653140551538406480\"}, {\"v_baseline\": \"auto\", \"h_anchor\": \"start\", \"color\": \"#000000\", \"text\": \"class2\", \"coordinates\": \"axes\", \"zorder\": 1000003.0, \"alpha\": 1, \"fontsize\": 12.0, \"position\": [0.86122311827956988, 0.831989247311828], \"rotation\": -0.0, \"id\": \"el2653140551538408848\"}], \"zoomable\": true, \"images\": [], \"xdomain\": [-2.0, 8.0], \"ylim\": [-1.0, 8.0], \"paths\": [{\"edgecolor\": \"#000000\", \"facecolor\": \"#FFFFFF\", \"edgewidth\": 1.0, \"pathcodes\": [\"M\", \"L\", \"L\", \"L\", \"Z\"], \"yindex\": 1, \"coordinates\": \"axes\", \"dasharray\": \"10,0\", \"zorder\": 1000001.0, \"alpha\": 1, \"xindex\": 0, \"data\": \"data04\", \"id\": \"el2653140551538405904\"}], \"sharey\": [], \"sharex\": [], \"axesbgalpha\": null, \"axes\": [{\"scale\": \"linear\", \"tickformat\": null, \"grid\": {\"gridOn\": false}, \"fontsize\": 10.0, \"position\": \"bottom\", \"nticks\": 6, \"tickvalues\": null}, {\"scale\": \"linear\", \"tickformat\": null, \"grid\": {\"gridOn\": false}, \"fontsize\": 10.0, \"position\": \"left\", \"nticks\": 10, \"tickvalues\": null}], \"lines\": [], \"markers\": [{\"edgecolor\": \"#0000FF\", \"facecolor\": \"#0000FF\", \"edgewidth\": 0.5, \"yindex\": 1, \"coordinates\": \"data\", \"zorder\": 2, \"markerpath\": [[[-3.0, 3.0], [3.0, -3.0], [-3.0, -3.0], [3.0, 3.0]], [\"M\", \"L\", \"M\", \"L\"]], \"alpha\": 1, \"xindex\": 0, \"data\": \"data01\", \"id\": \"el2653140551538353168pts\"}, {\"edgecolor\": \"#FF0000\", \"facecolor\": \"#FF0000\", \"edgewidth\": 0.5, \"yindex\": 1, \"coordinates\": \"data\", \"zorder\": 2, \"markerpath\": [[[-3.0, 3.0], [3.0, -3.0], [-3.0, -3.0], [3.0, 3.0]], [\"M\", \"L\", \"M\", \"L\"]], \"alpha\": 1, \"xindex\": 0, \"data\": \"data02\", \"id\": \"el2653140551538912720pts\"}, {\"edgecolor\": \"#0000FF\", \"facecolor\": \"#0000FF\", \"edgewidth\": 0.5, \"yindex\": 1, \"coordinates\": \"axes\", \"zorder\": 1000002.0, \"markerpath\": [[[-3.0, 3.0], [3.0, -3.0], [-3.0, -3.0], [3.0, 3.0]], [\"M\", \"L\", \"M\", \"L\"]], \"alpha\": 1, \"xindex\": 0, \"data\": \"data03\", \"id\": \"el2653140551538407952pts\"}, {\"edgecolor\": \"#FF0000\", \"facecolor\": \"#FF0000\", \"edgewidth\": 0.5, \"yindex\": 2, \"coordinates\": \"axes\", \"zorder\": 1000002.0, \"markerpath\": [[[-3.0, 3.0], [3.0, -3.0], [-3.0, -3.0], [3.0, 3.0]], [\"M\", \"L\", \"M\", \"L\"]], \"alpha\": 1, \"xindex\": 0, \"data\": \"data03\", \"id\": \"el2653140551538451280pts\"}], \"id\": \"el2653140551538911888\", \"ydomain\": [-1.0, 8.0], \"collections\": [], \"xscale\": \"linear\", \"bbox\": [0.125, 0.125, 0.77500000000000002, 0.77500000000000002]}], \"height\": 320.0, \"width\": 480.0, \"plugins\": [{\"type\": \"reset\"}, {\"enabled\": false, \"button\": true, \"type\": \"zoom\"}, {\"enabled\": false, \"button\": true, \"type\": \"boxzoom\"}], \"data\": {\"data04\": [[0.7465277777777778, 0.7983870967741935], [0.982078853046595, 0.7983870967741935], [0.982078853046595, 0.9731182795698926], [0.7465277777777778, 0.9731182795698926]], \"data02\": [[2.3109093641600613, 4.324907578082301], [5.022014367380573, 2.3205391561937887], [3.1468646280604253, 4.736275387548077], [3.653574119788859, 3.780087834302052], [5.17887973733488, 2.7621763545636213], [4.633040816719562, 3.205967157527449], [4.110712459931281, 3.981961560189024], [3.4838020599407375, 5.62735684910025], [5.541497948657315, 4.070390475637231], [3.097181274501185, 3.759027140591996], [2.8148119775653972, 3.728350345584599], [4.4647439479823445, 4.073361855790437], [4.144861270733327, 3.282363183706272], [5.760520254890299, 3.8137707426128804], [3.6061259109673127, 5.096555354329547], [3.622440377042114, 2.8782812320076014], [5.741575931262502, 4.506751196688439], [3.392918665006076, 3.2133865172468488], [4.128433996984332, 3.361298770007001], [3.3663755255704038, 1.8632476994555431], [2.424636402754737, 3.6212725618120634], [4.748348211304876, 2.4559405292592427], [4.337416414719392, 4.169579791388476], [3.7404760221148092, 4.618011194475729], [3.9177277352707645, 5.001628775747927], [5.458326548467359, 3.60960828537846], [5.579412636425973, 2.9512122523438533], [3.2591616718875467, 4.010865635017966], [2.9902058377688836, 4.619433639537814], [3.6328072646153675, 2.47153021767023], [3.8403870835014633, 5.715957036903854], [4.497787960806188, 3.9494827709301137], [1.9380521178952383, 3.42090944003746], [4.885874276526922, 4.925767955174225], [3.2561951349205867, 3.4356184280016904], [3.573126864681103, 4.3371803129391635], [5.029255354063969, 4.289289967133673], [3.837706086837671, 4.299696378792122], [3.7196152321643416, 3.6319360206383413], [1.9375666429210572, 3.643090850911524], [3.481947162374082, 4.4024927967729415], [2.572005883442422, 4.341154700245251], [4.360925628754199, 4.86845756153836], [3.3320231967425915, 3.9681232653917453], [2.053691475618619, 5.03640475858059], [3.5775384205868646, 3.344878061648117], [2.9297744123024314, 2.787347375468937], [5.319758212094512, 4.713907013015485], [4.586007879828954, 2.99426104268387], [3.523276723273856, 4.054247667773872], [3.7742380097696295, 4.181189195671644], [2.8053055276598053, 3.5621611663908377], [4.903485303001677, 4.588579810525589], [5.279671995509107, 4.896678934773427], [2.650724100195834, 3.6676053789669973], [3.911481189311461, 3.0070121253948137], [4.124221910166, 3.53291187605834], [4.223966120538985, 2.950583952775644], [2.942397605379875, 5.7865932403662415], [2.70595129887258, 5.060806547285305], [4.120578160037159, 1.483291009173748], [4.202218068318533, 3.357573455196459], [3.480496717468685, 3.4101960162500484], [3.827708748305758, 4.798626294873112], [4.076919356190409, 3.9133084871724835], [4.772705452327075, 4.170698011545326], [1.834340122804179, 4.436186966554655], [4.4048488217878505, 2.95110375260649], [3.762441092083168, 2.5338696489157395], [5.179193488196435, 5.846863477348168], [4.877178464074497, 4.103854697315189], [4.048093597109149, 4.046843585722223], [3.360836546443199, 4.294872462765098], [4.897300468893626, 4.471086071450706], [3.7699134029021204, 5.55060358465763], [4.400473700652761, 3.3661759620268312], [4.337651999476438, 3.576089153404849], [3.401255828032137, 2.763571041443753], [4.186827546461209, 5.111113999889698], [5.526792290907531, 4.5997215557547895], [3.908176440280555, 3.660827191645598], [4.792829873545781, 4.023163219129948], [3.892538238699412, 3.7491208292262646], [4.122695300107408, 4.277255098144896], [2.682282246996685, 4.231400732849936], [4.261156039116062, 2.8924671287929344], [4.228862738067031, 4.6311884861207275], [4.1299822523193646, 4.310241562190546], [3.7894479591148333, 4.147625765260794], [4.565775762246458, 2.578160285807546], [3.905499670869461, 4.28667513840399], [3.108193489980469, 3.1327450418638074], [3.9625381243395403, 4.756315290995454], [3.9731778678583836, 4.4269755747908155], [4.651448363122527, 2.8332206750247306], [2.871162023829154, 5.677624937990142], [4.727379358699189, 4.527072311861714], [5.917444013549529, 3.7079421832582846], [5.999864132935425, 5.077339182377896], [2.9101602223352003, 3.6205535899755943], [4.622730478252955, 4.517689319675957], [3.630208720565673, 5.576957993755872], [3.6744480719373662, 4.0925250651819445], [4.247663371568276, 2.954645960102579], [4.119044585509802, 4.8510557550729825], [3.432027185790501, 3.564229512253997], [4.386029488848143, 3.7541324173958808], [4.671431576499689, 3.5449308304205127], [3.618565078340513, 4.626505136969919], [2.360318035285921, 2.5637103326940673], [5.132401390610135, 3.7094477484903248], [4.41284624270482, 5.017514105022635], [2.843180730681958, 3.9497088144066606], [2.5810451313733003, 3.4260805953037363], [5.226311895154599, 3.177601886937266], [3.866921451266568, 2.9378707302303706], [5.299874874914261, 3.626835618409291], [4.235099529158939, 4.111461579654123], [5.981305646246422, 3.948630786672077], [2.6288411213990495, 4.199601149898399], [4.495797553833406, 2.9361149780950475], [6.03102777019324, 3.57729630849551], [4.321625117603864, 5.829303584886212], [3.389953471231157, 3.795713214114079], [2.8961161297534117, 4.3597430298798], [4.641247020194478, 4.263852784394996], [1.5697996701775625, 3.5568349921833895], [3.5498287367981267, 4.33039188386781], [2.2487563628729683, 5.446450229740716], [4.2545022652784406, 5.007568040235118], [4.28273288547588, 2.8355658531329646], [4.34576262140251, 2.529587582835656], [4.260574322302179, 5.243817859836782], [4.433151806409658, 3.1878858859974204], [5.464877713091017, 7.500947502908598], [4.572883289069136, 3.2816023823505898], [4.162848141817287, 4.909127082279054], [3.6136952695598925, 4.364970270256361], [4.041950418490187, 3.1060438988854724], [3.68131055259115, 3.092306963911246], [4.495669127911779, 3.433663746891722], [4.498090702213483, 3.249955557379093], [4.899965099233744, 3.14597663374213], [3.8972679923351565, 4.674329438787084], [3.7146974254302174, 4.218544287083589], [3.2381690793542717, 4.735277136843271], [4.7569821285801455, 4.287971751378535], [3.8162759904023735, 3.971203732965096], [3.126986618154607, 2.94506787498435], [3.199755872900409, 3.9398731622862706], [2.9597753343060464, 2.694691565218255], [2.4798663614969936, 3.9036378300058936], [5.050873636303067, 2.433838977077164], [4.218914765855349, 5.167911156356396], [3.6243743993386945, 4.576946433042544], [3.6391908184622204, 2.521568538063545], [3.884440537481562, 3.911603057561778], [4.406733718080024, 3.509408278408754], [1.2182046527776698, 4.0700923874180495], [4.308325354442264, 3.7509798629355955], [4.443567301525821, 2.882769421896726], [5.228291679461397, 3.4935340864366218], [3.90236719671323, 6.273180938593003], [3.938540029602712, 3.890967478785736], [4.7437140460434915, 4.504928902450525], [3.5661438019982272, 3.4922007690376287], [3.3371038792053875, 2.9687088155018007], [2.109197254737417, 2.959277492011956], [4.870485593397251, 3.72318974829046], [3.940395035155051, 5.594888817148384], [4.029480724341221, 5.095501340679929], [3.5529785484467418, 4.9798879950899915], [3.9815743890512407, 3.3868050747127385], [4.1329064157319895, 5.070351627470644], [2.640116965115717, 3.323310130818609], [4.775898744231237, 3.016580562372942], [3.383417061841345, 3.332775061732749], [4.971723543715024, 4.54442464316994], [3.5516269561715075, 2.398292466727682], [3.4449030632489, 3.4238568765642885], [2.1795985185674285, 4.11802800238248], [4.2811877197857235, 3.6121745331455104], [3.621202412518376, 3.006735852885756], [3.5151150848335466, 5.331849175693629], [2.158941868363851, 3.139702597359261], [4.159771414839689, 4.057218317849999], [3.2960598588153065, 4.405311826315413], [3.279532837750353, 5.686424261455623], [4.294493888000178, 3.6734841876873885], [3.4573890682483133, 3.8964335895643165], [3.0611209500921603, 4.794811268407653], [3.444428285177364, 3.5823601014441326], [4.879978492184085, 6.369159784154013], [4.887297551584344, 4.775454629690928], [3.2401934152046152, 2.9575777470687212], [4.8327078873089855, 1.9458304475468173], [5.450719627496904, 3.5671794877451757], [3.820356952906766, 4.70146046135678], [3.157469837546794, 5.142204816877565], [4.270937518596882, 4.995799072010719], [3.887463737222519, 3.5325293423160593], [5.251229250108375, 4.047654970220168], [3.7739607039559138, 4.328902453063843], [5.276973972767571, 3.905631401093915], [3.9269340082706004, 5.120281937308647], [2.318459062684223, 5.530805801969544], [2.663241781884687, 5.202110800360031], [4.45326188208191, 3.747171756163228], [3.744860668709959, 3.912639239234925], [4.637338518414329, 6.098778895158161], [2.61703501481242, 5.598715711432094], [4.578389589433155, 4.78080305207405], [4.52459809051632, 3.7485292919781577], [3.8640735953254572, 1.6953896853397445], [3.982244615526176, 3.68050732113109], [5.568460264743918, 3.9950416186787847], [2.8074361884457093, 2.8280318385326852], [3.384062838671352, 4.878953242928237], [3.2218494248387826, 4.023935684845945], [3.0799919191947325, 6.789662067419549], [5.0001933603337925, 4.7045187394492585], [4.8653736327409485, 3.997068032099466], [4.669836932731792, 4.2012721040016725], [2.3796687460834622, 5.869520201722331], [3.32844824532445, 4.0438044496976415], [4.661419305305311, 4.808559158496308], [3.004298562212366, 2.370577430002059], [5.38201063217258, 3.0869665473666683], [3.6027023230942317, 4.0058832426288635], [4.5628920726463305, 5.505975778310747], [3.8149685659092882, 2.8288744116625315], [3.6405684725688716, 4.874304425653229], [4.766486671077206, 4.1633260841800634], [4.084730462788818, 3.15551028357676], [4.165078202508093, 5.185070901215217], [4.1549325421252705, 4.438572539320669], [4.117561135650566, 4.371925839634235], [3.898021655981729, 4.122338989981294], [4.03499782384138, 4.166448453371268], [4.073998196550147, 3.850198222360322], [4.8428579484551975, 3.1453153672737164], [3.5070121570953043, 4.333414373401346], [4.326544374002303, 2.698464755360013], [3.98945455246382, 5.30923732924833], [4.017868995493477, 4.306563999200038], [5.214648958501353, 3.0957161377752347], [2.604534112867853, 4.180788564796936], [4.944918126443701, 5.523815565675266], [5.697403267126269, 3.974918304759833], [4.557797535115691, 3.6560547722434595], [2.846735442138706, 3.6132549601275334], [2.8004567165422434, 4.678952156723613], [4.0771499345664735, 6.142781420405559], [2.5029409061645866, 4.5591397567580065], [2.5706558704383964, 3.648893528009026], [4.347666753390579, 4.766656410605644], [4.593290469496377, 4.747794463575577], [3.0511769220713125, 3.1699028416629886], [3.0416875363508304, 4.492599296143076], [5.40227477753423, 3.1187960363723346], [2.8424367289463364, 4.85688728518417], [4.886460048954568, 3.04947354827899], [4.498775341438684, 4.20681460942043], [6.315310129986198, 3.164709188673276], [2.9408202623850332, 4.926461483066868], [4.585077351083753, 4.580461618085608], [4.864202721776112, 3.2673513469909112], [5.139317770604702, 2.9304659080774944], [3.1015290135998637, 3.748035113873416], [3.0159761348855927, 5.270960096995061], [3.541569176448831, 4.538513530993665], [3.9413888330358513, 5.459051522973155], [4.192846561746412, 3.8744863482238463], [4.505033221904425, 4.539747962779547], [3.117479354137874, 4.479482297239498], [3.4286650770570155, 3.3359464142982214], [1.7899170446211068, 3.8423756869639454], [2.391968703557569, 3.936613660044964], [3.184213606217778, 4.585579409822674], [3.6346891172182527, 3.879005343925174], [4.386148074255489, 4.064534693496927], [4.169634352876492, 2.8853950763654117], [3.281123430494206, 3.613560163170243], [4.842550137779049, 2.6285733294243263], [4.185798545200868, 4.1932013133225094], [6.093604975887985, 1.9312298664384167], [4.3703115118506, 4.224418372487496], [3.908532675256777, 4.843290471082485], [3.749891952283248, 2.7566956152075974], [5.687060464606149, 3.647722617482993], [4.433864677901698, 4.292636969470814], [3.4928500309485755, 4.41046530397799], [3.9668541665929697, 5.052605316727482], [2.7453494349438854, 5.388730707109318], [3.120291473453798, 4.19530531837699], [2.9255999142338216, 4.1362978938791715], [4.427197338144119, 4.034914131965726], [4.428102175355081, 5.042133325997414], [5.168645818464912, 3.884737054831558], [2.3125850403862165, 3.455182990237051], [3.969054917115601, 2.9780248070746675], [4.8664936914191275, 5.69410092600453], [5.02278435217819, 3.5101093733096964], [5.164544531993792, 3.0688959804908214], [3.66199020265423, 4.165146583497093], [3.4041398735416957, 2.2386664151817497], [3.199351938209231, 4.489526704264897], [3.2254876132798342, 3.257224772231094], [3.470914456406432, 2.8199704767204885], [2.436229506342273, 5.046074356702862], [3.4762278136712172, 4.224277122934166], [3.7809582051634796, 3.82246895308863], [3.0214347978869514, 5.056580113979125], [5.273673128637478, 4.3064366269806795], [4.636108193110135, 4.648113438454406], [4.037850990780535, 4.838208126943476], [3.915458324548681, 5.865517438197976], [3.7421883576859356, 3.9201707347917414], [3.96319569084004, 4.401574392652881], [3.2316080829285054, 3.815740778945614], [4.958980883699654, 4.123485276876077], [3.981284503821882, 4.197199527017824], [3.667332860067798, 4.822524354381993], [2.6324718909400704, 4.441307822667574], [3.5293443225728063, 4.330945800514283], [4.842481723078199, 3.6959709445498885], [5.166537213266771, 3.224671150201395], [3.709087810174488, 4.1021748724740705], [4.237260972237842, 3.6541315400596592], [3.531267876549528, 5.546993405346176], [4.18740923269713, 5.365053885777408], [3.405094210801712, 5.512757142353138], [3.7015946924305045, 4.460158338157125], [4.053234610873351, 4.494733004941017], [4.354606682407761, 2.925173847470882], [4.457328413948469, 4.5038731732582695], [5.640929659171523, 5.060395620299609], [2.873635729622357, 3.4820464330199603], [4.427506524408261, 4.076844317947971], [3.738403795829956, 4.194897640015639], [2.8933363619361243, 4.2973461212293005], [3.5997363648424368, 4.581457821873112], [2.9279998256661344, 2.8680085761714142], [3.3965565512356406, 3.0110258314346168], [4.202318152161535, 5.788199305201072], [3.44340783433878, 4.704448619737944], [4.5626140637263495, 3.3087534720530813], [4.998866042975011, 2.534679718268707], [4.98435202292318, 4.748132264988962], [3.659793711113456, 3.1193534363474775], [4.0496657029607155, 4.54259125957312], [3.709175585238977, 3.889299028934491], [3.215593603923487, 5.409855043396738], [3.7058398449303707, 4.240722503247001], [3.4252234739679728, 3.4122111606179284], [4.8426807293628, 3.4913405574909047], [3.371558842737878, 3.427539446290771], [4.0970853754244185, 4.111274050894226], [3.3935534606385533, 6.136819069230513], [4.551156692514795, 4.6043932553853955], [4.311574430305487, 2.819329757671961], [3.2734398895608035, 4.5068372005843225], [4.478530557509133, 2.979349000493227], [3.649082877518287, 3.779058638700308], [3.2317122997644177, 5.173541088854028], [4.231108711902336, 4.8003192904524585], [4.593964500234961, 3.648391694057156], [4.501263418356993, 3.7531637438669576], [5.108974649491012, 5.359172984399889], [3.315594206900112, 5.685778245284094], [2.633052134275512, 4.436642452300433], [4.282731658200304, 3.4011445354246423], [3.1704240855806853, 4.096508691975354], [6.248494974264471, 4.2175950120808245], [4.422511311127588, 5.039877600860113], [2.2678466904356007, 4.862615614437393], [4.0808368420704175, 3.4467613983901257], [4.530639025009146, 4.649894154282787], [3.728298249806945, 3.2373797413375858], [4.722041791565499, 4.679277795697969], [5.3683276367915465, 3.8637714116936586], [2.3484504928887695, 4.0066487388777885], [3.5093784778676844, 3.0519897440140102], [3.348001366934284, 2.78408248011241], [2.548530067391108, 4.908025058512809], [3.3214933168211873, 3.951671581826028], [3.7529038019701284, 3.914152945192915], [3.34893353651247, 3.5033003163104044], [4.229811980034601, 2.185838683451398], [3.6228430776281924, 5.332845791676578], [3.805864378291621, 1.852937780129281], [2.5153706766570414, 3.908158423659835], [2.6621150638362234, 4.490319787106055], [2.7441276474901466, 3.640144198408702], [2.2531800469289007, 4.6981298882714775], [4.6187075728903695, 5.003164904134401], [3.625249135397486, 2.9570399519841444], [2.606315933693786, 5.48443641610762], [3.3986302393605126, 6.164534747205892], [3.373627685717727, 6.116764235651831], [1.304362473221873, 3.6519207090544104], [5.692590656689016, 3.355180674569787], [4.027565034972555, 4.2581878056177205], [3.3594370132449423, 4.79781290724754], [4.226880061102002, 3.795510721530561], [4.162971848403719, 5.771332265733728], [3.747030225212787, 4.446555950350237], [3.9263545202941175, 5.504214110084559], [5.070830237031165, 3.8795071734647872], [3.8620630754668017, 3.83600995593277], [4.694125033754889, 2.860846951813036], [4.626293924976588, 5.537137658281465], [4.447409393798461, 4.182847360084554], [4.413919552162094, 3.3110794283182248], [4.407894580869999, 4.590215866973266], [2.3098485844313528, 6.314445561433638], [3.8230357485814137, 4.758570377079414], [4.026016417863601, 3.0919741066228745], [3.334742839425658, 4.219723338344859], [3.8966277023568767, 4.953737001880447], [3.3514076263562416, 2.8988937964553116], [4.73526042806978, 2.5695512863395766], [2.9933528597851162, 4.347566308435458], [3.754815420759823, 1.9284004295537986], [3.770455639215792, 3.9510833194525943], [3.0609699581570444, 2.527540780394056], [3.815674679039139, 3.9790639967736965], [4.490723516437456, 3.731401895162963], [4.917307742620091, 3.8706249716169427], [4.681682570018214, 5.3599154383320124], [3.774860099649394, 5.3206362411125445], [3.5848724878599376, 5.2768023439694405], [5.282108742260304, 4.166755309722523], [4.537260302657129, 4.871925018200015], [4.060412280432238, 4.960641751427982], [5.704448960782692, 4.047450020573787], [3.7368096010599685, 4.0982157042128975], [3.9505284779433087, 5.142709929534075], [4.962810347427686, 4.75026649746726], [4.050673188564447, 5.202871493941991], [3.8612435036500883, 3.814465643272074], [4.3626122899766875, 6.086285600704027], [2.525759315382974, 3.2525760456504056], [2.0438411432985424, 3.471374161210015], [3.172348069703024, 1.7768570728905524], [3.5976811906289625, 4.086344211521939], [4.410183797664103, 3.885467073168539], [3.5528512676966715, 3.212884495080231], [4.095471311362322, 3.6950708294428964], [4.199820455930271, 4.012064201385611], [3.4188016545339015, 2.9162999550891455], [2.623686988448754, 3.748420442258545], [4.669676244782101, 3.2755710180500164], [4.547658680553425, 3.697248043220992], [4.660991234968775, 4.630024072288885], [2.1730033311547503, 3.4614649464360094], [3.057619336152129, 4.189283099023839], [3.093712174612139, 3.240404552271927], [4.710165843674349, 4.219501187797419], [3.094281534387264, 5.011324292480147], [3.335217576620451, 3.579918340558547], [4.028896434317725, 5.09234648434571], [4.869088330205772, 4.335424398264347], [6.006217975643398, 3.0552628458981306], [4.541734138875893, 4.147063715715038], [4.711885578090006, 4.029371327263297], [3.473369255499891, 3.3995797750772616], [3.1450435646993293, 5.179689187195266], [3.5313964472929142, 3.7391100963605375], [4.412853760589129, 5.096990890621543], [2.7656314336946783, 5.781093178999697], [4.584421510895181, 5.004838831407733], [3.0043261856801022, 5.106875917173248], [3.0629362353682628, 4.4131655820626206], [4.751226018094933, 3.624843283345413], [4.218465685521494, 2.7998080268222365], [3.2946137702242178, 3.41640414296516], [4.5266173927694835, 4.2202139593997385], [5.072117070885076, 3.7508816415486907], [4.31753874108564, 5.761992733781728], [4.454073115909533, 4.315074699747052], [3.448763725343445, 4.608064157164701], [4.395469653661206, 5.151067953649088], [4.55795377299065, 3.926237770997816], [2.827790985134717, 5.015689103653709], [3.748852378152555, 2.6542197764474684], [3.2909320957491275, 4.219296618574367], [6.825557547467108, 2.665017578980817], [5.963622154800424, 3.5135499386659825], [2.980261401480613, 3.689998518105971], [4.803792687255893, 5.528449982648514], [4.5720710815740055, 2.9986807245688967], [5.536814320284743, 2.748364604342072], [4.223935996224219, 4.064411959196954], [2.7431703864498695, 4.511262502287036], [5.322262543093924, 4.10506096086851], [4.91218994784704, 5.291169571152574], [3.1838974844389645, 5.7507478174459505], [4.579686913604499, 4.59653884007825], [3.5599011485559826, 3.295755176660257], [2.919209568033334, 4.572664581618146], [4.843450379880888, 3.0478563086466446], [5.892131090507718, 4.574975062138958], [4.285438247096612, 4.415441117505118], [2.1939809802327828, 3.418077120618576], [3.117283163676585, 4.998254612098379], [3.575150808449015, 3.404508431529054], [4.095861018228437, 5.482601862746707], [3.618362964400071, 4.562070647778493], [3.834015219151345, 5.685867040515085], [3.232078718253301, 4.020742736587522], [3.856753091108771, 4.619603776173334], [3.446508875656145, 3.2252941390417877], [3.633259879155416, 4.971347450088579], [6.388213749716522, 2.924098233453784], [4.363960942134721, 3.76209776850674], [4.9837876906204395, 3.778069390106944], [3.9483378649844023, 5.447118596946385], [5.095955993953952, 5.309957816227173], [1.5605364655996716, 3.59371775089302], [4.325957213677005, 3.669944843865404], [5.265495395346328, 4.336949698303665], [4.5307920844378, 7.042577184159425], [2.837322016511994, 4.891427905840573], [4.537756486902575, 4.716324646604099], [2.887250943234139, 3.973086879879828], [4.546905271943146, 4.673741865751173], [3.577076524584363, 4.680758776499828], [2.9272858520074347, 4.253941395496542], [4.480227131957614, 4.158402126748366], [4.724684722086973, 3.226446759212096], [3.8947281473060666, 2.7237408936633303], [3.374762159388303, 4.225126871717201], [4.551477694466971, 3.509290593832079], [2.5440756294866627, 5.165024003712243], [2.856739287914955, 4.382895089222753], [2.5194534162622224, 2.6336563461928413], [3.3524068941779372, 5.546693201108942], [4.172551849498917, 5.362145610923385], [3.397534700440454, 1.7412711612577798], [4.005266551080818, 3.97591052071757], [4.76447646822148, 4.190330559593504], [4.598078403678106, 4.783880077158239], [4.7654042222979776, 3.4114909981643047], [5.76522962545971, 1.2706954905438992], [3.553433695311494, 4.781436835374958], [3.17152620697508, 1.7478190741752866], [4.788951951206817, 2.5937491951426472], [2.7550146006133045, 4.157138025584561], [5.509540225929709, 3.0105595661679945], [3.1020987684159165, 4.3905032313428585], [3.7969257924462942, 3.609273713760935], [5.468815974682645, 3.0687227373000745], [4.059730774246098, 3.5457929176313168], [5.216590281095624, 4.31005217252578], [5.826759021856244, 4.179655065890557], [3.970499248321208, 3.578278497175919], [2.1497311668878636, 3.9251618212799344], [3.149980186552465, 1.0984624333548405], [3.109154873136382, 3.2034792936323737], [5.345362554226545, 4.072201552130543], [4.764984736203703, 2.325695334984887], [4.0885975559140375, 5.864166569766366], [4.690338841719338, 2.4654367437024938], [4.791862561532305, 5.362822989209855], [5.146783713485468, 3.6208841176134867], [2.5671501136375916, 5.804650715162463], [4.163439886392828, 5.1468282191042265], [5.415380680635401, 4.683017336670911], [2.1128343741057964, 4.4891785734748515], [3.845921720781924, 3.5888978339037245], [3.747380808345763, 4.4492096542252275], [3.09633153211049, 3.9247235751774703], [4.213878817012302, 4.6488355368753504], [4.993567276129629, 5.141197920306319], [3.029760703873006, 3.6926896937020137], [4.477356728091552, 4.081212921206188], [2.2602920141078906, 5.189329888437426], [3.415070571268982, 4.02596665951274], [3.4560266153765875, 3.1056991347146408], [5.059880096904767, 4.514758912781546], [2.3333178525546066, 5.271178773285213], [4.633650859357248, 4.826461811738588], [4.1999277622938305, 4.515785058929947], [4.4540339119427435, 5.52934579803501], [7.002339612203671, 5.529115713019991], [4.324664178782039, 2.7692617024880084], [3.7535015766671975, 4.450641035645798], [6.112483504487516, 4.100011714336352], [3.618968221543443, 3.6649535098298567], [5.440457310215516, 4.48827672637401], [4.751265608849721, 3.2684090765300193], [4.412921320829852, 4.740882391498829], [3.5908808451847585, 4.333190387490967], [4.843262576676217, 5.631460129298453], [2.9435919769089782, 6.249123414481856], [4.15232473185871, 4.84624181385194], [4.240978396953434, 3.1612667304123114], [4.417417448405561, 4.885711863304507], [5.1924280763080874, 4.931547361105179], [3.4491571595461865, 2.706647812673258], [2.5533428831699503, 1.701300373716696], [3.9872080659927884, 3.0692782608127693], [5.765867211147945, 5.310724479574777], [3.074984993798096, 3.8822492436842206], [4.337063754916025, 3.7068135219999254], [3.509019564266971, 4.075428032453858], [4.137091406992609, 5.478120218810189], [3.830664726325762, 3.77711548649815], [3.9668083174885043, 4.5561058623462545], [3.335871681561012, 5.367640167725971], [4.116802773619093, 4.624432202029773], [3.1658290732960332, 4.685780354526459], [4.360607832546541, 4.423272846248789], [3.4846887621820373, 3.698448638626533], [3.0854543496158042, 4.633937942977237], [3.316160341573615, 4.710498891677995], [4.985365171376049, 2.10090520220446], [4.903300499797936, 4.343658558778985], [3.084405214564834, 4.242103889207173], [4.195380866561267, 2.0113555867282127], [4.553958053022426, 3.1180970392441374], [3.7412341746712614, 4.967726571823075], [2.84332773985824, 4.54872026503789], [3.8655816421422626, 4.519535296974172], [4.513379040608317, 6.326698055007919], [4.066756343570521, 3.5669137979668006], [2.581610517498742, 3.374756164686773], [4.302767759134153, 5.04068002835858], [4.533566761239208, 3.1011266209037767], [3.656363513524314, 3.573524937376665], [3.5466740967324966, 1.658434466410359], [4.324145166672981, 3.2557809510734423], [6.4329850061692575, 3.941719500936796], [7.411089928441404, 3.64758265022214], [2.1416702774695215, 4.3554523296553125], [4.811973313259847, 3.743875225965226], [4.900151329196008, 3.8962892213100333], [4.2948696859837705, 3.532678943463819], [5.681870598235512, 5.015494918222674], [5.121422484407403, 3.846390082852087], [4.547876459246021, 3.4732012675523865], [3.485722573673744, 4.285324999844744], [4.6517784149745225, 2.4859595277166626], [3.2142291441361626, 3.1469425606952885], [3.1277196424813325, 4.804568176217562], [4.462216580504599, 3.9497303107835178], [4.201922833405352, 4.908534028135576], [4.585110751546824, 5.267409199612403], [1.4118036674730159, 3.639836862730475], [3.136123949723465, 3.7294761855607232], [3.251268307598005, 5.1230441621286005], [5.122117424336072, 2.1478513823002494], [4.558618448825428, 5.734079776683545], [3.9451572838184483, 4.2378281993771925], [4.577513105791496, 2.747357034189508], [2.9519718161803246, 4.424034774869425], [4.594439605173105, 2.3414827747115665], [3.577018513597974, 2.8739192977416854], [4.011028312887801, 3.5136325200765697], [4.2702645109359105, 4.407605738948846], [2.0320603584892982, 2.6488456365167456], [4.5866628172042265, 2.0092678566657876], [4.211946142525731, 2.6139540323681327], [4.150594352845029, 2.5445947449942743], [2.8647832301408243, 4.6579367186077185], [4.675289688426593, 3.015548198944436], [5.752097361313785, 5.05234406268148], [4.923570376203322, 4.088977763654013], [2.396634031327217, 4.298064150543158], [4.094463591053554, 3.095354391130596], [3.9340835462293877, 2.976031906265891], [4.669348090916202, 2.255338370800179], [4.484867649523445, 3.206770812265428], [3.8388870641896102, 6.040936588321742], [5.369612704914596, 3.9305904033927175], [3.393091754814641, 3.5024808463125083], [3.499266376010731, 5.942698411961263], [4.030413889714428, 2.670503675505382], [2.635388216885395, 3.4914350239291516], [4.555261176465528, 3.9294285713917128], [4.7192127201408605, 1.4007220378330794], [5.871896040909658, 5.2594558612776385], [4.057979024030796, 3.996525763309196], [1.4824544466718708, 4.562635944121767], [4.499787874628866, 4.257906512748659], [3.577803092676131, 4.52821388539574], [2.6830594013919575, 1.8099216647214766], [4.687623812807585, 5.131607665829899], [4.021493338676543, 3.996643600735876], [4.842004458876072, 3.2616320097924327], [3.373544602061104, 3.588491170616898], [3.192910744951235, 2.061263552627474], [4.446836551868341, 2.9475343028401575], [4.786156016598041, 4.801953170216314], [4.875333195073908, 4.20981759118885], [5.122921105024226, 4.080983283451683], [4.5164020913440215, 4.686131438105153], [5.235172708181904, 2.30047511918821], [5.045663047911743, 4.271109885773983], [5.2868041447357275, 3.0462620498452586], [3.988087988072372, 3.8082411594853367], [3.9841165490064276, 4.916244823399889], [2.4284542946530534, 4.298402765736312], [4.599458069078861, 4.587149060922303], [3.396166109102256, 2.4726561755690284], [4.742445934244004, 3.3518523851618265], [4.580888864215157, 3.295299188417223], [4.295182136530367, 4.596809148219653], [4.1542128805877, 3.52707676554596], [2.5379038473706856, 3.4879350009841237], [2.998286576050421, 3.393004439414363], [3.593926263754841, 2.5789541425794527], [3.273841741560762, 2.5107456373464667], [4.058141616739378, 4.125514482325716], [3.4053566459458002, 3.8084090381805233], [4.112740602955745, 3.845715104769541], [2.9904600301923, 1.6826948374190862], [3.3225058639139777, 3.150307776804529], [5.06613432970789, 5.020425975577942], [4.374063936445427, 4.530607292555123], [4.017952184094437, 3.584367665376318], [5.532844175591213, 6.2996951247525015], [4.074469153351574, 2.0023824355918305], [6.032384069825089, 4.27756569547409], [3.0036945718684254, 3.2800068912265377], [5.309885344825925, 6.398977019998782], [4.508636995494267, 5.042344291190432], [3.6866104631290035, 2.1903694799210847], [3.767958181588737, 5.768789045992005], [2.483904292161009, 4.83858796429411], [4.596101086905877, 2.784084782057274], [3.3034016341423023, 3.865289114105282], [4.613230588222334, 5.16304793156308], [4.105993575916716, 4.353158833274348], [4.365124270828642, 3.827487103953576], [3.434088887203519, 3.68219086822489], [4.692734014578374, 4.217212369449619], [2.717360259661771, 3.5693913356423437], [6.438749184273236, 4.69999746855726], [4.563106930943129, 4.831844152203934], [4.236401852887012, 3.2162716048781066], [4.001949270882516, 3.53274281927345], [3.5217288653692718, 3.8224309459606847], [3.125366749600658, 4.314439725631857], [4.730692826364457, 3.2506685448610515], [2.378395493696263, 4.522986846045209], [3.9786778122495168, 5.412762135685124], [3.565723464482688, 3.5874667934139177], [4.82845157845008, 4.724669178080025], [5.251911547850933, 4.375624394305486], [3.5812767063205406, 3.4866202427376307], [4.006961298826111, 3.8668809912922084], [4.12469332343148, 5.245310311458767], [4.360425949656749, 5.424727193635535], [3.1769171654133714, 5.461174555413967], [4.5697799129485785, 4.528175017141662], [2.695974694918247, 3.079967632977323], [3.418652508339159, 2.5549961411595667], [4.375637355870756, 5.039441566271114], [4.55604997258466, 3.995482759185313], [5.518531827475455, 4.716893747102951], [3.6020941197308716, 4.72131541439405], [4.923162583262485, 3.213578833329436], [3.1992422886479286, 3.6005960370226067], [5.049696995785229, 4.304847941109289], [3.844291806345477, 1.8986489495979821], [2.5389121694458874, 5.308645902733224], [4.280553051397856, 5.558554947355391], [3.7607077868887218, 3.760897479554704], [3.0489666505128463, 3.18825052375822], [5.605905348545635, 3.6011954477692307], [4.234680915170133, 2.7852688357426736], [4.967266640698762, 3.813064410313245], [3.946601871030133, 3.8842375217089575], [2.677597990188297, 4.680426326032697], [3.407226510626295, 2.1934545061772375], [5.016030620395354, 3.7501062568964514], [2.627948652761222, 4.601987837475884], [3.144399083836875, 2.686254185456433], [1.3739349890290762, 3.1837858991201595], [2.2786492436848933, 4.04478550666922], [1.8894233827591846, 2.8248268498655644], [3.616078453969986, 3.2326657643372156], [3.4257516800958756, 3.4668100904812467], [4.117533113940889, 3.6084209145928288], [5.573140077882376, 3.374502862635568], [4.086398896870881, 4.20302698850634], [4.92608942590334, 5.739177035798129], [4.134041917616616, 4.03261190406086], [3.8642957717456765, 4.5970300764225325], [3.5143001204513773, 4.734499585389681], [4.086068064397413, 3.9546536374876364], [5.008134961591879, 3.818294354907366], [4.369791583328104, 2.997984541280694], [4.387794777242117, 5.17177836320451], [3.4324451937785634, 3.834227726405431], [4.6285657168530845, 4.049756168552649], [1.842039586667656, 4.126552914856488], [4.445018315329092, 3.7356954520611123], [3.571362966122354, 4.842275191145895], [2.483543023112607, 3.3114024753366245], [5.8679813581424956, 4.290959625248701], [3.9466714436733468, 4.7832496238457765], [1.7594021306058236, 4.239086869043726], [4.698092465970479, 4.283304024659883], [3.9384806518237676, 4.8595602462226495], [5.309431199541995, 4.063821045893182], [2.81715341849874, 5.256353382191566], [5.007364796461198, 3.3462801304157455], [4.543556166775441, 2.89450243390693], [5.238296277105828, 4.923448615099977], [4.661989377514605, 3.586606172370354], [1.6466690854888615, 2.8129185332915965], [3.4498943232301027, 5.008694291551313], [3.3979199408367036, 4.955419270404111], [1.9749752452516232, 4.967063253176333], [3.342364206888, 3.248286792776742], [3.216821733547003, 3.3141410593291445], [3.45161686924403, 4.917519047906398], [5.122731198940323, 3.288620927747075], [4.145406028865162, 5.28319591352071], [6.717233850189246, 5.512687656968948], [3.7380411559834683, 5.957383967739316], [2.2484986041102104, 2.7949897054592006], [4.953398005486753, 2.4557276009576374], [4.191580299592503, 4.637042275297122], [5.047243835120263, 4.892159545510675], [3.020638190895292, 2.9737908794516885], [3.064256252088245, 3.475258698934973], [5.435283228834548, 4.296164648955813], [3.4579072462489915, 4.6579681275292675], [3.348074816637986, 5.858957265938788], [2.9846214453532296, 2.7775820855687336], [5.213059782025097, 4.362817592266879], [2.677767170853496, 5.707140064957005], [2.577001935048541, 3.972050095389169], [4.2041288832240955, 5.385809729737662], [5.966987053071421, 4.8369622648165125], [5.076673900223981, 5.458619579400865], [5.071557574691244, 4.034514758408571], [2.731533518949306, 3.891865649463516], [6.105710108497455, 4.790375460053084], [3.3209817054469815, 4.978882527785763], [2.927788817345797, 5.417642766640924], [4.503459809212554, 2.812863173840023], [3.96715794564456, 6.040637088400806], [3.6653154804617, 4.636881767448671], [3.206145833217347, 3.2137948959766622], [2.978297918017943, 3.3509094032968694], [4.8504140163105385, 2.9374694950034232], [3.812296388272271, 3.625813155865284], [3.99396506759861, 4.377726461845338], [4.729064085170678, 4.492551314177193], [5.157576657481279, 5.2879056727882645], [2.6616198200984895, 3.681610616248236], [4.1713882485958464, 4.444328423309847], [5.129059232345778, 5.208710478916335], [3.0156961708983268, 3.052546080947651], [4.317690153383389, 4.758619315453383], [3.616041598551129, 4.12570638398523], [4.299939460424563, 3.391405331987863], [5.279052257316941, 4.2513457893299424], [2.7113359977859766, 2.6824665636120573], [4.3675283170515256, 1.4878256504709837], [2.3098073892440247, 3.2904740423581376], [4.689236860642326, 4.469599548881808], [2.0456601672230876, 5.4398835476291225], [2.7264485743974527, 3.6089293159264333], [3.4907737415334474, 4.998000454764371], [5.882991610191186, 3.4857874820965495], [4.308467372868901, 4.081623825524526], [3.6398344599555794, 3.4034268246367145], [4.088355871810812, 3.6908239806181995], [4.854354398030199, 4.650853455707122], [2.738857867182565, 5.010851120529018], [4.821328166715366, 4.742026292177739], [3.165902921422436, 3.229403619155622], [3.2851061478184707, 4.164322389937166], [3.444243905672635, 1.850120504382192], [5.545680003722014, 4.524894911908273], [4.103623704627473, 3.882820610434382], [4.123505652213787, 5.155045818362075], [2.7769995531702314, 2.3263952553794383], [4.036678691293381, 2.5071862285762965], [3.6047669316796687, 2.1307107234856253], [3.0297921722009864, 4.557962506509526], [3.8183255123637565, 4.849233533197656], [4.018381473992479, 2.611954771935304], [3.902879741091491, 1.950148015901744], [5.217693992575912, 3.617341384311639], [2.985864976162612, 3.9930425915305525], [6.106287315451337, 4.362244222777781], [4.965658706669114, 4.2145706136446], [4.4424947348560675, 2.9342642619822366], [3.8596541473830976, 4.786516217849821], [2.0480587531421377, 3.7429892767083066], [4.390518586804596, 4.521134675820704], [5.465248541612089, 4.45170710466888], [4.963665295375501, 2.826138044738695], [3.999928017506994, 4.744947395459802], [4.747994327149627, 4.517105446661202], [4.506393749110265, 2.8879401561713602], [3.814491688706038, 3.7072355394625673], [4.136906490778289, 4.992899271335919], [3.992343280058029, 4.845178365670556], [5.685268972042714, 3.3336507262323076], [4.9034815435475405, 2.966034675031791], [4.9040310986770885, 2.713563579181262], [5.5708322901248035, 3.369524540214523], [4.2976230114651495, 5.4497982790979975], [4.9808604310107025, 3.571026460223707], [6.510973728173458, 4.762336048234795], [5.1691732650657425, 3.686983990078958], [4.938212354679162, 4.219416427403891], [4.121745703732698, 4.233396452080113], [5.073009428885487, 4.258309781142909], [2.7967688704612437, 2.236492655527028], [4.2205188201721615, 3.1000318566103817], [6.044276511427949, 1.8431626141703839], [3.458246291409298, 4.6058099079809525], [2.5660828748323077, 4.427543981196564], [3.5230385045132224, 4.747937661852177], [5.20363095054473, 4.304708878545691], [3.775306078897361, 4.043548795111854], [2.12645343272847, 2.3984992643437755], [3.564551960280649, 3.9954108979267113], [5.623656599473152, 5.83380073690121], [4.786476782237976, 2.9532186316631424], [4.693240420534661, 3.4347158084834613], [4.287405681045089, 4.534248890193091], [4.531392817943009, 2.579323691717951], [4.005429772395561, 3.3805911335537053], [5.75696263058288, 3.231375012876633], [5.410874976048123, 4.368598451654461], [5.518182688406023, 4.824465009076924], [3.7753673946877977, 5.613600593771715], [2.868465579253958, 3.9034217702142273], [5.3044142810185, 1.8761223554038033], [4.751509588468808, 2.6288655344978644], [3.440336111172119, 4.308158019979462], [4.034593819931923, 5.0745975782397075], [4.50067936744343, 1.2259644988862104], [5.075451398763849, 2.298681655819426], [2.402935892161291, 2.7869739378474305], [5.9329616498258355, 5.832443654466649], [4.737554031809099, 2.163705612697929], [2.9881766771994727, 4.195619530492178], [3.058769478515491, 5.068656506677771], [3.506532058972776, 4.778927953180812], [4.864497425138296, 4.233304195588283], [4.113816090186562, 2.6217311191291306], [3.201179060612488, 3.1471353119462115], [3.307737006621473, 4.001307191542764], [2.1688310657246497, 3.1757754013266237], [4.113825303959138, 3.2973955081608444], [3.6800481517010533, 5.712062724953522], [2.684112589282996, 3.256885269138654], [3.8630002722074703, 3.7922673761547157], [2.434525518775308, 4.467708768267986], [4.107675494778064, 3.8498117343870066], [3.789744655145088, 4.80508396096344], [3.043549591109967, 5.9965687479152985], [3.9247357741517126, 5.021639731403681], [4.214639272837893, 5.1602150280186105], [3.111320427868399, 4.6496988504356755], [7.050908601263038, 3.4403354989693677], [3.2944262331979726, 2.754727436515951], [4.8100136542720895, 3.4362741786521322], [4.600087391574627, 4.031573694444845], [2.7824906317762297, 3.3452937407876226], [5.834200907550646, 5.438877305548119], [4.279895911887102, 5.015707181496223], [3.2608219433331533, 3.709131815331821], [4.303985610243934, 1.6424999400070264], [5.140281124530326, 5.677202442862281], [5.007907719690439, 3.7114526289361267], [5.229534369658016, 4.187742949027369], [4.110994386677472, 5.084888342765915], [5.170211774830468, 3.2993369154018986], [4.428534799809606, 4.687865224713859], [2.103640676847247, 5.420232513095099], [3.3253144269166492, 3.6011937169743113], [3.2596729883729987, 3.8513260367324182], [4.325781204716199, 4.098741401050837], [3.7579245957311516, 4.381987219306129], [2.4587267077565444, 3.8464154655973886], [3.218962216435332, 2.6807455829557547], [4.0219302838801845, 4.9841265938022365], [3.1805398647096585, 3.5737208638362628], [4.918024341832738, 5.643903500493235], [4.415537465491081, 4.579558407472602], [4.997226934788936, 3.1344728427283313], [2.8555348004871455, 4.579293640416348], [3.774436084163253, 3.1366487830829346], [3.5362904934510024, 4.474689723676593], [3.229376397948509, 3.7120967707889596], [3.8252616166819475, 3.3805739215915214], [3.6674299967399193, 2.7662177856392436], [4.013723386107539, 3.0438455692605393]], \"data03\": [[0.7716173835125448, 0.9301075268817204, 0.8508064516129032], [0.8217965949820789, 0.9301075268817204, 0.8508064516129032]], \"data01\": [[1.1982052032919634, 0.9940094176543155], [0.37904282765487274, 1.4575986285805411], [1.090233581871501, 0.9520409968900595], [0.3867875326928235, 1.4437328769158584], [1.7238202615246412, 0.7279399044773045], [0.24474452747052255, 1.8114536998699462], [2.5581981862362877, -0.6514175067108274], [2.544818463200819, 0.014815969300424836], [0.3896262681549483, 1.9849962068522782], [1.2665348742992897, 1.2818297863977175], [1.7241892871780762, 0.3830971244441388], [2.3444781638499146, -0.2694400534533459], [0.7391837273490868, 1.0725445388546127], [0.4117316594850413, 2.4215440675058906], [0.4400094008398816, 1.346640839372674], [0.30385295762275044, 2.056928784764997], [2.610327141784265, -0.670899695740452], [-0.33728869817909324, 1.9596497174638121], [-0.23826548094138666, 1.7468657367900127], [0.7817768337733357, 0.6304690052681042], [1.3083128288572117, -0.013864080415692426], [0.9858859865807453, 1.292482247003311], [1.2980529148481796, 0.7252064420936235], [0.8148068947857612, 1.9504785788255783], [0.15242114390715256, 1.5407815830972968], [0.8496331220252746, 1.2610914782916345], [0.6185405220253903, 1.5194299642251181], [1.9939531341987573, 0.04758268657858589], [0.7465872088802508, 1.7646994969092926], [0.654245466373402, 1.0843607979628493], [0.13648174174442684, 1.521398416660478], [1.7017589599216225, 0.07594609389286744], [1.2379253367548622, 0.8097157689907167], [1.4090303777724178, -0.2742218104111527], [1.1512221103947653, 0.7743072871058065], [1.0882159731138978, 1.1125558570540008], [0.7887566022564426, 1.3658342811441773], [1.5450015891585933, 0.7976563102716848], [0.9317289339178405, 0.8282325401263855], [0.641507190485582, 1.0286193034272235], [0.42503950447477146, 1.8093944437495288], [2.107608769526184, 0.0829850150345669], [1.362423022625254, 0.02477314442320333], [2.2416735396300043, -0.06903281811328821], [1.3549767191805215, 0.16787777505648516], [1.3450194952559638, -0.04369065989387311], [0.873803061295803, 1.2454981977202557], [1.708287095563326, 0.6011438965367165], [1.4505078349465208, 0.8808301634589384], [0.2729566592910194, 1.4913335162972723], [1.1992181792886978, 1.0780640904382344], [0.69819570041193, 1.0912241656081185], [1.2517911380867972, 0.8738524379286469], [1.5352340311552173, 0.3265725002143385], [1.2798905930757605, 0.83169562217862], [1.2141501956095984, 0.6829606178430512], [1.074762407935883, 1.579725661664115], [1.0923007093035737, 1.1429775828443516], [0.10906823986790026, 2.3180344130510453], [-0.25602163450568804, 2.560560386613999], [1.2016251587072766, 0.8750873136044743], [0.263814351486656, 2.082673727917997], [1.8764871025691532, 0.5895153201138855], [2.191871093430812, 0.35277116942488795], [-0.10627506688473698, 1.9753632463808577], [0.8803711492990753, 1.522628479649441], [0.7499063842145868, 1.328000929201405], [1.8774398680408289, 0.43444529442617763], [1.326712064081865, 0.775220525245824], [0.9241866699832944, 1.255997596491123], [0.32605263819770014, 2.1932737562519504], [0.9564997468625607, 1.1277609000910487], [1.2292179970025343, 0.5571477951090125], [1.4016477547101203, 0.1779789637424687], [1.685429978435521, 0.6890401146560707], [0.8646570951191348, 1.4492470687240082], [0.37716973504436724, 1.5673009229143176], [-0.3731783960018824, 2.34011702546119], [1.9256778761309001, 0.042085041968543346], [1.289394921997157, 0.5978960622009694], [0.5326797729660337, 1.1634583059643582], [1.1031722964224964, 0.9823521813942101], [-0.30217928257794546, 2.2354645121153656], [1.2915696524745002, 0.44558833823603805], [0.5800964527485892, 1.5394447488352219], [1.4181492538737661, 0.7331838454786126], [1.3695211662043263, 0.3984140945633923], [0.1401492703005881, 1.4193167397663191], [2.215476544028071, -0.22150119694259418], [0.7588816483066844, 1.4508442270313804], [1.2410577141074215, 0.6349390656221396], [0.8595559554823555, 1.093513031292674], [1.601122349297365, 0.310407674765517], [1.7988294986596234, 0.17699725444410885], [1.528440500670753, 0.7454179477601335], [1.413877482644743, 0.31950832813407093], [-0.12588407535276036, 2.0978295374279643], [0.054190231531694666, 1.4578698529523564], [0.5106171680386512, 1.4843405815345116], [0.8412698377506711, 0.9025233586404139], [3.2063350164588926, -0.7015948802159762], [0.1062533003009436, 1.745669719501248], [2.137951469653128, 0.04398354271704874], [0.26846496077981985, 1.7240737667301387], [0.723141238811195, 0.9709165066256087], [0.49814370164329425, 1.4426068025581702], [0.4900566974212095, 1.5112133411862576], [0.8363834213128942, 1.0909005673572953], [0.9098734214756876, 0.9614714950081109], [1.3119781980548135, 0.56603047414991], [1.3442215933763584, 0.5530733437773073], [1.7873921367635217, 0.16679294727832517], [1.0644843585953414, 1.3086207564930112], [0.7758590583587499, 1.0139925440865674], [0.8252346821355863, 0.8582247279387416], [1.2248891556342039, 0.576599002624012], [1.513230180079198, 0.7731611904193967], [1.4860105418362535, 0.4946181471945259], [0.680253293242476, 1.7340780748921634], [2.184285598832351, 0.03777086149647002], [0.7690878946762505, 1.175198933525409], [1.24121297738817, 0.8252614950265567], [1.674029776018227, 0.2856047386415381], [0.444257434516679, 2.0884774567050925], [1.8000857866608553, -0.21000506497228066], [1.8068636601628147, 0.060349796057941996], [0.24464646819278535, 1.9132288813088525], [1.0901317187478203, 0.9805381329501294], [0.9419446802633827, 0.9293264768958553], [0.08450821615768, 1.5043867951658147], [1.6534162625012057, 0.64771816455599], [0.3811108846665482, 1.2222374848277215], [0.5032327367355137, 1.0632103445718761], [1.4587273063073085, 0.3811897376596487], [1.6905408788244332, 0.42442308702984566], [0.6180664082510837, 1.4219232444393861], [0.8656604093963123, 1.3573142008763892], [1.3588767094614171, 0.7013132235272785], [0.8640871866827224, 1.4384584431445688], [1.7801639020629196, 0.7758811165089934], [1.6068013213694226, 0.251749698265301], [0.9962075222002711, 1.4438225732993826], [1.9463681540604103, 0.43032602201580616], [1.0523708026737597, 1.2106974579938112], [0.8812476263713663, 1.5502354824661075], [1.8089916964858586, 0.1807938704052432], [1.09244783736227, 0.8981343915238342], [0.27650937331596315, 1.8634860959234225], [1.0679925409530562, 0.6370679042564344], [2.2128571895965132, -0.08314126625802731], [0.6089234096467389, 1.692935566222614], [1.4873145963071517, 0.24681413384717377], [1.848805762858306, 0.4671706747581176], [1.484230774077206, 0.8917806612368728], [1.5320000400323446, 0.2567366203819422], [0.7109933033737772, 1.057862389993978], [1.9230373594665187, 0.5281314035213327], [1.9616322856226707, 0.2534358133474993], [-0.2904256811146022, 2.6781368626832993], [1.8754630788956974, 0.09707261555167246], [0.5995150854031837, 1.3400020433452395], [1.168601781253172, 0.5523129151465109], [2.3689050897956485, -0.36762233196850813], [1.4891433211551757, 1.2373541145384626], [1.663598472433341, 0.5280989338080548], [1.0560062604101599, 0.6961880454600703], [1.2990233374563918, 0.5428831172981101], [1.0434081255532774, 1.146823467105848], [0.9806598335266772, 1.2018368734440734], [0.9988716469674976, 0.33492794286580096], [1.0809137879322568, 0.9863512232570697], [0.70040583901443, 1.5026197763149376], [1.1155388650905176, 1.1058562170653135], [1.8290126283586736, 0.04749591737836423], [1.64287907849345, 0.29975930777510973], [1.0982540675143977, 1.0578885567561096], [0.7381094771498947, 1.73299490677738], [0.8826768978497336, 1.3914552266184654], [1.2992825334254416, 0.4645892115405059], [1.838580079565145, 0.13852218729497345], [0.8089825527559662, 0.9915323933266442], [0.5069310298381202, 1.149162273891035], [1.2149291420120965, 0.6659787318210962], [1.494441664369492, 0.4617955411145269], [0.9379553649632965, 1.3222576021761807], [1.64838846299252, 0.12299289621588005], [1.7088154900408528, 0.6192033630036394], [0.7745302001623001, 1.0336031418176073], [0.8929203743456351, 1.1956297542889196], [2.1464203448352626, -0.01993188079925523], [1.6434580865804578, 0.03944148884623344], [1.3848933651502504, 0.45189287035045844], [0.5641027089535806, 1.6720047154814228], [1.1942182955522052, 0.29739786817763836], [-0.22818408700786508, 1.8893459336679843], [1.0895935067510423, 0.8760363801913261], [2.680480712543151, -0.18121038566214254], [1.164606690955775, 0.30840014252585535], [1.245214840923138, 0.5618567396171978], [0.5482395854675876, 1.23325982140085], [1.3267340927604985, 0.7606085616870983], [0.4472185147325166, 1.1594163642546023], [-0.21821542130942295, 2.1087909338662856], [0.7356635582817802, 0.9739461830656131], [0.7373946707558868, 1.5142114362624501], [0.8165919779958615, 0.9569957869293272], [1.370419698434656, 0.5466949933676277], [1.402763018932625, 0.36040246022271893], [2.032565232943892, 0.34501719509059703], [-0.038206210800303175, 1.640535089537062], [1.8975340939559155, 0.1927805327357397], [1.0938891404003872, 1.0347231234181344], [0.5678902083649097, 1.1479264016805824], [1.2169687821783912, 0.8946174596467229], [-0.08815215619788663, 2.118559005033533], [2.1406784482606884, 0.18064845303936905], [0.5778307338603373, 1.8364326596620737], [1.7265628677427525, 0.19260772989983543], [1.1074546963249254, 0.6095476471905812], [0.691349909939386, 1.1019720289248545], [1.151585912571286, 1.3028060082535], [0.7443198569260492, 0.8720660904906279], [2.3154016498801537, 0.33600665499898685], [2.5768954696888673, -0.10363330658049552], [0.853689095821213, 1.3009059980081994], [0.6647062320131947, 1.3963962233333953], [0.3438852502831974, 1.2143821739937788], [1.522423638409911, 0.4435136144823931], [0.023977444783291224, 2.151121338193306], [1.5532669575912075, 0.5524456833700409], [0.5954869080034129, 0.6381504438765107], [0.7304897105432221, 1.516942557217039], [-0.15169506018483525, 2.440881829910551], [1.1450525244679293, 0.6741628714132428], [1.1732369450597229, 0.9841249862911584], [-0.04365562652761645, 1.3585751713448846], [0.5430173712903587, 1.1004883517558288], [1.2296915311608272, 0.5658446286353399], [0.6566264821039076, 0.8531261726960659], [1.0641424774196788, 1.5007020462605203], [1.5077935881553723, 0.5586692058738928], [1.3402597795826123, 0.6590203340576227], [2.192930367749808, 0.32391697166387057], [0.39079863698160133, 1.7806844337921497], [0.46665597030103867, 1.0721610052357942], [0.8456133055782451, 0.8281509217304022], [1.1682568992560545, 1.0630133164343056], [0.1768390220816375, 1.858930345497253], [0.25870971043956925, 1.5052426042568674], [0.4172478701809871, 1.671096688515462], [0.713844179078323, 1.0166582262944557], [0.4237001179991835, 1.901615412798026], [1.236316626821468, 1.083097419231954], [-0.2538785618048991, 2.103969094919445], [-0.2886551367668968, 2.4287866786604053], [0.679075342904318, 1.174198834495848], [1.084271529129065, 1.0629162748626955], [0.4938683192599175, 1.3687752746320705], [1.3763776503811016, 0.33303881362789933], [0.4204951699631071, 1.3614223329438886], [0.5862524375559712, 1.5278377843970263], [0.18239386712439176, 1.579518976024084], [1.115403323626831, 0.7977734981426877], [1.1679095322481885, 0.859879873026164], [0.6094469120277346, 1.2335802673304888], [1.0465493391413934, 1.171460599443716], [0.8567862245373606, 0.902864910046407], [0.4402825798214306, 1.6220226166947378], [0.9118708725730462, 1.0609503537356688], [1.5245623186691826, -0.03190442615008182], [1.537589581443642, 0.8473066428152864], [2.2201647251847314, -0.294480851468337], [0.605688052648472, 1.00966733715904], [1.579514235991874, 0.4868493455447409], [1.5667754042452682, 0.5612847251655346], [1.2914379158329896, 1.3333286303678464], [1.5477575356529414, 0.47455402810106995], [0.552985978432293, 1.1353665843606833], [0.5150357761472368, 1.640249207304708], [2.011952771015654, -0.22099327777236222], [1.3737400074999822, 1.025907863762795], [0.47469668741168425, 1.6577593343058643], [1.8502185242598204, 0.3274016606496474], [0.10934927773456893, 1.8158286222471882], [2.6154113781289787, -0.24733233867242754], [0.1265877429472837, 1.9082795355004063], [1.2174118155037892, 0.5300594689984779], [0.870086680121325, 1.2317419737099171], [0.008397135316625337, 1.7927464459199842], [1.0836124257712814, 1.5105851694752892], [1.3510089865301547, 0.6278151603023299], [1.2390019147195823, 0.7321544278077929], [1.1402778951162322, 0.6725398010772313], [0.1346962598999336, 1.8235956602493486], [0.8161839662005818, 1.2586618222337211], [0.6443193311814222, 1.3570351542744208], [-0.50923347218451, 2.1501374338992116], [1.272550925025366, 0.4162240318123006], [0.835196756126124, 0.8719128910056395], [0.8546252193648189, 1.1468624993397647], [0.05866629568353687, 2.1659877761895276], [2.343973920250679, -0.7034870560731101], [1.170530856500707, 0.9753114545989221], [1.9019027242396649, 0.15813835937851273], [1.2149875138119894, 1.048597236011381], [0.2848446492531005, 1.5044119403379808], [1.7709276398115863, 0.6264335719829051], [2.007554410277747, 0.14395396662681859], [1.2655685208488787, 0.5477275987294793], [0.9768651936342696, 1.284230501129378], [0.6311224940981609, 1.062522845448792], [1.4564532088824027, 0.9807861226883289], [1.8487353269812943, 0.4563291952658013], [1.3699616317642853, 0.5038272430110589], [1.4356389599879065, 1.0078501141261953], [0.07180990687307975, 2.455026141924398], [0.22053468419002353, 1.7562445953967212], [1.1256697021769664, 0.8247833911926465], [0.927324926040269, 1.4285349167725798], [0.025970185452222294, 1.3551097891303912], [1.982756539332958, 0.33006529311634547], [2.011880187131422, 0.09944921190970457], [1.3600254148707143, 1.2311196760406984], [2.2009584739404837, 0.09014293344752256], [0.8958505129769068, 0.9987032596817697], [1.0848092122754571, 1.2036651621912875], [0.2989042792087485, 1.8204635691587452], [1.0984087293029627, 0.7563847864378702], [0.782602333127803, 1.9280086680151456], [0.3591225457691186, 1.0405741328287093], [0.5993212496302093, 1.2374023888057968], [1.285228144251758, 0.782697507806973], [2.028585615632692, -0.10780068569058887], [0.9045725244018541, 1.3631977512122169], [0.07200583650732839, 1.5012441955165192], [1.8041450594929909, 0.5271209897219336], [1.2158907350891672, 1.1583723177724745], [2.2567194547319733, -0.02494432270646252], [1.0178678057376014, 1.2588087346176269], [0.082273032439387, 1.8153847702642345], [0.8092186888123477, 1.1640144950870082], [0.9255115320581776, 0.7783483677221196], [1.8206051859895127, 0.3643205401213271], [1.8294528472416798, 0.26126464350234024], [1.0036958295295029, 1.0833804222973449], [1.1106774796391354, 0.009593107219309616], [0.6946963709015725, 1.5824189045193844], [0.8141528663076835, 1.494527650974713], [1.230949948376944, 0.19723092595248082], [2.5077202009864235, -0.4256861147513904], [1.8248969945149025, 0.3436244153177559], [1.9528688839448802, 0.1397417503057976], [0.9502766567017638, 0.7780907465167204], [0.6442201426090058, 1.4416278216690523], [1.7857114871068211, -0.0526344178322069], [0.8078177488631892, 1.2030228310162152], [1.8816552641192894, 0.1539714353746522], [0.12036874018900812, 1.2709340251850547], [1.296691826746911, 0.7879695440986707], [0.7796243958914129, 1.2977867827548342], [0.782552808764686, 1.243232523174893], [0.5953454223017545, 1.2371728276792289], [0.4924078276119265, 1.592053654966414], [1.6756870578498404, 0.44229194131046534], [0.8165101426545727, 1.003315068221107], [1.036859035064816, 1.176762287892994], [1.3273073227990801, 0.39067789857303215], [1.6441707442892488, 0.3839172098000805], [1.1644885825051277, 1.1953832599195964], [1.2498279348436556, 0.9936653143072502], [1.9402541233384722, 0.017528313441476318], [0.9269363947652345, 0.9586517521509615], [1.2664380531071897, 0.8308896111426282], [-0.4428100778692563, 2.387999725385453], [1.168930502277556, 0.9228689798465984], [1.778660908437353, 0.21220692826216725], [1.2619151322131288, 1.1221791300895392], [1.3307681446814645, 0.9146774092178385], [-0.7106713229227899, 2.0945590239920984], [0.7828970208650191, 1.1314889493451308], [1.0376597925676612, 0.6470748092294298], [1.0446372799755415, 0.9999376843733094], [1.1171081462394012, 0.7866676917559561], [0.1903319142815575, 1.3808217203325], [0.4314497322686278, 1.3806116186897484], [1.0512306587197375, 1.001367941930118], [1.376814387167828, 0.5823582893213369], [1.4776475131061522, 0.29606302754446256], [0.417270566717465, 1.5457044457514384], [0.7347937216369442, 1.4025754632458414], [0.6937862808228912, 1.5523268864357118], [1.2154432089950293, 0.4735906210870604], [-0.306367599717442, 2.5090074374056455], [0.37742493119423826, 1.6040381635896623], [0.4319204322088037, 0.9314459413686946], [-0.3014130437759326, 2.561984830729336], [1.008535004564788, 0.6819059486906422], [1.6551644965040064, 1.0033821139526868], [1.2463795671187319, 1.223717014507109], [0.42308968385005075, 1.4562903521620667], [0.9602483407320038, 1.1533270393216708], [0.18258757747757015, 1.7966318376320247], [2.1450334623003493, -0.11388229634984848], [0.8657801681678194, 0.9684364830088247], [0.06566365793652573, 1.6173865052194243], [1.73240339114981, 0.5225516920419123], [0.18067554349036374, 1.9947235249096835], [0.5542957202122918, 1.0256833073195324], [0.2752871870826372, 1.7636067002757445], [1.811586348099373, 0.2840877499061367], [0.7287827819487356, 0.9502469192706784], [1.465748625646743, 0.8762154796906256], [1.7855870308921498, 0.7590494809500191], [1.643355674488177, 0.43576619525523874], [0.7983019805937365, 1.151964518557384], [0.5481289695192982, 1.0638259522353088], [1.6744726768791547, 0.0023335214616131417], [0.3008952034866803, 2.321793580651131], [1.1217905360083174, 0.37163183977594505], [0.27058221918842496, 2.137389179840854], [1.2586279077620848, 0.9684005772025603], [0.8965632208315353, 1.2228283591717], [-0.10185712002206082, 1.362894413969174], [1.885951783623169, 0.020188069829541355], [1.3587181180787762, 0.6501043191656901], [1.0150555377322061, 0.5700311090728141], [0.8793595576823191, 0.9801908862124913], [0.8291631385360162, 1.2825993743965953], [1.3118742734819178, 0.4443677394586377], [1.913771998092754, -0.185074614722319], [0.6188877536232887, 1.401554300703706], [2.7712331072071863, -0.19304261197520178], [0.7385053712715088, 1.36731373352417], [0.6689244020145679, 0.6347121688380754], [0.9117683561288932, 1.0429302392308668], [-0.03980399921289424, 1.929535419994471], [0.6639497292378993, 1.2593460828572232], [1.964639121792525, 0.23484704231078846], [1.4127652758304232, 0.7311375841383185], [2.7073675004564093, -0.824027391811857], [1.2737524211754103, 0.2949264001806091], [1.9223383976460249, -0.12693022379872998], [1.1633316610665219, 0.8541917418788083], [1.0988685623625247, 1.0983930464111988], [0.9266849174489815, 0.9927129701651869], [0.781911524329659, 1.1172746317026259], [0.8101437617506831, 1.533300786248502], [1.5811094861081418, 0.5704710864136786], [1.4873483010053428, 0.8267949855499278], [0.8923118005604352, 0.6014846734256947], [1.1742750651151457, 0.7272903856138275], [1.5210252681329166, 0.6795223882241626], [0.13135553622274587, 2.4042468177385508], [1.316083568806547, 0.37422313680335373], [0.7319498219461489, 1.4435709570957935], [0.5199542536462609, 1.307245263202326], [0.7431810390498561, 0.9579154203259207], [1.992886382539485, -0.10110080854732928], [2.3949917522983055, -0.568243080548765], [1.358021079665145, 0.7237151398884967], [1.212568569883418, 0.6452424478654017], [-0.09640410551757528, 1.514750864663157], [2.4707198107703006, -0.5408161715399802], [1.3440791089044455, 0.7567308108095272], [0.667730794396649, 1.3827191215254686], [2.4290954476747277, -0.20739888075769075], [0.839065237092633, 1.17661225480917], [1.2183386302708497, 0.7883744337392138], [0.6107728982280857, 1.4957206928479514], [0.44621438958856896, 1.8684269588296876], [1.659728408689635, -0.055204647002992324], [0.3015541760135281, 1.6519416478268647], [2.0558076576596713, -0.27964644979993714], [0.8019758780931342, 1.395339154857954], [0.9334870758499851, 0.7393910652893736], [0.5299914858511825, 1.9819295492382754], [0.5799844132902615, 1.961194802652936], [0.6447264959902413, 0.9464388354863795], [1.9695853402363772, -0.2909276298742922], [1.1062856295366157, 1.4340884756878696], [1.2289094154343883, 0.733986730295294], [2.0239295115349454, -0.09338858151682494], [-0.0095835754287108, 1.967221129207173], [0.45655828254328934, 1.577830538675674], [-0.033030458318571654, 2.1877157241638536], [1.0579988596853938, 1.3332741741384968], [0.5874664417908585, 1.3393056696698435], [1.9276901508534219, 0.4732311051607079], [1.4058130402306466, 0.5624255567795924], [0.13340608189255865, 1.4231863924775563], [1.2036120053487913, 0.576757095156281], [1.3671984420450225, 1.0957618836640297], [3.0075711227264663, -0.8989120788668128], [0.95848788456183, 0.9081629801698718], [1.2321473630544906, 1.2191977075189762], [0.5298159237922835, 2.0238104142382833], [0.2215390664080764, 1.811295474662681], [1.325270557651029, 0.39905329523357347], [1.6871061466333432, 0.9196852600060381], [0.8711190881653718, 0.690110078290841], [1.3823786839489742, 0.3338074159387119], [1.5362579526943394, 0.7755913759076752], [0.4669448195321495, 1.0995037113344241], [1.635651727943206, 0.8006831272881254], [0.9595843673209461, 1.069637726141981], [0.7758912406076811, 0.9970621449270258], [1.1759516266087051, 0.6233848200629546], [0.3946134027677647, 1.9286904098953026], [-0.0859083339107336, 1.7616863902521345], [1.8761441394645373, -0.2284506843718721], [1.8020615048745348, 0.23292157014225556], [0.8412813981260399, 1.1555274135348812], [1.7279959888095926, 0.5651916991406296], [0.9064523277633773, 1.466674059236312], [-0.012526123369407838, 1.679830006924804], [1.1658311591502404, 0.5320347086989642], [1.4259034348113593, 0.46693298986416687], [0.635961487818367, 1.5268181145697315], [0.697278150161579, 0.8241297310566464], [1.886929084504293, 0.3027666720714022], [0.2552603201124475, 1.818787463132862], [1.326397622874359, 0.5300692886596876], [0.534188435419343, 2.17748665855346], [1.0385620360158392, 0.7853325335284069], [1.2330010425884816, 0.5617642025426919], [0.7175816754761306, 1.8860844709252038], [0.9623480853735986, 1.1358369191730393], [-0.08587352655717306, 1.6798438775796056], [0.9112676855855242, 0.49489470781873], [0.857258865971729, 0.2618951293493157], [1.6441050936216604, 0.5277381776561543], [1.8924281857687641, -0.019014291034319175], [1.015916286429831, 1.0869116521089506], [0.8725653998123907, 0.9959100602342084], [1.2537288981341228, 1.2971026586563978], [0.48859346623597777, 2.0001824010176437], [2.3167908625605715, -0.3077201613013416], [0.6932459827597918, 1.4083385131034487], [1.22867070689995, 0.19201793496275377], [0.6950457974037312, 1.3494364225034796], [0.30947267278487267, 1.440883420945863], [-0.20640308867153068, 1.8207696599324674], [0.4797228792985839, 1.602250071826291], [1.3087539862646385, 1.670621228107216], [2.1241794327943717, 0.10479265057245057], [0.7317527568176299, 1.192954294410354], [1.1162836131885827, 0.83335627735487], [-0.08270022729912996, 1.656769976068473], [2.3254757273796125, 0.1755027932674199], [0.1275800987209169, 1.2456362413658395], [1.4876966092335628, 0.3610468491578597], [0.6285919075296865, 1.1246905657975204], [0.19076382527970426, 1.8433920505958583], [1.1134208727531973, 0.9935755351978157], [2.8343942377549878, -0.5801509061112826], [1.7546484731031784, -0.04703597797198378], [-0.059323505315299174, 1.909781415213823], [1.660127412723624, 0.1290210204713491], [1.547507933461175, 0.5828254033747712], [2.138679125176081, 0.10799971254338891], [1.2275340171922524, 0.8155245659914806], [2.0700609783167354, 0.14141385059350797], [1.1644090243065108, 0.987849714625577], [1.0674925462565104, 1.1524987425796613], [2.2095094303307197, -0.15000952770191178], [0.5083000371232509, 1.1387318477260069], [1.6000457798694425, 0.4053910723091977], [1.592632309080471, 0.5653372310859399], [-0.012458944851200693, 1.5273869625503222], [0.32967893599157294, 2.0172795655220828], [1.5786144215626132, 0.5010591199288956], [1.6689927219506817, 0.44281926842172836], [0.20483130463904098, 1.327085520469335], [1.2166986144818435, 0.6915455964769627], [1.528092948830242, 0.49886329705797017], [1.7347740415502262, 0.6234548739510724], [0.664918996534309, 2.293950567542997], [1.0554106182561838, 0.5128102374825421], [1.2787241377208103, 0.5095546546349411], [0.685849405589829, 0.7835703573950774], [-0.38522300339684645, 2.1598719696209976], [1.4765910403649507, 0.5927096130713067], [0.7802543632217501, 0.8409697332955407], [1.3328059257946405, 0.7626686952206354], [-0.35002098029790196, 2.37303875786629], [1.9085077006340034, -0.054998180695226884], [1.136545434026849, 0.7689063798337452], [1.398177285891374, 0.9087919045181566], [1.279311250110587, 1.0505591063691533], [0.5789895770644403, 1.31586848023156], [1.420196164817283, 0.9420804649477446], [0.261665764621857, 1.6899656185769438], [1.303989625468682, 1.2246379966242809], [-0.6639334418737048, 2.279774019854592], [0.7809118802471908, 1.2952061970568385], [-0.6452615858957931, 2.7275467166143166], [0.6267422692620632, 0.6680468754596309], [0.5805126738185702, 1.422023810321705], [1.6852336875609497, 0.40433573899167696], [0.9452648147653828, 1.067047562094862], [0.9164067671250844, 0.9320780995001925], [1.8460496934630242, 0.4142998921513573], [0.11959928783296048, 1.9228113380815715], [1.3946490767089035, 0.5293064607094861], [1.3767210754546795, 0.803006409053567], [0.49607213831016506, 1.5510277123726648], [1.6529596672711344, 0.28987407680266797], [1.663563735964899, 0.24474155549119825], [0.5846898192497911, 1.4497303659853364], [1.2216271401158536, 1.3614355691519837], [0.8114297800563599, 1.301501198505966], [1.0621901566761913, 0.36321122761659197], [0.756151075210907, 1.1353504683069942], [0.9033548552160962, 1.4185548875889882], [-0.43112676367165115, 2.0479588047741744], [0.9557772318418379, 1.0445962467387049], [0.8308030302507137, 1.1992790714897195], [0.5104643094215604, 1.0064619880163714], [0.9929571859997581, 1.1870605426194962], [1.6582605516702102, 0.12501664116135802], [1.4286411793534224, 0.5790454057570977], [1.8346465967749086, 0.21007902679906953], [1.085257558125852, 0.9344383622345016], [0.566590086525419, 1.2420825630438412], [1.1509051741159284, 0.9181129736677747], [2.047412501485356, -0.05949748481714279], [2.21870493661216, -0.31513238810466926], [0.38142948934078513, 1.8586873867693101], [1.9929586755711461, -0.07139797983834417], [0.3996231408947697, 1.3858619097725857], [1.3367717294449764, 0.5990696088843088], [2.2563087055057434, -0.06325827579173215], [1.5592149888235012, -0.07607573970362003], [0.49604329737622155, 1.1155586540296236], [0.6805578788495825, 0.14144247459188253], [-0.04491531415842642, 1.772650769731426], [-0.33328085608088953, 2.477801196056388], [1.2772345433210655, 0.4442674166276913], [0.17409004986770882, 1.6079908067840742], [0.3768910379670405, 1.8568893323246622], [1.1042435958128072, 0.743375275360598], [1.9486590648129787, -0.13499109189877823], [1.8664999714931068, 0.4173541315758915], [2.5011094664029656, -0.14815374725417674], [1.4501902984820247, 0.32809784178793866], [0.7532401571416383, 0.8227781785920834], [0.3696568555147689, 1.6219588823455107], [1.2648983697336806, 0.8865753091267058], [2.115347474982188, -0.06539020421355701], [-0.22875282370238437, 2.0437733650072687], [0.6678991175844041, 1.339331217964991], [2.2553439422950317, -0.30988317426552037], [1.1432291987443473, 1.1642849621947609], [0.9124541210515863, 0.6817178281804144], [1.6592512549862697, 0.22783428493928592], [1.014922972024738, 0.30660286537593184], [1.0864061946600427, 0.7726976736292799], [0.40142284989286303, 2.042520457337514], [0.8314057888935724, 1.4247444546591255], [0.36616146923962034, 0.8712284651374378], [2.166339174242585, -0.09369539656598169], [0.4798689107847509, 1.7296288463618907], [0.2964980294493139, 1.9806542322466014], [0.7977294040050427, 1.2895596041445612], [1.3660367250003989, 0.3935941067778993], [0.8481563127246483, 1.3085035236417644], [1.5741328098187368, 0.6873904940767361], [2.4981447086489856, -0.21257857170177163], [0.5789253833074792, 1.752075575471859], [1.2405622070003552, 0.7090385993378835], [1.2238496312656744, 0.8630478543422153], [0.4966249239139189, 1.8290824836329032], [1.1036578738353182, 1.581078420617644], [0.592986684793364, 1.2009820991672226], [-0.08794979438201089, 2.2720332974839708], [1.4731493692000117, 0.8600144405597374], [1.8135459415449966, -0.21832757932014024], [-0.08192255502463164, 1.5942282967022594], [0.789971070652076, 1.3516427392520174], [1.4815387447877684, 0.5654034458453245], [0.994714132696602, 0.9130212644918329], [1.0253745376405565, 1.1104148116382375], [0.41109898055237837, 1.3972351956558728], [1.1531897497300037, 0.6369508383830375], [0.4285812097133349, 1.419582472016097], [0.735518400537976, 1.0202896012328142], [1.117519053704606, 1.004441376774078], [0.6560291742545522, 0.5743282930978735], [1.4329129846658026, 0.7803283517717574], [0.6726416808646258, 1.5931549680610464], [-0.3550180545013739, 2.448552281246925], [1.1351948002660395, 0.3959357052015742], [1.1145922118661344, 0.8853963715704655], [1.3074860754951394, 0.8593922859814513], [1.8362638403339784, 0.12258465001156749], [0.979513839782911, 1.8614977892676494], [1.0551957153130163, 0.8639312985210765], [0.7516595618014099, 1.2348826619394433], [1.1117214959085795, 1.2652144631620101], [0.9463226472569952, 1.4470921353832233], [1.862823788985327, 0.26159237544606073], [0.020914740117468966, 1.6258273962789842], [0.9624453099508489, 0.9660088997091281], [-0.47426095284380243, 2.4320264197603967], [-0.05951872179685691, 1.4321772211161532], [0.5184012841338496, 1.6160930277355074], [1.7271346185681145, 0.38903413559665145], [1.0887435079835077, 0.1119515149929986], [0.3285273912773379, 1.3147968364390583], [0.9262367292399701, 1.0019415722140461], [0.5396572119970857, 1.1286226279676401], [-0.06866281595250578, 2.719306480647079], [0.4049790110130078, 1.708950230695659], [0.1756780034132125, 1.7787719205497967], [0.8671295546152799, 1.1601336795421031], [1.3673494037651377, 0.7556499693882599], [0.4983420278500553, 1.6376089338134023], [1.8510258134137465, -0.2793264238030959], [0.874839499680828, 1.1365125369107925], [2.5516449317317984, -0.3834574591047768], [0.7578602475744227, 0.9647935590505735], [1.8723774220310532, 0.3811158739246039], [0.22283001339597763, 2.0186351414694657], [-0.11911864368932767, 2.1035651318432445], [1.7960813593543599, 0.22955500266718154], [1.5953391896275733, 1.0357770060345441], [0.7327812382425427, 1.3922013954352122], [2.267195744746981, -0.592242159173884], [0.41924616315997654, 1.5238233817043279], [1.2985908004399216, 0.4004806256953197], [0.6054563726596784, 1.1118084521919127], [0.254425188817872, 1.7605588851851275], [2.0659126523945517, 0.18182165573423803], [1.0629321710642785, 1.152449558383036], [0.7436767316307822, 1.1555741892282312], [0.9562641237140433, 1.098813408023567], [0.28359402405526346, 1.649634133488825], [0.9497701669206651, 0.9697357584070251], [0.8801025179849576, 0.8838068632645816], [1.029660979782961, 1.3258139364026378], [1.9775872600962696, -0.07408887658970631], [1.9586053962591592, -0.11703549625594611], [0.6064887267351505, 1.2969776640189887], [0.5407108574213282, 1.0870435629937099], [1.8550240283746442, 0.3032366550059338], [0.1670436382531989, 2.0165295478203795], [1.3834187212785483, 0.3540263621943145], [1.3115771898517428, 0.8366399778767379], [0.9399671889555481, 1.1976301498957431], [1.8648015271920806, 0.44349014298878875], [0.8755075414044255, 0.6623788051378403], [1.2413848221531294, 0.5738711962637543], [0.2639014435371959, 1.831631094485084], [1.159981249918737, 0.783094842803995], [1.2449427060864082, 0.40048953252173614], [-0.2310633736877823, 1.9126729161178222], [0.42588934993302474, 1.8554073284571178], [1.3636527535952334, 1.0651494907433698], [1.6998034016296717, 0.13792974974719008], [1.2539545454124437, 1.4671456424124576], [1.352543617655346, 0.859417492124438], [1.2746049480232262, 0.727906732000577], [0.10244231066797471, 1.2720457485796781], [-0.20336533730003548, 2.493798640665621], [-0.3294490293148229, 2.0681730686187874], [1.009840994904568, 0.9717569008923435], [1.5024059823039542, 0.40457167767902225], [-0.10329632152126256, 2.1116176708474885], [0.4183316122894343, 2.0422834901589413], [1.89164461866571, -0.04722278674761293], [0.9624048396010105, 1.5181082364657328], [0.8986987607457242, 0.8323690490704776], [0.9615482417701157, 0.29416221318811275], [1.812986077250387, 0.09903786437720297], [-0.35341615675699845, 1.9983025018430534], [0.8154568538498779, 0.5387017661590184], [1.3616365711286345, 1.2035494757836669], [2.0309318576366433, 0.008692000592003812], [0.291385364726773, 1.6322896700687808], [2.3645796286786247, -0.004190459896642906], [1.0635557049072253, 0.9937409243727909], [0.8530791099839428, 1.1797173791817], [1.0773958359062932, 1.026880561572203], [0.6691756516138657, 1.0087636772983832], [0.8231513209273803, 1.502372530928743], [1.3268878971683813, 0.6774601147643391], [2.7296096096557454, -0.28004717551350033], [1.3811463263989068, 0.6148183596783714], [1.066639355545041, 1.0501103983855407], [1.3632245623189534, 0.5927351566534721], [1.2276804050616332, 0.401748076408604], [0.7172092084605285, 1.282437825939688], [1.3987542844787253, 0.619495632388674], [0.3939283823671984, 1.9989291487611907], [0.7212043395133261, 0.9885827450187891], [0.65331752725751, 1.4452007122937809], [0.7839013250914646, 0.8095800493463072], [1.743603798642733, -0.05916403207905674], [-0.14180462357736512, 1.8192223818557005], [0.8143507047368183, 1.4158364052749737], [0.7203572599984585, 1.054059207354003], [1.5244353652149902, 0.6217290339768785], [0.43628292773095145, 0.9761743867567987], [1.737110596477169, 0.3343916569131925], [0.5383972201306799, 1.7542393460610772], [0.42813178210787206, 1.8403738646652512], [1.7122261424314846, 0.9080549010066092], [1.1403327102840406, 0.6819249216667089], [1.0185307110919954, 1.0631710603160256], [1.3371661726096482, 1.109448891248597], [0.4306932179859114, 1.8302517159131444], [0.8690600769700325, 1.5651617907153146], [1.5848624355150367, 0.3884268713173332], [0.8447936199373487, 0.9254793402512346], [0.6420963874734593, 1.3778089214866087], [1.228241501495054, 1.0870668327797388], [2.082165785511214, -0.330275708337447], [0.46553167020297836, 1.1719927073204022], [0.34972612709078177, 1.5434723979068763], [1.7392288689947282, 0.09847008768589216], [0.7248221170088841, 1.5554148295387829], [0.39367082922100494, 1.3253902622855045], [-0.90235900396115, 2.3559104894003617], [1.0582707444788102, 0.9158309391316937], [1.8132911253487292, -0.0008713793128483083], [1.412250356890186, 0.6703620428864365], [0.7754185474037327, 1.1831113523156347], [1.0869345589300183, 1.1302127007259417], [1.6692522622449983, 0.21217468476068502], [-0.5002519418955138, 2.4422179945129994], [0.937148020326855, 0.9907373965039445], [1.1756660093033973, 0.9573224492891034], [1.3864637092640932, 0.968817539850657], [-0.4431883927392495, 2.5212169948041616], [0.9960045954844622, 1.190746283930333], [0.42285402637694536, 1.7880881283358787], [-0.7821800749370194, 3.2728084478296138], [1.357330100059404, 0.9665719313515541], [1.6062023560639345, -0.007599744720098167], [2.139998489900293, 0.27668577613597956], [1.4302774143927233, 0.7299495771797955], [0.4352155343006493, 1.3410512682981268], [0.41732833273213343, 1.215327870161371], [0.09444052356821064, 1.981897681702577], [1.1442631212357621, 1.7408484429492266], [0.24802417225521445, 2.1296480282493357], [0.6944073702290607, 1.2318565929710583], [1.3612588901560339, 0.9688314227227555], [-0.23135929880738382, 2.2998032348892767], [0.7869078028601042, 1.1706502932307736], [0.20654138768978758, 1.355143954678331], [1.5307670364615804, 0.5541580529276866], [2.026361461102984, 0.3997442882331672], [0.8991398916194319, 1.3359808103529671], [0.21948757541047859, 1.4626781257924968], [0.48250111765797954, 1.799879372832415], [2.179631433519358, 0.17294381973391804], [0.4523331878266543, 1.402076809473506], [1.543095003418656, 1.2022504455906406], [1.756005579286922, 0.6412683017424746], [1.2980757382422958, 0.6223332307843603], [-0.3862374251983929, 1.9930331216850816], [1.232893629270726, 0.7490507737423103], [1.4345577972621681, 0.869222088911768], [0.6590835709333993, 1.711453418759231], [0.2361577161704589, 1.567704748929387], [2.3790028140241546, -0.561725021639498], [1.0302483098302773, 1.0731058943524647], [0.43594688618696353, 0.884975420693774], [1.6880178760971323, -0.04151541711369666], [0.969397114471858, 0.7021734752843816], [1.117082841489993, 1.2073735679415258], [1.6861519307263322, 0.9029579466664369], [0.5696007548396921, 1.4290519466387592], [1.3895522706025434, 1.197311264403381], [0.5829450296306615, 1.111259490543454], [1.0169031738494532, 1.4549848710661348], [0.8920817198404377, 1.0514336515739542], [1.5513677714173832, 0.5072444849640225], [1.466556841690978, 0.864373704683219], [0.19918120106260462, 1.7764893295130113], [-0.142582325199212, 2.101543706534318], [1.3150400706433953, 0.8230360422950532], [-0.0394992897209796, 2.0716593875139733], [1.1755966454865352, 1.045622292803726], [1.6994007500354813, 0.3878473930138506], [1.3929280856943445, 0.44160642794997507], [1.9904153291984052, -0.0185213710183334], [1.0120254203215076, 1.38028189077325], [1.9298898601572296, 0.06917476027664926], [0.677277967034746, 1.276099847368486], [0.25816568042172516, 1.4320890355273668], [0.928392024312876, 1.3098661241367984], [-0.0919541082371036, 2.2790250240651218], [1.1178945960528013, 1.39392488598051], [1.280529984085688, 0.9166807884317646], [1.3954775138558357, 0.039115769398286426], [0.7825981316599425, 1.8195520587992249], [0.2332526081150028, 1.7820279850630993], [0.4871252372442082, 1.8749987440789], [3.04623327760434, -0.8357582620847472], [-0.09817620236364633, 1.4029040509025792], [1.80603532732168, 0.5274268459933179], [0.9591695040403165, 0.956416904357474], [1.4912816534302575, 0.9012243783301886], [0.2020425233804114, 1.716082538247936], [1.692895032093094, 0.6854921019090824], [2.1691553314633443, -0.16219616840977036], [0.7847605562732582, 1.5670247578241052], [0.48338201092234423, 1.7235568888016437], [0.1758297472124314, 1.5741632522727405], [0.6434660679203819, 1.4741220999101645], [1.4327622341948387, 0.9233811156945289], [-0.5427335778722977, 2.3830832738397767], [-0.5291913436401581, 2.3307684639966633], [-1.016052027212523, 2.8630656957452443], [1.1632752090590353, 0.593939409004985], [0.8330185298599105, 1.4412607816393876], [0.16518328990364894, 1.4337973711787892], [0.6822451267598469, 1.7310590017121803], [1.4279926940823267, 0.4530492540089113], [0.7616685653533389, 1.3204834052266468], [1.7382991484648154, 0.43091380983746674], [0.978924463181855, 0.9809595771100417], [0.5092443711856931, 1.211152872072714], [0.794699581735938, 1.1839656793016642], [0.6128738511603425, 1.2122658535902995], [1.0933381864420888, 1.0730697995682936], [1.3612499573708083, 0.5114235266475979], [1.936404026735055, 0.21825107409187672], [1.8281688800389417, -0.2544185461402384], [0.37704308154620203, 2.111988579594456], [1.135029570316292, 0.822168399964096], [0.8336123506059484, 1.4230808986122165], [0.33682506479034335, 1.5072410534308474], [2.0069092382700378, -0.7798628329168666], [0.8915618790932648, 1.3112347922652194], [1.3400232752864152, 0.8206395220993603], [0.347228553672821, 1.7654657074913769], [2.72569858580265, 0.08956179233336758], [1.1334275698568423, 1.148458844052797], [0.6713935589527715, 1.530293359560835], [0.8633763048940782, 1.5339975963852592], [1.6257782730027601, -0.23222530356324422], [0.034190095676405186, 2.3620707753985286], [2.1169882380013716, 0.26130146162325374], [0.40294549251262823, 1.178544630586798], [0.9829686392338983, 1.0829461765930644], [1.174153219993174, 0.316681987280542], [2.08542871750945, -0.46048283507618315], [0.2618808566421308, 1.5305174840072011], [0.9135232446985695, 1.7001538874498976], [1.422861792403674, 0.9022952711717337], [1.8342870446002122, 0.05113346255115381], [0.4326146137662422, 1.622200670454073], [0.544518530790822, 1.6152416437373982], [0.8963587156415281, 1.0879969840906714], [1.2915189299452496, 0.5632180339210393], [0.37830957154160616, 1.333220654284712], [1.3683516336354549, 1.3472543034990494], [1.214730109835643, 1.1882454474435773], [-0.12745345597403523, 1.9434256135990633], [2.6032289483450644, -0.5137612820395849], [0.3595055617442141, 1.7725588105838361], [1.27127961731965, 0.7327580382238907], [1.3862938055689342, 0.6686891997483748], [1.5383056170956735, 0.9690104877866963], [0.686077785388693, 1.9568195223671432], [0.8453085154848972, 0.9897305347524837], [1.89064741992531, 0.3874762885817772], [1.0432258936413366, 1.0685010938806887], [1.8685489827335582, 0.5817398116241557], [1.1883397718635644, 1.2045955131045671], [-0.08699337089563586, 2.0970185923616267], [1.532003513087818, 0.594930288318599], [0.9674512858745987, 0.8283167132081171], [0.2916169450984616, 1.8264818913872591], [0.920938305416859, 1.1244872938455266], [2.1751357628154766, -0.9377025094275622], [0.9924677304599885, 1.2643055237054526], [1.399286777159653, 0.6192017594711543], [0.7874789696389466, 1.1576423730930876], [1.309993552809566, 0.41380197885184256], [2.1648659222617592, -0.17468306147732604], [0.9401320424962613, 0.9983248741323698], [1.5919543815315116, 0.7420885854605848], [1.6035408684446575, 0.3330092973975842], [0.9725499316487959, 0.9769028176788762], [1.1898444110209152, 0.9109044383023315], [0.9652643032099163, 1.6083808668039798], [1.7519739367690512, 0.5758010878847882], [0.7686808298897141, 1.3962092939098074], [0.8965116058523636, 1.0400310404378432], [0.9858367286579534, 0.7472573397450409], [0.28128080401494127, 2.2609129237600456], [2.717768535769698, -0.7012645110485307], [0.8194566400009218, 1.5323512605766296], [1.1403163205343219, 0.8456263910592352], [1.4494305975034183, 0.04040422988594572], [0.6768571572599833, 1.1808540522590967]]}, \"id\": \"el2653140551584580688\"});\n",
       "      });\n",
       "    });\n",
       "}else{\n",
       "    // require.js not available: dynamically load d3 & mpld3\n",
       "    mpld3_load_lib(\"https://mpld3.github.io/js/d3.v3.min.js\", function(){\n",
       "         mpld3_load_lib(\"https://mpld3.github.io/js/mpld3.v0.2.js\", function(){\n",
       "                 \n",
       "                 mpld3.draw_figure(\"fig_el26531405515845806886302902368\", {\"axes\": [{\"xlim\": [-2.0, 8.0], \"yscale\": \"linear\", \"axesbg\": \"#FFFFFF\", \"texts\": [{\"v_baseline\": \"auto\", \"h_anchor\": \"start\", \"color\": \"#000000\", \"text\": \"None\", \"coordinates\": \"axes\", \"zorder\": 1000003.0, \"alpha\": 1, \"fontsize\": 10.0, \"position\": [-0.16129032258064516, -0.16129032258064516], \"rotation\": -0.0, \"id\": \"el2653140551538452368\"}, {\"v_baseline\": \"auto\", \"h_anchor\": \"start\", \"color\": \"#000000\", \"text\": \"class1\", \"coordinates\": \"axes\", \"zorder\": 1000003.0, \"alpha\": 1, \"fontsize\": 12.0, \"position\": [0.86122311827956988, 0.91129032258064513], \"rotation\": -0.0, \"id\": \"el2653140551538406480\"}, {\"v_baseline\": \"auto\", \"h_anchor\": \"start\", \"color\": \"#000000\", \"text\": \"class2\", \"coordinates\": \"axes\", \"zorder\": 1000003.0, \"alpha\": 1, \"fontsize\": 12.0, \"position\": [0.86122311827956988, 0.831989247311828], \"rotation\": -0.0, \"id\": \"el2653140551538408848\"}], \"zoomable\": true, \"images\": [], \"xdomain\": [-2.0, 8.0], \"ylim\": [-1.0, 8.0], \"paths\": [{\"edgecolor\": \"#000000\", \"facecolor\": \"#FFFFFF\", \"edgewidth\": 1.0, \"pathcodes\": [\"M\", \"L\", \"L\", \"L\", \"Z\"], \"yindex\": 1, \"coordinates\": \"axes\", \"dasharray\": \"10,0\", \"zorder\": 1000001.0, \"alpha\": 1, \"xindex\": 0, \"data\": \"data04\", \"id\": \"el2653140551538405904\"}], \"sharey\": [], \"sharex\": [], \"axesbgalpha\": null, \"axes\": [{\"scale\": \"linear\", \"tickformat\": null, \"grid\": {\"gridOn\": false}, \"fontsize\": 10.0, \"position\": \"bottom\", \"nticks\": 6, \"tickvalues\": null}, {\"scale\": \"linear\", \"tickformat\": null, \"grid\": {\"gridOn\": false}, \"fontsize\": 10.0, \"position\": \"left\", \"nticks\": 10, \"tickvalues\": null}], \"lines\": [], \"markers\": [{\"edgecolor\": \"#0000FF\", \"facecolor\": \"#0000FF\", \"edgewidth\": 0.5, \"yindex\": 1, \"coordinates\": \"data\", \"zorder\": 2, \"markerpath\": [[[-3.0, 3.0], [3.0, -3.0], [-3.0, -3.0], [3.0, 3.0]], [\"M\", \"L\", \"M\", \"L\"]], \"alpha\": 1, \"xindex\": 0, \"data\": \"data01\", \"id\": \"el2653140551538353168pts\"}, {\"edgecolor\": \"#FF0000\", \"facecolor\": \"#FF0000\", \"edgewidth\": 0.5, \"yindex\": 1, \"coordinates\": \"data\", \"zorder\": 2, \"markerpath\": [[[-3.0, 3.0], [3.0, -3.0], [-3.0, -3.0], [3.0, 3.0]], [\"M\", \"L\", \"M\", \"L\"]], \"alpha\": 1, \"xindex\": 0, \"data\": \"data02\", \"id\": \"el2653140551538912720pts\"}, {\"edgecolor\": \"#0000FF\", \"facecolor\": \"#0000FF\", \"edgewidth\": 0.5, \"yindex\": 1, \"coordinates\": \"axes\", \"zorder\": 1000002.0, \"markerpath\": [[[-3.0, 3.0], [3.0, -3.0], [-3.0, -3.0], [3.0, 3.0]], [\"M\", \"L\", \"M\", \"L\"]], \"alpha\": 1, \"xindex\": 0, \"data\": \"data03\", \"id\": \"el2653140551538407952pts\"}, {\"edgecolor\": \"#FF0000\", \"facecolor\": \"#FF0000\", \"edgewidth\": 0.5, \"yindex\": 2, \"coordinates\": \"axes\", \"zorder\": 1000002.0, \"markerpath\": [[[-3.0, 3.0], [3.0, -3.0], [-3.0, -3.0], [3.0, 3.0]], [\"M\", \"L\", \"M\", \"L\"]], \"alpha\": 1, \"xindex\": 0, \"data\": \"data03\", \"id\": \"el2653140551538451280pts\"}], \"id\": \"el2653140551538911888\", \"ydomain\": [-1.0, 8.0], \"collections\": [], \"xscale\": \"linear\", \"bbox\": [0.125, 0.125, 0.77500000000000002, 0.77500000000000002]}], \"height\": 320.0, \"width\": 480.0, \"plugins\": [{\"type\": \"reset\"}, {\"enabled\": false, \"button\": true, \"type\": \"zoom\"}, {\"enabled\": false, \"button\": true, \"type\": \"boxzoom\"}], \"data\": {\"data04\": [[0.7465277777777778, 0.7983870967741935], [0.982078853046595, 0.7983870967741935], [0.982078853046595, 0.9731182795698926], [0.7465277777777778, 0.9731182795698926]], \"data02\": [[2.3109093641600613, 4.324907578082301], [5.022014367380573, 2.3205391561937887], [3.1468646280604253, 4.736275387548077], [3.653574119788859, 3.780087834302052], [5.17887973733488, 2.7621763545636213], [4.633040816719562, 3.205967157527449], [4.110712459931281, 3.981961560189024], [3.4838020599407375, 5.62735684910025], [5.541497948657315, 4.070390475637231], [3.097181274501185, 3.759027140591996], [2.8148119775653972, 3.728350345584599], [4.4647439479823445, 4.073361855790437], [4.144861270733327, 3.282363183706272], [5.760520254890299, 3.8137707426128804], [3.6061259109673127, 5.096555354329547], [3.622440377042114, 2.8782812320076014], [5.741575931262502, 4.506751196688439], [3.392918665006076, 3.2133865172468488], [4.128433996984332, 3.361298770007001], [3.3663755255704038, 1.8632476994555431], [2.424636402754737, 3.6212725618120634], [4.748348211304876, 2.4559405292592427], [4.337416414719392, 4.169579791388476], [3.7404760221148092, 4.618011194475729], [3.9177277352707645, 5.001628775747927], [5.458326548467359, 3.60960828537846], [5.579412636425973, 2.9512122523438533], [3.2591616718875467, 4.010865635017966], [2.9902058377688836, 4.619433639537814], [3.6328072646153675, 2.47153021767023], [3.8403870835014633, 5.715957036903854], [4.497787960806188, 3.9494827709301137], [1.9380521178952383, 3.42090944003746], [4.885874276526922, 4.925767955174225], [3.2561951349205867, 3.4356184280016904], [3.573126864681103, 4.3371803129391635], [5.029255354063969, 4.289289967133673], [3.837706086837671, 4.299696378792122], [3.7196152321643416, 3.6319360206383413], [1.9375666429210572, 3.643090850911524], [3.481947162374082, 4.4024927967729415], [2.572005883442422, 4.341154700245251], [4.360925628754199, 4.86845756153836], [3.3320231967425915, 3.9681232653917453], [2.053691475618619, 5.03640475858059], [3.5775384205868646, 3.344878061648117], [2.9297744123024314, 2.787347375468937], [5.319758212094512, 4.713907013015485], [4.586007879828954, 2.99426104268387], [3.523276723273856, 4.054247667773872], [3.7742380097696295, 4.181189195671644], [2.8053055276598053, 3.5621611663908377], [4.903485303001677, 4.588579810525589], [5.279671995509107, 4.896678934773427], [2.650724100195834, 3.6676053789669973], [3.911481189311461, 3.0070121253948137], [4.124221910166, 3.53291187605834], [4.223966120538985, 2.950583952775644], [2.942397605379875, 5.7865932403662415], [2.70595129887258, 5.060806547285305], [4.120578160037159, 1.483291009173748], [4.202218068318533, 3.357573455196459], [3.480496717468685, 3.4101960162500484], [3.827708748305758, 4.798626294873112], [4.076919356190409, 3.9133084871724835], [4.772705452327075, 4.170698011545326], [1.834340122804179, 4.436186966554655], [4.4048488217878505, 2.95110375260649], [3.762441092083168, 2.5338696489157395], [5.179193488196435, 5.846863477348168], [4.877178464074497, 4.103854697315189], [4.048093597109149, 4.046843585722223], [3.360836546443199, 4.294872462765098], [4.897300468893626, 4.471086071450706], [3.7699134029021204, 5.55060358465763], [4.400473700652761, 3.3661759620268312], [4.337651999476438, 3.576089153404849], [3.401255828032137, 2.763571041443753], [4.186827546461209, 5.111113999889698], [5.526792290907531, 4.5997215557547895], [3.908176440280555, 3.660827191645598], [4.792829873545781, 4.023163219129948], [3.892538238699412, 3.7491208292262646], [4.122695300107408, 4.277255098144896], [2.682282246996685, 4.231400732849936], [4.261156039116062, 2.8924671287929344], [4.228862738067031, 4.6311884861207275], [4.1299822523193646, 4.310241562190546], [3.7894479591148333, 4.147625765260794], [4.565775762246458, 2.578160285807546], [3.905499670869461, 4.28667513840399], [3.108193489980469, 3.1327450418638074], [3.9625381243395403, 4.756315290995454], [3.9731778678583836, 4.4269755747908155], [4.651448363122527, 2.8332206750247306], [2.871162023829154, 5.677624937990142], [4.727379358699189, 4.527072311861714], [5.917444013549529, 3.7079421832582846], [5.999864132935425, 5.077339182377896], [2.9101602223352003, 3.6205535899755943], [4.622730478252955, 4.517689319675957], [3.630208720565673, 5.576957993755872], [3.6744480719373662, 4.0925250651819445], [4.247663371568276, 2.954645960102579], [4.119044585509802, 4.8510557550729825], [3.432027185790501, 3.564229512253997], [4.386029488848143, 3.7541324173958808], [4.671431576499689, 3.5449308304205127], [3.618565078340513, 4.626505136969919], [2.360318035285921, 2.5637103326940673], [5.132401390610135, 3.7094477484903248], [4.41284624270482, 5.017514105022635], [2.843180730681958, 3.9497088144066606], [2.5810451313733003, 3.4260805953037363], [5.226311895154599, 3.177601886937266], [3.866921451266568, 2.9378707302303706], [5.299874874914261, 3.626835618409291], [4.235099529158939, 4.111461579654123], [5.981305646246422, 3.948630786672077], [2.6288411213990495, 4.199601149898399], [4.495797553833406, 2.9361149780950475], [6.03102777019324, 3.57729630849551], [4.321625117603864, 5.829303584886212], [3.389953471231157, 3.795713214114079], [2.8961161297534117, 4.3597430298798], [4.641247020194478, 4.263852784394996], [1.5697996701775625, 3.5568349921833895], [3.5498287367981267, 4.33039188386781], [2.2487563628729683, 5.446450229740716], [4.2545022652784406, 5.007568040235118], [4.28273288547588, 2.8355658531329646], [4.34576262140251, 2.529587582835656], [4.260574322302179, 5.243817859836782], [4.433151806409658, 3.1878858859974204], [5.464877713091017, 7.500947502908598], [4.572883289069136, 3.2816023823505898], [4.162848141817287, 4.909127082279054], [3.6136952695598925, 4.364970270256361], [4.041950418490187, 3.1060438988854724], [3.68131055259115, 3.092306963911246], [4.495669127911779, 3.433663746891722], [4.498090702213483, 3.249955557379093], [4.899965099233744, 3.14597663374213], [3.8972679923351565, 4.674329438787084], [3.7146974254302174, 4.218544287083589], [3.2381690793542717, 4.735277136843271], [4.7569821285801455, 4.287971751378535], [3.8162759904023735, 3.971203732965096], [3.126986618154607, 2.94506787498435], [3.199755872900409, 3.9398731622862706], [2.9597753343060464, 2.694691565218255], [2.4798663614969936, 3.9036378300058936], [5.050873636303067, 2.433838977077164], [4.218914765855349, 5.167911156356396], [3.6243743993386945, 4.576946433042544], [3.6391908184622204, 2.521568538063545], [3.884440537481562, 3.911603057561778], [4.406733718080024, 3.509408278408754], [1.2182046527776698, 4.0700923874180495], [4.308325354442264, 3.7509798629355955], [4.443567301525821, 2.882769421896726], [5.228291679461397, 3.4935340864366218], [3.90236719671323, 6.273180938593003], [3.938540029602712, 3.890967478785736], [4.7437140460434915, 4.504928902450525], [3.5661438019982272, 3.4922007690376287], [3.3371038792053875, 2.9687088155018007], [2.109197254737417, 2.959277492011956], [4.870485593397251, 3.72318974829046], [3.940395035155051, 5.594888817148384], [4.029480724341221, 5.095501340679929], [3.5529785484467418, 4.9798879950899915], [3.9815743890512407, 3.3868050747127385], [4.1329064157319895, 5.070351627470644], [2.640116965115717, 3.323310130818609], [4.775898744231237, 3.016580562372942], [3.383417061841345, 3.332775061732749], [4.971723543715024, 4.54442464316994], [3.5516269561715075, 2.398292466727682], [3.4449030632489, 3.4238568765642885], [2.1795985185674285, 4.11802800238248], [4.2811877197857235, 3.6121745331455104], [3.621202412518376, 3.006735852885756], [3.5151150848335466, 5.331849175693629], [2.158941868363851, 3.139702597359261], [4.159771414839689, 4.057218317849999], [3.2960598588153065, 4.405311826315413], [3.279532837750353, 5.686424261455623], [4.294493888000178, 3.6734841876873885], [3.4573890682483133, 3.8964335895643165], [3.0611209500921603, 4.794811268407653], [3.444428285177364, 3.5823601014441326], [4.879978492184085, 6.369159784154013], [4.887297551584344, 4.775454629690928], [3.2401934152046152, 2.9575777470687212], [4.8327078873089855, 1.9458304475468173], [5.450719627496904, 3.5671794877451757], [3.820356952906766, 4.70146046135678], [3.157469837546794, 5.142204816877565], [4.270937518596882, 4.995799072010719], [3.887463737222519, 3.5325293423160593], [5.251229250108375, 4.047654970220168], [3.7739607039559138, 4.328902453063843], [5.276973972767571, 3.905631401093915], [3.9269340082706004, 5.120281937308647], [2.318459062684223, 5.530805801969544], [2.663241781884687, 5.202110800360031], [4.45326188208191, 3.747171756163228], [3.744860668709959, 3.912639239234925], [4.637338518414329, 6.098778895158161], [2.61703501481242, 5.598715711432094], [4.578389589433155, 4.78080305207405], [4.52459809051632, 3.7485292919781577], [3.8640735953254572, 1.6953896853397445], [3.982244615526176, 3.68050732113109], [5.568460264743918, 3.9950416186787847], [2.8074361884457093, 2.8280318385326852], [3.384062838671352, 4.878953242928237], [3.2218494248387826, 4.023935684845945], [3.0799919191947325, 6.789662067419549], [5.0001933603337925, 4.7045187394492585], [4.8653736327409485, 3.997068032099466], [4.669836932731792, 4.2012721040016725], [2.3796687460834622, 5.869520201722331], [3.32844824532445, 4.0438044496976415], [4.661419305305311, 4.808559158496308], [3.004298562212366, 2.370577430002059], [5.38201063217258, 3.0869665473666683], [3.6027023230942317, 4.0058832426288635], [4.5628920726463305, 5.505975778310747], [3.8149685659092882, 2.8288744116625315], [3.6405684725688716, 4.874304425653229], [4.766486671077206, 4.1633260841800634], [4.084730462788818, 3.15551028357676], [4.165078202508093, 5.185070901215217], [4.1549325421252705, 4.438572539320669], [4.117561135650566, 4.371925839634235], [3.898021655981729, 4.122338989981294], [4.03499782384138, 4.166448453371268], [4.073998196550147, 3.850198222360322], [4.8428579484551975, 3.1453153672737164], [3.5070121570953043, 4.333414373401346], [4.326544374002303, 2.698464755360013], [3.98945455246382, 5.30923732924833], [4.017868995493477, 4.306563999200038], [5.214648958501353, 3.0957161377752347], [2.604534112867853, 4.180788564796936], [4.944918126443701, 5.523815565675266], [5.697403267126269, 3.974918304759833], [4.557797535115691, 3.6560547722434595], [2.846735442138706, 3.6132549601275334], [2.8004567165422434, 4.678952156723613], [4.0771499345664735, 6.142781420405559], [2.5029409061645866, 4.5591397567580065], [2.5706558704383964, 3.648893528009026], [4.347666753390579, 4.766656410605644], [4.593290469496377, 4.747794463575577], [3.0511769220713125, 3.1699028416629886], [3.0416875363508304, 4.492599296143076], [5.40227477753423, 3.1187960363723346], [2.8424367289463364, 4.85688728518417], [4.886460048954568, 3.04947354827899], [4.498775341438684, 4.20681460942043], [6.315310129986198, 3.164709188673276], [2.9408202623850332, 4.926461483066868], [4.585077351083753, 4.580461618085608], [4.864202721776112, 3.2673513469909112], [5.139317770604702, 2.9304659080774944], [3.1015290135998637, 3.748035113873416], [3.0159761348855927, 5.270960096995061], [3.541569176448831, 4.538513530993665], [3.9413888330358513, 5.459051522973155], [4.192846561746412, 3.8744863482238463], [4.505033221904425, 4.539747962779547], [3.117479354137874, 4.479482297239498], [3.4286650770570155, 3.3359464142982214], [1.7899170446211068, 3.8423756869639454], [2.391968703557569, 3.936613660044964], [3.184213606217778, 4.585579409822674], [3.6346891172182527, 3.879005343925174], [4.386148074255489, 4.064534693496927], [4.169634352876492, 2.8853950763654117], [3.281123430494206, 3.613560163170243], [4.842550137779049, 2.6285733294243263], [4.185798545200868, 4.1932013133225094], [6.093604975887985, 1.9312298664384167], [4.3703115118506, 4.224418372487496], [3.908532675256777, 4.843290471082485], [3.749891952283248, 2.7566956152075974], [5.687060464606149, 3.647722617482993], [4.433864677901698, 4.292636969470814], [3.4928500309485755, 4.41046530397799], [3.9668541665929697, 5.052605316727482], [2.7453494349438854, 5.388730707109318], [3.120291473453798, 4.19530531837699], [2.9255999142338216, 4.1362978938791715], [4.427197338144119, 4.034914131965726], [4.428102175355081, 5.042133325997414], [5.168645818464912, 3.884737054831558], [2.3125850403862165, 3.455182990237051], [3.969054917115601, 2.9780248070746675], [4.8664936914191275, 5.69410092600453], [5.02278435217819, 3.5101093733096964], [5.164544531993792, 3.0688959804908214], [3.66199020265423, 4.165146583497093], [3.4041398735416957, 2.2386664151817497], [3.199351938209231, 4.489526704264897], [3.2254876132798342, 3.257224772231094], [3.470914456406432, 2.8199704767204885], [2.436229506342273, 5.046074356702862], [3.4762278136712172, 4.224277122934166], [3.7809582051634796, 3.82246895308863], [3.0214347978869514, 5.056580113979125], [5.273673128637478, 4.3064366269806795], [4.636108193110135, 4.648113438454406], [4.037850990780535, 4.838208126943476], [3.915458324548681, 5.865517438197976], [3.7421883576859356, 3.9201707347917414], [3.96319569084004, 4.401574392652881], [3.2316080829285054, 3.815740778945614], [4.958980883699654, 4.123485276876077], [3.981284503821882, 4.197199527017824], [3.667332860067798, 4.822524354381993], [2.6324718909400704, 4.441307822667574], [3.5293443225728063, 4.330945800514283], [4.842481723078199, 3.6959709445498885], [5.166537213266771, 3.224671150201395], [3.709087810174488, 4.1021748724740705], [4.237260972237842, 3.6541315400596592], [3.531267876549528, 5.546993405346176], [4.18740923269713, 5.365053885777408], [3.405094210801712, 5.512757142353138], [3.7015946924305045, 4.460158338157125], [4.053234610873351, 4.494733004941017], [4.354606682407761, 2.925173847470882], [4.457328413948469, 4.5038731732582695], [5.640929659171523, 5.060395620299609], [2.873635729622357, 3.4820464330199603], [4.427506524408261, 4.076844317947971], [3.738403795829956, 4.194897640015639], [2.8933363619361243, 4.2973461212293005], [3.5997363648424368, 4.581457821873112], [2.9279998256661344, 2.8680085761714142], [3.3965565512356406, 3.0110258314346168], [4.202318152161535, 5.788199305201072], [3.44340783433878, 4.704448619737944], [4.5626140637263495, 3.3087534720530813], [4.998866042975011, 2.534679718268707], [4.98435202292318, 4.748132264988962], [3.659793711113456, 3.1193534363474775], [4.0496657029607155, 4.54259125957312], [3.709175585238977, 3.889299028934491], [3.215593603923487, 5.409855043396738], [3.7058398449303707, 4.240722503247001], [3.4252234739679728, 3.4122111606179284], [4.8426807293628, 3.4913405574909047], [3.371558842737878, 3.427539446290771], [4.0970853754244185, 4.111274050894226], [3.3935534606385533, 6.136819069230513], [4.551156692514795, 4.6043932553853955], [4.311574430305487, 2.819329757671961], [3.2734398895608035, 4.5068372005843225], [4.478530557509133, 2.979349000493227], [3.649082877518287, 3.779058638700308], [3.2317122997644177, 5.173541088854028], [4.231108711902336, 4.8003192904524585], [4.593964500234961, 3.648391694057156], [4.501263418356993, 3.7531637438669576], [5.108974649491012, 5.359172984399889], [3.315594206900112, 5.685778245284094], [2.633052134275512, 4.436642452300433], [4.282731658200304, 3.4011445354246423], [3.1704240855806853, 4.096508691975354], [6.248494974264471, 4.2175950120808245], [4.422511311127588, 5.039877600860113], [2.2678466904356007, 4.862615614437393], [4.0808368420704175, 3.4467613983901257], [4.530639025009146, 4.649894154282787], [3.728298249806945, 3.2373797413375858], [4.722041791565499, 4.679277795697969], [5.3683276367915465, 3.8637714116936586], [2.3484504928887695, 4.0066487388777885], [3.5093784778676844, 3.0519897440140102], [3.348001366934284, 2.78408248011241], [2.548530067391108, 4.908025058512809], [3.3214933168211873, 3.951671581826028], [3.7529038019701284, 3.914152945192915], [3.34893353651247, 3.5033003163104044], [4.229811980034601, 2.185838683451398], [3.6228430776281924, 5.332845791676578], [3.805864378291621, 1.852937780129281], [2.5153706766570414, 3.908158423659835], [2.6621150638362234, 4.490319787106055], [2.7441276474901466, 3.640144198408702], [2.2531800469289007, 4.6981298882714775], [4.6187075728903695, 5.003164904134401], [3.625249135397486, 2.9570399519841444], [2.606315933693786, 5.48443641610762], [3.3986302393605126, 6.164534747205892], [3.373627685717727, 6.116764235651831], [1.304362473221873, 3.6519207090544104], [5.692590656689016, 3.355180674569787], [4.027565034972555, 4.2581878056177205], [3.3594370132449423, 4.79781290724754], [4.226880061102002, 3.795510721530561], [4.162971848403719, 5.771332265733728], [3.747030225212787, 4.446555950350237], [3.9263545202941175, 5.504214110084559], [5.070830237031165, 3.8795071734647872], [3.8620630754668017, 3.83600995593277], [4.694125033754889, 2.860846951813036], [4.626293924976588, 5.537137658281465], [4.447409393798461, 4.182847360084554], [4.413919552162094, 3.3110794283182248], [4.407894580869999, 4.590215866973266], [2.3098485844313528, 6.314445561433638], [3.8230357485814137, 4.758570377079414], [4.026016417863601, 3.0919741066228745], [3.334742839425658, 4.219723338344859], [3.8966277023568767, 4.953737001880447], [3.3514076263562416, 2.8988937964553116], [4.73526042806978, 2.5695512863395766], [2.9933528597851162, 4.347566308435458], [3.754815420759823, 1.9284004295537986], [3.770455639215792, 3.9510833194525943], [3.0609699581570444, 2.527540780394056], [3.815674679039139, 3.9790639967736965], [4.490723516437456, 3.731401895162963], [4.917307742620091, 3.8706249716169427], [4.681682570018214, 5.3599154383320124], [3.774860099649394, 5.3206362411125445], [3.5848724878599376, 5.2768023439694405], [5.282108742260304, 4.166755309722523], [4.537260302657129, 4.871925018200015], [4.060412280432238, 4.960641751427982], [5.704448960782692, 4.047450020573787], [3.7368096010599685, 4.0982157042128975], [3.9505284779433087, 5.142709929534075], [4.962810347427686, 4.75026649746726], [4.050673188564447, 5.202871493941991], [3.8612435036500883, 3.814465643272074], [4.3626122899766875, 6.086285600704027], [2.525759315382974, 3.2525760456504056], [2.0438411432985424, 3.471374161210015], [3.172348069703024, 1.7768570728905524], [3.5976811906289625, 4.086344211521939], [4.410183797664103, 3.885467073168539], [3.5528512676966715, 3.212884495080231], [4.095471311362322, 3.6950708294428964], [4.199820455930271, 4.012064201385611], [3.4188016545339015, 2.9162999550891455], [2.623686988448754, 3.748420442258545], [4.669676244782101, 3.2755710180500164], [4.547658680553425, 3.697248043220992], [4.660991234968775, 4.630024072288885], [2.1730033311547503, 3.4614649464360094], [3.057619336152129, 4.189283099023839], [3.093712174612139, 3.240404552271927], [4.710165843674349, 4.219501187797419], [3.094281534387264, 5.011324292480147], [3.335217576620451, 3.579918340558547], [4.028896434317725, 5.09234648434571], [4.869088330205772, 4.335424398264347], [6.006217975643398, 3.0552628458981306], [4.541734138875893, 4.147063715715038], [4.711885578090006, 4.029371327263297], [3.473369255499891, 3.3995797750772616], [3.1450435646993293, 5.179689187195266], [3.5313964472929142, 3.7391100963605375], [4.412853760589129, 5.096990890621543], [2.7656314336946783, 5.781093178999697], [4.584421510895181, 5.004838831407733], [3.0043261856801022, 5.106875917173248], [3.0629362353682628, 4.4131655820626206], [4.751226018094933, 3.624843283345413], [4.218465685521494, 2.7998080268222365], [3.2946137702242178, 3.41640414296516], [4.5266173927694835, 4.2202139593997385], [5.072117070885076, 3.7508816415486907], [4.31753874108564, 5.761992733781728], [4.454073115909533, 4.315074699747052], [3.448763725343445, 4.608064157164701], [4.395469653661206, 5.151067953649088], [4.55795377299065, 3.926237770997816], [2.827790985134717, 5.015689103653709], [3.748852378152555, 2.6542197764474684], [3.2909320957491275, 4.219296618574367], [6.825557547467108, 2.665017578980817], [5.963622154800424, 3.5135499386659825], [2.980261401480613, 3.689998518105971], [4.803792687255893, 5.528449982648514], [4.5720710815740055, 2.9986807245688967], [5.536814320284743, 2.748364604342072], [4.223935996224219, 4.064411959196954], [2.7431703864498695, 4.511262502287036], [5.322262543093924, 4.10506096086851], [4.91218994784704, 5.291169571152574], [3.1838974844389645, 5.7507478174459505], [4.579686913604499, 4.59653884007825], [3.5599011485559826, 3.295755176660257], [2.919209568033334, 4.572664581618146], [4.843450379880888, 3.0478563086466446], [5.892131090507718, 4.574975062138958], [4.285438247096612, 4.415441117505118], [2.1939809802327828, 3.418077120618576], [3.117283163676585, 4.998254612098379], [3.575150808449015, 3.404508431529054], [4.095861018228437, 5.482601862746707], [3.618362964400071, 4.562070647778493], [3.834015219151345, 5.685867040515085], [3.232078718253301, 4.020742736587522], [3.856753091108771, 4.619603776173334], [3.446508875656145, 3.2252941390417877], [3.633259879155416, 4.971347450088579], [6.388213749716522, 2.924098233453784], [4.363960942134721, 3.76209776850674], [4.9837876906204395, 3.778069390106944], [3.9483378649844023, 5.447118596946385], [5.095955993953952, 5.309957816227173], [1.5605364655996716, 3.59371775089302], [4.325957213677005, 3.669944843865404], [5.265495395346328, 4.336949698303665], [4.5307920844378, 7.042577184159425], [2.837322016511994, 4.891427905840573], [4.537756486902575, 4.716324646604099], [2.887250943234139, 3.973086879879828], [4.546905271943146, 4.673741865751173], [3.577076524584363, 4.680758776499828], [2.9272858520074347, 4.253941395496542], [4.480227131957614, 4.158402126748366], [4.724684722086973, 3.226446759212096], [3.8947281473060666, 2.7237408936633303], [3.374762159388303, 4.225126871717201], [4.551477694466971, 3.509290593832079], [2.5440756294866627, 5.165024003712243], [2.856739287914955, 4.382895089222753], [2.5194534162622224, 2.6336563461928413], [3.3524068941779372, 5.546693201108942], [4.172551849498917, 5.362145610923385], [3.397534700440454, 1.7412711612577798], [4.005266551080818, 3.97591052071757], [4.76447646822148, 4.190330559593504], [4.598078403678106, 4.783880077158239], [4.7654042222979776, 3.4114909981643047], [5.76522962545971, 1.2706954905438992], [3.553433695311494, 4.781436835374958], [3.17152620697508, 1.7478190741752866], [4.788951951206817, 2.5937491951426472], [2.7550146006133045, 4.157138025584561], [5.509540225929709, 3.0105595661679945], [3.1020987684159165, 4.3905032313428585], [3.7969257924462942, 3.609273713760935], [5.468815974682645, 3.0687227373000745], [4.059730774246098, 3.5457929176313168], [5.216590281095624, 4.31005217252578], [5.826759021856244, 4.179655065890557], [3.970499248321208, 3.578278497175919], [2.1497311668878636, 3.9251618212799344], [3.149980186552465, 1.0984624333548405], [3.109154873136382, 3.2034792936323737], [5.345362554226545, 4.072201552130543], [4.764984736203703, 2.325695334984887], [4.0885975559140375, 5.864166569766366], [4.690338841719338, 2.4654367437024938], [4.791862561532305, 5.362822989209855], [5.146783713485468, 3.6208841176134867], [2.5671501136375916, 5.804650715162463], [4.163439886392828, 5.1468282191042265], [5.415380680635401, 4.683017336670911], [2.1128343741057964, 4.4891785734748515], [3.845921720781924, 3.5888978339037245], [3.747380808345763, 4.4492096542252275], [3.09633153211049, 3.9247235751774703], [4.213878817012302, 4.6488355368753504], [4.993567276129629, 5.141197920306319], [3.029760703873006, 3.6926896937020137], [4.477356728091552, 4.081212921206188], [2.2602920141078906, 5.189329888437426], [3.415070571268982, 4.02596665951274], [3.4560266153765875, 3.1056991347146408], [5.059880096904767, 4.514758912781546], [2.3333178525546066, 5.271178773285213], [4.633650859357248, 4.826461811738588], [4.1999277622938305, 4.515785058929947], [4.4540339119427435, 5.52934579803501], [7.002339612203671, 5.529115713019991], [4.324664178782039, 2.7692617024880084], [3.7535015766671975, 4.450641035645798], [6.112483504487516, 4.100011714336352], [3.618968221543443, 3.6649535098298567], [5.440457310215516, 4.48827672637401], [4.751265608849721, 3.2684090765300193], [4.412921320829852, 4.740882391498829], [3.5908808451847585, 4.333190387490967], [4.843262576676217, 5.631460129298453], [2.9435919769089782, 6.249123414481856], [4.15232473185871, 4.84624181385194], [4.240978396953434, 3.1612667304123114], [4.417417448405561, 4.885711863304507], [5.1924280763080874, 4.931547361105179], [3.4491571595461865, 2.706647812673258], [2.5533428831699503, 1.701300373716696], [3.9872080659927884, 3.0692782608127693], [5.765867211147945, 5.310724479574777], [3.074984993798096, 3.8822492436842206], [4.337063754916025, 3.7068135219999254], [3.509019564266971, 4.075428032453858], [4.137091406992609, 5.478120218810189], [3.830664726325762, 3.77711548649815], [3.9668083174885043, 4.5561058623462545], [3.335871681561012, 5.367640167725971], [4.116802773619093, 4.624432202029773], [3.1658290732960332, 4.685780354526459], [4.360607832546541, 4.423272846248789], [3.4846887621820373, 3.698448638626533], [3.0854543496158042, 4.633937942977237], [3.316160341573615, 4.710498891677995], [4.985365171376049, 2.10090520220446], [4.903300499797936, 4.343658558778985], [3.084405214564834, 4.242103889207173], [4.195380866561267, 2.0113555867282127], [4.553958053022426, 3.1180970392441374], [3.7412341746712614, 4.967726571823075], [2.84332773985824, 4.54872026503789], [3.8655816421422626, 4.519535296974172], [4.513379040608317, 6.326698055007919], [4.066756343570521, 3.5669137979668006], [2.581610517498742, 3.374756164686773], [4.302767759134153, 5.04068002835858], [4.533566761239208, 3.1011266209037767], [3.656363513524314, 3.573524937376665], [3.5466740967324966, 1.658434466410359], [4.324145166672981, 3.2557809510734423], [6.4329850061692575, 3.941719500936796], [7.411089928441404, 3.64758265022214], [2.1416702774695215, 4.3554523296553125], [4.811973313259847, 3.743875225965226], [4.900151329196008, 3.8962892213100333], [4.2948696859837705, 3.532678943463819], [5.681870598235512, 5.015494918222674], [5.121422484407403, 3.846390082852087], [4.547876459246021, 3.4732012675523865], [3.485722573673744, 4.285324999844744], [4.6517784149745225, 2.4859595277166626], [3.2142291441361626, 3.1469425606952885], [3.1277196424813325, 4.804568176217562], [4.462216580504599, 3.9497303107835178], [4.201922833405352, 4.908534028135576], [4.585110751546824, 5.267409199612403], [1.4118036674730159, 3.639836862730475], [3.136123949723465, 3.7294761855607232], [3.251268307598005, 5.1230441621286005], [5.122117424336072, 2.1478513823002494], [4.558618448825428, 5.734079776683545], [3.9451572838184483, 4.2378281993771925], [4.577513105791496, 2.747357034189508], [2.9519718161803246, 4.424034774869425], [4.594439605173105, 2.3414827747115665], [3.577018513597974, 2.8739192977416854], [4.011028312887801, 3.5136325200765697], [4.2702645109359105, 4.407605738948846], [2.0320603584892982, 2.6488456365167456], [4.5866628172042265, 2.0092678566657876], [4.211946142525731, 2.6139540323681327], [4.150594352845029, 2.5445947449942743], [2.8647832301408243, 4.6579367186077185], [4.675289688426593, 3.015548198944436], [5.752097361313785, 5.05234406268148], [4.923570376203322, 4.088977763654013], [2.396634031327217, 4.298064150543158], [4.094463591053554, 3.095354391130596], [3.9340835462293877, 2.976031906265891], [4.669348090916202, 2.255338370800179], [4.484867649523445, 3.206770812265428], [3.8388870641896102, 6.040936588321742], [5.369612704914596, 3.9305904033927175], [3.393091754814641, 3.5024808463125083], [3.499266376010731, 5.942698411961263], [4.030413889714428, 2.670503675505382], [2.635388216885395, 3.4914350239291516], [4.555261176465528, 3.9294285713917128], [4.7192127201408605, 1.4007220378330794], [5.871896040909658, 5.2594558612776385], [4.057979024030796, 3.996525763309196], [1.4824544466718708, 4.562635944121767], [4.499787874628866, 4.257906512748659], [3.577803092676131, 4.52821388539574], [2.6830594013919575, 1.8099216647214766], [4.687623812807585, 5.131607665829899], [4.021493338676543, 3.996643600735876], [4.842004458876072, 3.2616320097924327], [3.373544602061104, 3.588491170616898], [3.192910744951235, 2.061263552627474], [4.446836551868341, 2.9475343028401575], [4.786156016598041, 4.801953170216314], [4.875333195073908, 4.20981759118885], [5.122921105024226, 4.080983283451683], [4.5164020913440215, 4.686131438105153], [5.235172708181904, 2.30047511918821], [5.045663047911743, 4.271109885773983], [5.2868041447357275, 3.0462620498452586], [3.988087988072372, 3.8082411594853367], [3.9841165490064276, 4.916244823399889], [2.4284542946530534, 4.298402765736312], [4.599458069078861, 4.587149060922303], [3.396166109102256, 2.4726561755690284], [4.742445934244004, 3.3518523851618265], [4.580888864215157, 3.295299188417223], [4.295182136530367, 4.596809148219653], [4.1542128805877, 3.52707676554596], [2.5379038473706856, 3.4879350009841237], [2.998286576050421, 3.393004439414363], [3.593926263754841, 2.5789541425794527], [3.273841741560762, 2.5107456373464667], [4.058141616739378, 4.125514482325716], [3.4053566459458002, 3.8084090381805233], [4.112740602955745, 3.845715104769541], [2.9904600301923, 1.6826948374190862], [3.3225058639139777, 3.150307776804529], [5.06613432970789, 5.020425975577942], [4.374063936445427, 4.530607292555123], [4.017952184094437, 3.584367665376318], [5.532844175591213, 6.2996951247525015], [4.074469153351574, 2.0023824355918305], [6.032384069825089, 4.27756569547409], [3.0036945718684254, 3.2800068912265377], [5.309885344825925, 6.398977019998782], [4.508636995494267, 5.042344291190432], [3.6866104631290035, 2.1903694799210847], [3.767958181588737, 5.768789045992005], [2.483904292161009, 4.83858796429411], [4.596101086905877, 2.784084782057274], [3.3034016341423023, 3.865289114105282], [4.613230588222334, 5.16304793156308], [4.105993575916716, 4.353158833274348], [4.365124270828642, 3.827487103953576], [3.434088887203519, 3.68219086822489], [4.692734014578374, 4.217212369449619], [2.717360259661771, 3.5693913356423437], [6.438749184273236, 4.69999746855726], [4.563106930943129, 4.831844152203934], [4.236401852887012, 3.2162716048781066], [4.001949270882516, 3.53274281927345], [3.5217288653692718, 3.8224309459606847], [3.125366749600658, 4.314439725631857], [4.730692826364457, 3.2506685448610515], [2.378395493696263, 4.522986846045209], [3.9786778122495168, 5.412762135685124], [3.565723464482688, 3.5874667934139177], [4.82845157845008, 4.724669178080025], [5.251911547850933, 4.375624394305486], [3.5812767063205406, 3.4866202427376307], [4.006961298826111, 3.8668809912922084], [4.12469332343148, 5.245310311458767], [4.360425949656749, 5.424727193635535], [3.1769171654133714, 5.461174555413967], [4.5697799129485785, 4.528175017141662], [2.695974694918247, 3.079967632977323], [3.418652508339159, 2.5549961411595667], [4.375637355870756, 5.039441566271114], [4.55604997258466, 3.995482759185313], [5.518531827475455, 4.716893747102951], [3.6020941197308716, 4.72131541439405], [4.923162583262485, 3.213578833329436], [3.1992422886479286, 3.6005960370226067], [5.049696995785229, 4.304847941109289], [3.844291806345477, 1.8986489495979821], [2.5389121694458874, 5.308645902733224], [4.280553051397856, 5.558554947355391], [3.7607077868887218, 3.760897479554704], [3.0489666505128463, 3.18825052375822], [5.605905348545635, 3.6011954477692307], [4.234680915170133, 2.7852688357426736], [4.967266640698762, 3.813064410313245], [3.946601871030133, 3.8842375217089575], [2.677597990188297, 4.680426326032697], [3.407226510626295, 2.1934545061772375], [5.016030620395354, 3.7501062568964514], [2.627948652761222, 4.601987837475884], [3.144399083836875, 2.686254185456433], [1.3739349890290762, 3.1837858991201595], [2.2786492436848933, 4.04478550666922], [1.8894233827591846, 2.8248268498655644], [3.616078453969986, 3.2326657643372156], [3.4257516800958756, 3.4668100904812467], [4.117533113940889, 3.6084209145928288], [5.573140077882376, 3.374502862635568], [4.086398896870881, 4.20302698850634], [4.92608942590334, 5.739177035798129], [4.134041917616616, 4.03261190406086], [3.8642957717456765, 4.5970300764225325], [3.5143001204513773, 4.734499585389681], [4.086068064397413, 3.9546536374876364], [5.008134961591879, 3.818294354907366], [4.369791583328104, 2.997984541280694], [4.387794777242117, 5.17177836320451], [3.4324451937785634, 3.834227726405431], [4.6285657168530845, 4.049756168552649], [1.842039586667656, 4.126552914856488], [4.445018315329092, 3.7356954520611123], [3.571362966122354, 4.842275191145895], [2.483543023112607, 3.3114024753366245], [5.8679813581424956, 4.290959625248701], [3.9466714436733468, 4.7832496238457765], [1.7594021306058236, 4.239086869043726], [4.698092465970479, 4.283304024659883], [3.9384806518237676, 4.8595602462226495], [5.309431199541995, 4.063821045893182], [2.81715341849874, 5.256353382191566], [5.007364796461198, 3.3462801304157455], [4.543556166775441, 2.89450243390693], [5.238296277105828, 4.923448615099977], [4.661989377514605, 3.586606172370354], [1.6466690854888615, 2.8129185332915965], [3.4498943232301027, 5.008694291551313], [3.3979199408367036, 4.955419270404111], [1.9749752452516232, 4.967063253176333], [3.342364206888, 3.248286792776742], [3.216821733547003, 3.3141410593291445], [3.45161686924403, 4.917519047906398], [5.122731198940323, 3.288620927747075], [4.145406028865162, 5.28319591352071], [6.717233850189246, 5.512687656968948], [3.7380411559834683, 5.957383967739316], [2.2484986041102104, 2.7949897054592006], [4.953398005486753, 2.4557276009576374], [4.191580299592503, 4.637042275297122], [5.047243835120263, 4.892159545510675], [3.020638190895292, 2.9737908794516885], [3.064256252088245, 3.475258698934973], [5.435283228834548, 4.296164648955813], [3.4579072462489915, 4.6579681275292675], [3.348074816637986, 5.858957265938788], [2.9846214453532296, 2.7775820855687336], [5.213059782025097, 4.362817592266879], [2.677767170853496, 5.707140064957005], [2.577001935048541, 3.972050095389169], [4.2041288832240955, 5.385809729737662], [5.966987053071421, 4.8369622648165125], [5.076673900223981, 5.458619579400865], [5.071557574691244, 4.034514758408571], [2.731533518949306, 3.891865649463516], [6.105710108497455, 4.790375460053084], [3.3209817054469815, 4.978882527785763], [2.927788817345797, 5.417642766640924], [4.503459809212554, 2.812863173840023], [3.96715794564456, 6.040637088400806], [3.6653154804617, 4.636881767448671], [3.206145833217347, 3.2137948959766622], [2.978297918017943, 3.3509094032968694], [4.8504140163105385, 2.9374694950034232], [3.812296388272271, 3.625813155865284], [3.99396506759861, 4.377726461845338], [4.729064085170678, 4.492551314177193], [5.157576657481279, 5.2879056727882645], [2.6616198200984895, 3.681610616248236], [4.1713882485958464, 4.444328423309847], [5.129059232345778, 5.208710478916335], [3.0156961708983268, 3.052546080947651], [4.317690153383389, 4.758619315453383], [3.616041598551129, 4.12570638398523], [4.299939460424563, 3.391405331987863], [5.279052257316941, 4.2513457893299424], [2.7113359977859766, 2.6824665636120573], [4.3675283170515256, 1.4878256504709837], [2.3098073892440247, 3.2904740423581376], [4.689236860642326, 4.469599548881808], [2.0456601672230876, 5.4398835476291225], [2.7264485743974527, 3.6089293159264333], [3.4907737415334474, 4.998000454764371], [5.882991610191186, 3.4857874820965495], [4.308467372868901, 4.081623825524526], [3.6398344599555794, 3.4034268246367145], [4.088355871810812, 3.6908239806181995], [4.854354398030199, 4.650853455707122], [2.738857867182565, 5.010851120529018], [4.821328166715366, 4.742026292177739], [3.165902921422436, 3.229403619155622], [3.2851061478184707, 4.164322389937166], [3.444243905672635, 1.850120504382192], [5.545680003722014, 4.524894911908273], [4.103623704627473, 3.882820610434382], [4.123505652213787, 5.155045818362075], [2.7769995531702314, 2.3263952553794383], [4.036678691293381, 2.5071862285762965], [3.6047669316796687, 2.1307107234856253], [3.0297921722009864, 4.557962506509526], [3.8183255123637565, 4.849233533197656], [4.018381473992479, 2.611954771935304], [3.902879741091491, 1.950148015901744], [5.217693992575912, 3.617341384311639], [2.985864976162612, 3.9930425915305525], [6.106287315451337, 4.362244222777781], [4.965658706669114, 4.2145706136446], [4.4424947348560675, 2.9342642619822366], [3.8596541473830976, 4.786516217849821], [2.0480587531421377, 3.7429892767083066], [4.390518586804596, 4.521134675820704], [5.465248541612089, 4.45170710466888], [4.963665295375501, 2.826138044738695], [3.999928017506994, 4.744947395459802], [4.747994327149627, 4.517105446661202], [4.506393749110265, 2.8879401561713602], [3.814491688706038, 3.7072355394625673], [4.136906490778289, 4.992899271335919], [3.992343280058029, 4.845178365670556], [5.685268972042714, 3.3336507262323076], [4.9034815435475405, 2.966034675031791], [4.9040310986770885, 2.713563579181262], [5.5708322901248035, 3.369524540214523], [4.2976230114651495, 5.4497982790979975], [4.9808604310107025, 3.571026460223707], [6.510973728173458, 4.762336048234795], [5.1691732650657425, 3.686983990078958], [4.938212354679162, 4.219416427403891], [4.121745703732698, 4.233396452080113], [5.073009428885487, 4.258309781142909], [2.7967688704612437, 2.236492655527028], [4.2205188201721615, 3.1000318566103817], [6.044276511427949, 1.8431626141703839], [3.458246291409298, 4.6058099079809525], [2.5660828748323077, 4.427543981196564], [3.5230385045132224, 4.747937661852177], [5.20363095054473, 4.304708878545691], [3.775306078897361, 4.043548795111854], [2.12645343272847, 2.3984992643437755], [3.564551960280649, 3.9954108979267113], [5.623656599473152, 5.83380073690121], [4.786476782237976, 2.9532186316631424], [4.693240420534661, 3.4347158084834613], [4.287405681045089, 4.534248890193091], [4.531392817943009, 2.579323691717951], [4.005429772395561, 3.3805911335537053], [5.75696263058288, 3.231375012876633], [5.410874976048123, 4.368598451654461], [5.518182688406023, 4.824465009076924], [3.7753673946877977, 5.613600593771715], [2.868465579253958, 3.9034217702142273], [5.3044142810185, 1.8761223554038033], [4.751509588468808, 2.6288655344978644], [3.440336111172119, 4.308158019979462], [4.034593819931923, 5.0745975782397075], [4.50067936744343, 1.2259644988862104], [5.075451398763849, 2.298681655819426], [2.402935892161291, 2.7869739378474305], [5.9329616498258355, 5.832443654466649], [4.737554031809099, 2.163705612697929], [2.9881766771994727, 4.195619530492178], [3.058769478515491, 5.068656506677771], [3.506532058972776, 4.778927953180812], [4.864497425138296, 4.233304195588283], [4.113816090186562, 2.6217311191291306], [3.201179060612488, 3.1471353119462115], [3.307737006621473, 4.001307191542764], [2.1688310657246497, 3.1757754013266237], [4.113825303959138, 3.2973955081608444], [3.6800481517010533, 5.712062724953522], [2.684112589282996, 3.256885269138654], [3.8630002722074703, 3.7922673761547157], [2.434525518775308, 4.467708768267986], [4.107675494778064, 3.8498117343870066], [3.789744655145088, 4.80508396096344], [3.043549591109967, 5.9965687479152985], [3.9247357741517126, 5.021639731403681], [4.214639272837893, 5.1602150280186105], [3.111320427868399, 4.6496988504356755], [7.050908601263038, 3.4403354989693677], [3.2944262331979726, 2.754727436515951], [4.8100136542720895, 3.4362741786521322], [4.600087391574627, 4.031573694444845], [2.7824906317762297, 3.3452937407876226], [5.834200907550646, 5.438877305548119], [4.279895911887102, 5.015707181496223], [3.2608219433331533, 3.709131815331821], [4.303985610243934, 1.6424999400070264], [5.140281124530326, 5.677202442862281], [5.007907719690439, 3.7114526289361267], [5.229534369658016, 4.187742949027369], [4.110994386677472, 5.084888342765915], [5.170211774830468, 3.2993369154018986], [4.428534799809606, 4.687865224713859], [2.103640676847247, 5.420232513095099], [3.3253144269166492, 3.6011937169743113], [3.2596729883729987, 3.8513260367324182], [4.325781204716199, 4.098741401050837], [3.7579245957311516, 4.381987219306129], [2.4587267077565444, 3.8464154655973886], [3.218962216435332, 2.6807455829557547], [4.0219302838801845, 4.9841265938022365], [3.1805398647096585, 3.5737208638362628], [4.918024341832738, 5.643903500493235], [4.415537465491081, 4.579558407472602], [4.997226934788936, 3.1344728427283313], [2.8555348004871455, 4.579293640416348], [3.774436084163253, 3.1366487830829346], [3.5362904934510024, 4.474689723676593], [3.229376397948509, 3.7120967707889596], [3.8252616166819475, 3.3805739215915214], [3.6674299967399193, 2.7662177856392436], [4.013723386107539, 3.0438455692605393]], \"data03\": [[0.7716173835125448, 0.9301075268817204, 0.8508064516129032], [0.8217965949820789, 0.9301075268817204, 0.8508064516129032]], \"data01\": [[1.1982052032919634, 0.9940094176543155], [0.37904282765487274, 1.4575986285805411], [1.090233581871501, 0.9520409968900595], [0.3867875326928235, 1.4437328769158584], [1.7238202615246412, 0.7279399044773045], [0.24474452747052255, 1.8114536998699462], [2.5581981862362877, -0.6514175067108274], [2.544818463200819, 0.014815969300424836], [0.3896262681549483, 1.9849962068522782], [1.2665348742992897, 1.2818297863977175], [1.7241892871780762, 0.3830971244441388], [2.3444781638499146, -0.2694400534533459], [0.7391837273490868, 1.0725445388546127], [0.4117316594850413, 2.4215440675058906], [0.4400094008398816, 1.346640839372674], [0.30385295762275044, 2.056928784764997], [2.610327141784265, -0.670899695740452], [-0.33728869817909324, 1.9596497174638121], [-0.23826548094138666, 1.7468657367900127], [0.7817768337733357, 0.6304690052681042], [1.3083128288572117, -0.013864080415692426], [0.9858859865807453, 1.292482247003311], [1.2980529148481796, 0.7252064420936235], [0.8148068947857612, 1.9504785788255783], [0.15242114390715256, 1.5407815830972968], [0.8496331220252746, 1.2610914782916345], [0.6185405220253903, 1.5194299642251181], [1.9939531341987573, 0.04758268657858589], [0.7465872088802508, 1.7646994969092926], [0.654245466373402, 1.0843607979628493], [0.13648174174442684, 1.521398416660478], [1.7017589599216225, 0.07594609389286744], [1.2379253367548622, 0.8097157689907167], [1.4090303777724178, -0.2742218104111527], [1.1512221103947653, 0.7743072871058065], [1.0882159731138978, 1.1125558570540008], [0.7887566022564426, 1.3658342811441773], [1.5450015891585933, 0.7976563102716848], [0.9317289339178405, 0.8282325401263855], [0.641507190485582, 1.0286193034272235], [0.42503950447477146, 1.8093944437495288], [2.107608769526184, 0.0829850150345669], [1.362423022625254, 0.02477314442320333], [2.2416735396300043, -0.06903281811328821], [1.3549767191805215, 0.16787777505648516], [1.3450194952559638, -0.04369065989387311], [0.873803061295803, 1.2454981977202557], [1.708287095563326, 0.6011438965367165], [1.4505078349465208, 0.8808301634589384], [0.2729566592910194, 1.4913335162972723], [1.1992181792886978, 1.0780640904382344], [0.69819570041193, 1.0912241656081185], [1.2517911380867972, 0.8738524379286469], [1.5352340311552173, 0.3265725002143385], [1.2798905930757605, 0.83169562217862], [1.2141501956095984, 0.6829606178430512], [1.074762407935883, 1.579725661664115], [1.0923007093035737, 1.1429775828443516], [0.10906823986790026, 2.3180344130510453], [-0.25602163450568804, 2.560560386613999], [1.2016251587072766, 0.8750873136044743], [0.263814351486656, 2.082673727917997], [1.8764871025691532, 0.5895153201138855], [2.191871093430812, 0.35277116942488795], [-0.10627506688473698, 1.9753632463808577], [0.8803711492990753, 1.522628479649441], [0.7499063842145868, 1.328000929201405], [1.8774398680408289, 0.43444529442617763], [1.326712064081865, 0.775220525245824], [0.9241866699832944, 1.255997596491123], [0.32605263819770014, 2.1932737562519504], [0.9564997468625607, 1.1277609000910487], [1.2292179970025343, 0.5571477951090125], [1.4016477547101203, 0.1779789637424687], [1.685429978435521, 0.6890401146560707], [0.8646570951191348, 1.4492470687240082], [0.37716973504436724, 1.5673009229143176], [-0.3731783960018824, 2.34011702546119], [1.9256778761309001, 0.042085041968543346], [1.289394921997157, 0.5978960622009694], [0.5326797729660337, 1.1634583059643582], [1.1031722964224964, 0.9823521813942101], [-0.30217928257794546, 2.2354645121153656], [1.2915696524745002, 0.44558833823603805], [0.5800964527485892, 1.5394447488352219], [1.4181492538737661, 0.7331838454786126], [1.3695211662043263, 0.3984140945633923], [0.1401492703005881, 1.4193167397663191], [2.215476544028071, -0.22150119694259418], [0.7588816483066844, 1.4508442270313804], [1.2410577141074215, 0.6349390656221396], [0.8595559554823555, 1.093513031292674], [1.601122349297365, 0.310407674765517], [1.7988294986596234, 0.17699725444410885], [1.528440500670753, 0.7454179477601335], [1.413877482644743, 0.31950832813407093], [-0.12588407535276036, 2.0978295374279643], [0.054190231531694666, 1.4578698529523564], [0.5106171680386512, 1.4843405815345116], [0.8412698377506711, 0.9025233586404139], [3.2063350164588926, -0.7015948802159762], [0.1062533003009436, 1.745669719501248], [2.137951469653128, 0.04398354271704874], [0.26846496077981985, 1.7240737667301387], [0.723141238811195, 0.9709165066256087], [0.49814370164329425, 1.4426068025581702], [0.4900566974212095, 1.5112133411862576], [0.8363834213128942, 1.0909005673572953], [0.9098734214756876, 0.9614714950081109], [1.3119781980548135, 0.56603047414991], [1.3442215933763584, 0.5530733437773073], [1.7873921367635217, 0.16679294727832517], [1.0644843585953414, 1.3086207564930112], [0.7758590583587499, 1.0139925440865674], [0.8252346821355863, 0.8582247279387416], [1.2248891556342039, 0.576599002624012], [1.513230180079198, 0.7731611904193967], [1.4860105418362535, 0.4946181471945259], [0.680253293242476, 1.7340780748921634], [2.184285598832351, 0.03777086149647002], [0.7690878946762505, 1.175198933525409], [1.24121297738817, 0.8252614950265567], [1.674029776018227, 0.2856047386415381], [0.444257434516679, 2.0884774567050925], [1.8000857866608553, -0.21000506497228066], [1.8068636601628147, 0.060349796057941996], [0.24464646819278535, 1.9132288813088525], [1.0901317187478203, 0.9805381329501294], [0.9419446802633827, 0.9293264768958553], [0.08450821615768, 1.5043867951658147], [1.6534162625012057, 0.64771816455599], [0.3811108846665482, 1.2222374848277215], [0.5032327367355137, 1.0632103445718761], [1.4587273063073085, 0.3811897376596487], [1.6905408788244332, 0.42442308702984566], [0.6180664082510837, 1.4219232444393861], [0.8656604093963123, 1.3573142008763892], [1.3588767094614171, 0.7013132235272785], [0.8640871866827224, 1.4384584431445688], [1.7801639020629196, 0.7758811165089934], [1.6068013213694226, 0.251749698265301], [0.9962075222002711, 1.4438225732993826], [1.9463681540604103, 0.43032602201580616], [1.0523708026737597, 1.2106974579938112], [0.8812476263713663, 1.5502354824661075], [1.8089916964858586, 0.1807938704052432], [1.09244783736227, 0.8981343915238342], [0.27650937331596315, 1.8634860959234225], [1.0679925409530562, 0.6370679042564344], [2.2128571895965132, -0.08314126625802731], [0.6089234096467389, 1.692935566222614], [1.4873145963071517, 0.24681413384717377], [1.848805762858306, 0.4671706747581176], [1.484230774077206, 0.8917806612368728], [1.5320000400323446, 0.2567366203819422], [0.7109933033737772, 1.057862389993978], [1.9230373594665187, 0.5281314035213327], [1.9616322856226707, 0.2534358133474993], [-0.2904256811146022, 2.6781368626832993], [1.8754630788956974, 0.09707261555167246], [0.5995150854031837, 1.3400020433452395], [1.168601781253172, 0.5523129151465109], [2.3689050897956485, -0.36762233196850813], [1.4891433211551757, 1.2373541145384626], [1.663598472433341, 0.5280989338080548], [1.0560062604101599, 0.6961880454600703], [1.2990233374563918, 0.5428831172981101], [1.0434081255532774, 1.146823467105848], [0.9806598335266772, 1.2018368734440734], [0.9988716469674976, 0.33492794286580096], [1.0809137879322568, 0.9863512232570697], [0.70040583901443, 1.5026197763149376], [1.1155388650905176, 1.1058562170653135], [1.8290126283586736, 0.04749591737836423], [1.64287907849345, 0.29975930777510973], [1.0982540675143977, 1.0578885567561096], [0.7381094771498947, 1.73299490677738], [0.8826768978497336, 1.3914552266184654], [1.2992825334254416, 0.4645892115405059], [1.838580079565145, 0.13852218729497345], [0.8089825527559662, 0.9915323933266442], [0.5069310298381202, 1.149162273891035], [1.2149291420120965, 0.6659787318210962], [1.494441664369492, 0.4617955411145269], [0.9379553649632965, 1.3222576021761807], [1.64838846299252, 0.12299289621588005], [1.7088154900408528, 0.6192033630036394], [0.7745302001623001, 1.0336031418176073], [0.8929203743456351, 1.1956297542889196], [2.1464203448352626, -0.01993188079925523], [1.6434580865804578, 0.03944148884623344], [1.3848933651502504, 0.45189287035045844], [0.5641027089535806, 1.6720047154814228], [1.1942182955522052, 0.29739786817763836], [-0.22818408700786508, 1.8893459336679843], [1.0895935067510423, 0.8760363801913261], [2.680480712543151, -0.18121038566214254], [1.164606690955775, 0.30840014252585535], [1.245214840923138, 0.5618567396171978], [0.5482395854675876, 1.23325982140085], [1.3267340927604985, 0.7606085616870983], [0.4472185147325166, 1.1594163642546023], [-0.21821542130942295, 2.1087909338662856], [0.7356635582817802, 0.9739461830656131], [0.7373946707558868, 1.5142114362624501], [0.8165919779958615, 0.9569957869293272], [1.370419698434656, 0.5466949933676277], [1.402763018932625, 0.36040246022271893], [2.032565232943892, 0.34501719509059703], [-0.038206210800303175, 1.640535089537062], [1.8975340939559155, 0.1927805327357397], [1.0938891404003872, 1.0347231234181344], [0.5678902083649097, 1.1479264016805824], [1.2169687821783912, 0.8946174596467229], [-0.08815215619788663, 2.118559005033533], [2.1406784482606884, 0.18064845303936905], [0.5778307338603373, 1.8364326596620737], [1.7265628677427525, 0.19260772989983543], [1.1074546963249254, 0.6095476471905812], [0.691349909939386, 1.1019720289248545], [1.151585912571286, 1.3028060082535], [0.7443198569260492, 0.8720660904906279], [2.3154016498801537, 0.33600665499898685], [2.5768954696888673, -0.10363330658049552], [0.853689095821213, 1.3009059980081994], [0.6647062320131947, 1.3963962233333953], [0.3438852502831974, 1.2143821739937788], [1.522423638409911, 0.4435136144823931], [0.023977444783291224, 2.151121338193306], [1.5532669575912075, 0.5524456833700409], [0.5954869080034129, 0.6381504438765107], [0.7304897105432221, 1.516942557217039], [-0.15169506018483525, 2.440881829910551], [1.1450525244679293, 0.6741628714132428], [1.1732369450597229, 0.9841249862911584], [-0.04365562652761645, 1.3585751713448846], [0.5430173712903587, 1.1004883517558288], [1.2296915311608272, 0.5658446286353399], [0.6566264821039076, 0.8531261726960659], [1.0641424774196788, 1.5007020462605203], [1.5077935881553723, 0.5586692058738928], [1.3402597795826123, 0.6590203340576227], [2.192930367749808, 0.32391697166387057], [0.39079863698160133, 1.7806844337921497], [0.46665597030103867, 1.0721610052357942], [0.8456133055782451, 0.8281509217304022], [1.1682568992560545, 1.0630133164343056], [0.1768390220816375, 1.858930345497253], [0.25870971043956925, 1.5052426042568674], [0.4172478701809871, 1.671096688515462], [0.713844179078323, 1.0166582262944557], [0.4237001179991835, 1.901615412798026], [1.236316626821468, 1.083097419231954], [-0.2538785618048991, 2.103969094919445], [-0.2886551367668968, 2.4287866786604053], [0.679075342904318, 1.174198834495848], [1.084271529129065, 1.0629162748626955], [0.4938683192599175, 1.3687752746320705], [1.3763776503811016, 0.33303881362789933], [0.4204951699631071, 1.3614223329438886], [0.5862524375559712, 1.5278377843970263], [0.18239386712439176, 1.579518976024084], [1.115403323626831, 0.7977734981426877], [1.1679095322481885, 0.859879873026164], [0.6094469120277346, 1.2335802673304888], [1.0465493391413934, 1.171460599443716], [0.8567862245373606, 0.902864910046407], [0.4402825798214306, 1.6220226166947378], [0.9118708725730462, 1.0609503537356688], [1.5245623186691826, -0.03190442615008182], [1.537589581443642, 0.8473066428152864], [2.2201647251847314, -0.294480851468337], [0.605688052648472, 1.00966733715904], [1.579514235991874, 0.4868493455447409], [1.5667754042452682, 0.5612847251655346], [1.2914379158329896, 1.3333286303678464], [1.5477575356529414, 0.47455402810106995], [0.552985978432293, 1.1353665843606833], [0.5150357761472368, 1.640249207304708], [2.011952771015654, -0.22099327777236222], [1.3737400074999822, 1.025907863762795], [0.47469668741168425, 1.6577593343058643], [1.8502185242598204, 0.3274016606496474], [0.10934927773456893, 1.8158286222471882], [2.6154113781289787, -0.24733233867242754], [0.1265877429472837, 1.9082795355004063], [1.2174118155037892, 0.5300594689984779], [0.870086680121325, 1.2317419737099171], [0.008397135316625337, 1.7927464459199842], [1.0836124257712814, 1.5105851694752892], [1.3510089865301547, 0.6278151603023299], [1.2390019147195823, 0.7321544278077929], [1.1402778951162322, 0.6725398010772313], [0.1346962598999336, 1.8235956602493486], [0.8161839662005818, 1.2586618222337211], [0.6443193311814222, 1.3570351542744208], [-0.50923347218451, 2.1501374338992116], [1.272550925025366, 0.4162240318123006], [0.835196756126124, 0.8719128910056395], [0.8546252193648189, 1.1468624993397647], [0.05866629568353687, 2.1659877761895276], [2.343973920250679, -0.7034870560731101], [1.170530856500707, 0.9753114545989221], [1.9019027242396649, 0.15813835937851273], [1.2149875138119894, 1.048597236011381], [0.2848446492531005, 1.5044119403379808], [1.7709276398115863, 0.6264335719829051], [2.007554410277747, 0.14395396662681859], [1.2655685208488787, 0.5477275987294793], [0.9768651936342696, 1.284230501129378], [0.6311224940981609, 1.062522845448792], [1.4564532088824027, 0.9807861226883289], [1.8487353269812943, 0.4563291952658013], [1.3699616317642853, 0.5038272430110589], [1.4356389599879065, 1.0078501141261953], [0.07180990687307975, 2.455026141924398], [0.22053468419002353, 1.7562445953967212], [1.1256697021769664, 0.8247833911926465], [0.927324926040269, 1.4285349167725798], [0.025970185452222294, 1.3551097891303912], [1.982756539332958, 0.33006529311634547], [2.011880187131422, 0.09944921190970457], [1.3600254148707143, 1.2311196760406984], [2.2009584739404837, 0.09014293344752256], [0.8958505129769068, 0.9987032596817697], [1.0848092122754571, 1.2036651621912875], [0.2989042792087485, 1.8204635691587452], [1.0984087293029627, 0.7563847864378702], [0.782602333127803, 1.9280086680151456], [0.3591225457691186, 1.0405741328287093], [0.5993212496302093, 1.2374023888057968], [1.285228144251758, 0.782697507806973], [2.028585615632692, -0.10780068569058887], [0.9045725244018541, 1.3631977512122169], [0.07200583650732839, 1.5012441955165192], [1.8041450594929909, 0.5271209897219336], [1.2158907350891672, 1.1583723177724745], [2.2567194547319733, -0.02494432270646252], [1.0178678057376014, 1.2588087346176269], [0.082273032439387, 1.8153847702642345], [0.8092186888123477, 1.1640144950870082], [0.9255115320581776, 0.7783483677221196], [1.8206051859895127, 0.3643205401213271], [1.8294528472416798, 0.26126464350234024], [1.0036958295295029, 1.0833804222973449], [1.1106774796391354, 0.009593107219309616], [0.6946963709015725, 1.5824189045193844], [0.8141528663076835, 1.494527650974713], [1.230949948376944, 0.19723092595248082], [2.5077202009864235, -0.4256861147513904], [1.8248969945149025, 0.3436244153177559], [1.9528688839448802, 0.1397417503057976], [0.9502766567017638, 0.7780907465167204], [0.6442201426090058, 1.4416278216690523], [1.7857114871068211, -0.0526344178322069], [0.8078177488631892, 1.2030228310162152], [1.8816552641192894, 0.1539714353746522], [0.12036874018900812, 1.2709340251850547], [1.296691826746911, 0.7879695440986707], [0.7796243958914129, 1.2977867827548342], [0.782552808764686, 1.243232523174893], [0.5953454223017545, 1.2371728276792289], [0.4924078276119265, 1.592053654966414], [1.6756870578498404, 0.44229194131046534], [0.8165101426545727, 1.003315068221107], [1.036859035064816, 1.176762287892994], [1.3273073227990801, 0.39067789857303215], [1.6441707442892488, 0.3839172098000805], [1.1644885825051277, 1.1953832599195964], [1.2498279348436556, 0.9936653143072502], [1.9402541233384722, 0.017528313441476318], [0.9269363947652345, 0.9586517521509615], [1.2664380531071897, 0.8308896111426282], [-0.4428100778692563, 2.387999725385453], [1.168930502277556, 0.9228689798465984], [1.778660908437353, 0.21220692826216725], [1.2619151322131288, 1.1221791300895392], [1.3307681446814645, 0.9146774092178385], [-0.7106713229227899, 2.0945590239920984], [0.7828970208650191, 1.1314889493451308], [1.0376597925676612, 0.6470748092294298], [1.0446372799755415, 0.9999376843733094], [1.1171081462394012, 0.7866676917559561], [0.1903319142815575, 1.3808217203325], [0.4314497322686278, 1.3806116186897484], [1.0512306587197375, 1.001367941930118], [1.376814387167828, 0.5823582893213369], [1.4776475131061522, 0.29606302754446256], [0.417270566717465, 1.5457044457514384], [0.7347937216369442, 1.4025754632458414], [0.6937862808228912, 1.5523268864357118], [1.2154432089950293, 0.4735906210870604], [-0.306367599717442, 2.5090074374056455], [0.37742493119423826, 1.6040381635896623], [0.4319204322088037, 0.9314459413686946], [-0.3014130437759326, 2.561984830729336], [1.008535004564788, 0.6819059486906422], [1.6551644965040064, 1.0033821139526868], [1.2463795671187319, 1.223717014507109], [0.42308968385005075, 1.4562903521620667], [0.9602483407320038, 1.1533270393216708], [0.18258757747757015, 1.7966318376320247], [2.1450334623003493, -0.11388229634984848], [0.8657801681678194, 0.9684364830088247], [0.06566365793652573, 1.6173865052194243], [1.73240339114981, 0.5225516920419123], [0.18067554349036374, 1.9947235249096835], [0.5542957202122918, 1.0256833073195324], [0.2752871870826372, 1.7636067002757445], [1.811586348099373, 0.2840877499061367], [0.7287827819487356, 0.9502469192706784], [1.465748625646743, 0.8762154796906256], [1.7855870308921498, 0.7590494809500191], [1.643355674488177, 0.43576619525523874], [0.7983019805937365, 1.151964518557384], [0.5481289695192982, 1.0638259522353088], [1.6744726768791547, 0.0023335214616131417], [0.3008952034866803, 2.321793580651131], [1.1217905360083174, 0.37163183977594505], [0.27058221918842496, 2.137389179840854], [1.2586279077620848, 0.9684005772025603], [0.8965632208315353, 1.2228283591717], [-0.10185712002206082, 1.362894413969174], [1.885951783623169, 0.020188069829541355], [1.3587181180787762, 0.6501043191656901], [1.0150555377322061, 0.5700311090728141], [0.8793595576823191, 0.9801908862124913], [0.8291631385360162, 1.2825993743965953], [1.3118742734819178, 0.4443677394586377], [1.913771998092754, -0.185074614722319], [0.6188877536232887, 1.401554300703706], [2.7712331072071863, -0.19304261197520178], [0.7385053712715088, 1.36731373352417], [0.6689244020145679, 0.6347121688380754], [0.9117683561288932, 1.0429302392308668], [-0.03980399921289424, 1.929535419994471], [0.6639497292378993, 1.2593460828572232], [1.964639121792525, 0.23484704231078846], [1.4127652758304232, 0.7311375841383185], [2.7073675004564093, -0.824027391811857], [1.2737524211754103, 0.2949264001806091], [1.9223383976460249, -0.12693022379872998], [1.1633316610665219, 0.8541917418788083], [1.0988685623625247, 1.0983930464111988], [0.9266849174489815, 0.9927129701651869], [0.781911524329659, 1.1172746317026259], [0.8101437617506831, 1.533300786248502], [1.5811094861081418, 0.5704710864136786], [1.4873483010053428, 0.8267949855499278], [0.8923118005604352, 0.6014846734256947], [1.1742750651151457, 0.7272903856138275], [1.5210252681329166, 0.6795223882241626], [0.13135553622274587, 2.4042468177385508], [1.316083568806547, 0.37422313680335373], [0.7319498219461489, 1.4435709570957935], [0.5199542536462609, 1.307245263202326], [0.7431810390498561, 0.9579154203259207], [1.992886382539485, -0.10110080854732928], [2.3949917522983055, -0.568243080548765], [1.358021079665145, 0.7237151398884967], [1.212568569883418, 0.6452424478654017], [-0.09640410551757528, 1.514750864663157], [2.4707198107703006, -0.5408161715399802], [1.3440791089044455, 0.7567308108095272], [0.667730794396649, 1.3827191215254686], [2.4290954476747277, -0.20739888075769075], [0.839065237092633, 1.17661225480917], [1.2183386302708497, 0.7883744337392138], [0.6107728982280857, 1.4957206928479514], [0.44621438958856896, 1.8684269588296876], [1.659728408689635, -0.055204647002992324], [0.3015541760135281, 1.6519416478268647], [2.0558076576596713, -0.27964644979993714], [0.8019758780931342, 1.395339154857954], [0.9334870758499851, 0.7393910652893736], [0.5299914858511825, 1.9819295492382754], [0.5799844132902615, 1.961194802652936], [0.6447264959902413, 0.9464388354863795], [1.9695853402363772, -0.2909276298742922], [1.1062856295366157, 1.4340884756878696], [1.2289094154343883, 0.733986730295294], [2.0239295115349454, -0.09338858151682494], [-0.0095835754287108, 1.967221129207173], [0.45655828254328934, 1.577830538675674], [-0.033030458318571654, 2.1877157241638536], [1.0579988596853938, 1.3332741741384968], [0.5874664417908585, 1.3393056696698435], [1.9276901508534219, 0.4732311051607079], [1.4058130402306466, 0.5624255567795924], [0.13340608189255865, 1.4231863924775563], [1.2036120053487913, 0.576757095156281], [1.3671984420450225, 1.0957618836640297], [3.0075711227264663, -0.8989120788668128], [0.95848788456183, 0.9081629801698718], [1.2321473630544906, 1.2191977075189762], [0.5298159237922835, 2.0238104142382833], [0.2215390664080764, 1.811295474662681], [1.325270557651029, 0.39905329523357347], [1.6871061466333432, 0.9196852600060381], [0.8711190881653718, 0.690110078290841], [1.3823786839489742, 0.3338074159387119], [1.5362579526943394, 0.7755913759076752], [0.4669448195321495, 1.0995037113344241], [1.635651727943206, 0.8006831272881254], [0.9595843673209461, 1.069637726141981], [0.7758912406076811, 0.9970621449270258], [1.1759516266087051, 0.6233848200629546], [0.3946134027677647, 1.9286904098953026], [-0.0859083339107336, 1.7616863902521345], [1.8761441394645373, -0.2284506843718721], [1.8020615048745348, 0.23292157014225556], [0.8412813981260399, 1.1555274135348812], [1.7279959888095926, 0.5651916991406296], [0.9064523277633773, 1.466674059236312], [-0.012526123369407838, 1.679830006924804], [1.1658311591502404, 0.5320347086989642], [1.4259034348113593, 0.46693298986416687], [0.635961487818367, 1.5268181145697315], [0.697278150161579, 0.8241297310566464], [1.886929084504293, 0.3027666720714022], [0.2552603201124475, 1.818787463132862], [1.326397622874359, 0.5300692886596876], [0.534188435419343, 2.17748665855346], [1.0385620360158392, 0.7853325335284069], [1.2330010425884816, 0.5617642025426919], [0.7175816754761306, 1.8860844709252038], [0.9623480853735986, 1.1358369191730393], [-0.08587352655717306, 1.6798438775796056], [0.9112676855855242, 0.49489470781873], [0.857258865971729, 0.2618951293493157], [1.6441050936216604, 0.5277381776561543], [1.8924281857687641, -0.019014291034319175], [1.015916286429831, 1.0869116521089506], [0.8725653998123907, 0.9959100602342084], [1.2537288981341228, 1.2971026586563978], [0.48859346623597777, 2.0001824010176437], [2.3167908625605715, -0.3077201613013416], [0.6932459827597918, 1.4083385131034487], [1.22867070689995, 0.19201793496275377], [0.6950457974037312, 1.3494364225034796], [0.30947267278487267, 1.440883420945863], [-0.20640308867153068, 1.8207696599324674], [0.4797228792985839, 1.602250071826291], [1.3087539862646385, 1.670621228107216], [2.1241794327943717, 0.10479265057245057], [0.7317527568176299, 1.192954294410354], [1.1162836131885827, 0.83335627735487], [-0.08270022729912996, 1.656769976068473], [2.3254757273796125, 0.1755027932674199], [0.1275800987209169, 1.2456362413658395], [1.4876966092335628, 0.3610468491578597], [0.6285919075296865, 1.1246905657975204], [0.19076382527970426, 1.8433920505958583], [1.1134208727531973, 0.9935755351978157], [2.8343942377549878, -0.5801509061112826], [1.7546484731031784, -0.04703597797198378], [-0.059323505315299174, 1.909781415213823], [1.660127412723624, 0.1290210204713491], [1.547507933461175, 0.5828254033747712], [2.138679125176081, 0.10799971254338891], [1.2275340171922524, 0.8155245659914806], [2.0700609783167354, 0.14141385059350797], [1.1644090243065108, 0.987849714625577], [1.0674925462565104, 1.1524987425796613], [2.2095094303307197, -0.15000952770191178], [0.5083000371232509, 1.1387318477260069], [1.6000457798694425, 0.4053910723091977], [1.592632309080471, 0.5653372310859399], [-0.012458944851200693, 1.5273869625503222], [0.32967893599157294, 2.0172795655220828], [1.5786144215626132, 0.5010591199288956], [1.6689927219506817, 0.44281926842172836], [0.20483130463904098, 1.327085520469335], [1.2166986144818435, 0.6915455964769627], [1.528092948830242, 0.49886329705797017], [1.7347740415502262, 0.6234548739510724], [0.664918996534309, 2.293950567542997], [1.0554106182561838, 0.5128102374825421], [1.2787241377208103, 0.5095546546349411], [0.685849405589829, 0.7835703573950774], [-0.38522300339684645, 2.1598719696209976], [1.4765910403649507, 0.5927096130713067], [0.7802543632217501, 0.8409697332955407], [1.3328059257946405, 0.7626686952206354], [-0.35002098029790196, 2.37303875786629], [1.9085077006340034, -0.054998180695226884], [1.136545434026849, 0.7689063798337452], [1.398177285891374, 0.9087919045181566], [1.279311250110587, 1.0505591063691533], [0.5789895770644403, 1.31586848023156], [1.420196164817283, 0.9420804649477446], [0.261665764621857, 1.6899656185769438], [1.303989625468682, 1.2246379966242809], [-0.6639334418737048, 2.279774019854592], [0.7809118802471908, 1.2952061970568385], [-0.6452615858957931, 2.7275467166143166], [0.6267422692620632, 0.6680468754596309], [0.5805126738185702, 1.422023810321705], [1.6852336875609497, 0.40433573899167696], [0.9452648147653828, 1.067047562094862], [0.9164067671250844, 0.9320780995001925], [1.8460496934630242, 0.4142998921513573], [0.11959928783296048, 1.9228113380815715], [1.3946490767089035, 0.5293064607094861], [1.3767210754546795, 0.803006409053567], [0.49607213831016506, 1.5510277123726648], [1.6529596672711344, 0.28987407680266797], [1.663563735964899, 0.24474155549119825], [0.5846898192497911, 1.4497303659853364], [1.2216271401158536, 1.3614355691519837], [0.8114297800563599, 1.301501198505966], [1.0621901566761913, 0.36321122761659197], [0.756151075210907, 1.1353504683069942], [0.9033548552160962, 1.4185548875889882], [-0.43112676367165115, 2.0479588047741744], [0.9557772318418379, 1.0445962467387049], [0.8308030302507137, 1.1992790714897195], [0.5104643094215604, 1.0064619880163714], [0.9929571859997581, 1.1870605426194962], [1.6582605516702102, 0.12501664116135802], [1.4286411793534224, 0.5790454057570977], [1.8346465967749086, 0.21007902679906953], [1.085257558125852, 0.9344383622345016], [0.566590086525419, 1.2420825630438412], [1.1509051741159284, 0.9181129736677747], [2.047412501485356, -0.05949748481714279], [2.21870493661216, -0.31513238810466926], [0.38142948934078513, 1.8586873867693101], [1.9929586755711461, -0.07139797983834417], [0.3996231408947697, 1.3858619097725857], [1.3367717294449764, 0.5990696088843088], [2.2563087055057434, -0.06325827579173215], [1.5592149888235012, -0.07607573970362003], [0.49604329737622155, 1.1155586540296236], [0.6805578788495825, 0.14144247459188253], [-0.04491531415842642, 1.772650769731426], [-0.33328085608088953, 2.477801196056388], [1.2772345433210655, 0.4442674166276913], [0.17409004986770882, 1.6079908067840742], [0.3768910379670405, 1.8568893323246622], [1.1042435958128072, 0.743375275360598], [1.9486590648129787, -0.13499109189877823], [1.8664999714931068, 0.4173541315758915], [2.5011094664029656, -0.14815374725417674], [1.4501902984820247, 0.32809784178793866], [0.7532401571416383, 0.8227781785920834], [0.3696568555147689, 1.6219588823455107], [1.2648983697336806, 0.8865753091267058], [2.115347474982188, -0.06539020421355701], [-0.22875282370238437, 2.0437733650072687], [0.6678991175844041, 1.339331217964991], [2.2553439422950317, -0.30988317426552037], [1.1432291987443473, 1.1642849621947609], [0.9124541210515863, 0.6817178281804144], [1.6592512549862697, 0.22783428493928592], [1.014922972024738, 0.30660286537593184], [1.0864061946600427, 0.7726976736292799], [0.40142284989286303, 2.042520457337514], [0.8314057888935724, 1.4247444546591255], [0.36616146923962034, 0.8712284651374378], [2.166339174242585, -0.09369539656598169], [0.4798689107847509, 1.7296288463618907], [0.2964980294493139, 1.9806542322466014], [0.7977294040050427, 1.2895596041445612], [1.3660367250003989, 0.3935941067778993], [0.8481563127246483, 1.3085035236417644], [1.5741328098187368, 0.6873904940767361], [2.4981447086489856, -0.21257857170177163], [0.5789253833074792, 1.752075575471859], [1.2405622070003552, 0.7090385993378835], [1.2238496312656744, 0.8630478543422153], [0.4966249239139189, 1.8290824836329032], [1.1036578738353182, 1.581078420617644], [0.592986684793364, 1.2009820991672226], [-0.08794979438201089, 2.2720332974839708], [1.4731493692000117, 0.8600144405597374], [1.8135459415449966, -0.21832757932014024], [-0.08192255502463164, 1.5942282967022594], [0.789971070652076, 1.3516427392520174], [1.4815387447877684, 0.5654034458453245], [0.994714132696602, 0.9130212644918329], [1.0253745376405565, 1.1104148116382375], [0.41109898055237837, 1.3972351956558728], [1.1531897497300037, 0.6369508383830375], [0.4285812097133349, 1.419582472016097], [0.735518400537976, 1.0202896012328142], [1.117519053704606, 1.004441376774078], [0.6560291742545522, 0.5743282930978735], [1.4329129846658026, 0.7803283517717574], [0.6726416808646258, 1.5931549680610464], [-0.3550180545013739, 2.448552281246925], [1.1351948002660395, 0.3959357052015742], [1.1145922118661344, 0.8853963715704655], [1.3074860754951394, 0.8593922859814513], [1.8362638403339784, 0.12258465001156749], [0.979513839782911, 1.8614977892676494], [1.0551957153130163, 0.8639312985210765], [0.7516595618014099, 1.2348826619394433], [1.1117214959085795, 1.2652144631620101], [0.9463226472569952, 1.4470921353832233], [1.862823788985327, 0.26159237544606073], [0.020914740117468966, 1.6258273962789842], [0.9624453099508489, 0.9660088997091281], [-0.47426095284380243, 2.4320264197603967], [-0.05951872179685691, 1.4321772211161532], [0.5184012841338496, 1.6160930277355074], [1.7271346185681145, 0.38903413559665145], [1.0887435079835077, 0.1119515149929986], [0.3285273912773379, 1.3147968364390583], [0.9262367292399701, 1.0019415722140461], [0.5396572119970857, 1.1286226279676401], [-0.06866281595250578, 2.719306480647079], [0.4049790110130078, 1.708950230695659], [0.1756780034132125, 1.7787719205497967], [0.8671295546152799, 1.1601336795421031], [1.3673494037651377, 0.7556499693882599], [0.4983420278500553, 1.6376089338134023], [1.8510258134137465, -0.2793264238030959], [0.874839499680828, 1.1365125369107925], [2.5516449317317984, -0.3834574591047768], [0.7578602475744227, 0.9647935590505735], [1.8723774220310532, 0.3811158739246039], [0.22283001339597763, 2.0186351414694657], [-0.11911864368932767, 2.1035651318432445], [1.7960813593543599, 0.22955500266718154], [1.5953391896275733, 1.0357770060345441], [0.7327812382425427, 1.3922013954352122], [2.267195744746981, -0.592242159173884], [0.41924616315997654, 1.5238233817043279], [1.2985908004399216, 0.4004806256953197], [0.6054563726596784, 1.1118084521919127], [0.254425188817872, 1.7605588851851275], [2.0659126523945517, 0.18182165573423803], [1.0629321710642785, 1.152449558383036], [0.7436767316307822, 1.1555741892282312], [0.9562641237140433, 1.098813408023567], [0.28359402405526346, 1.649634133488825], [0.9497701669206651, 0.9697357584070251], [0.8801025179849576, 0.8838068632645816], [1.029660979782961, 1.3258139364026378], [1.9775872600962696, -0.07408887658970631], [1.9586053962591592, -0.11703549625594611], [0.6064887267351505, 1.2969776640189887], [0.5407108574213282, 1.0870435629937099], [1.8550240283746442, 0.3032366550059338], [0.1670436382531989, 2.0165295478203795], [1.3834187212785483, 0.3540263621943145], [1.3115771898517428, 0.8366399778767379], [0.9399671889555481, 1.1976301498957431], [1.8648015271920806, 0.44349014298878875], [0.8755075414044255, 0.6623788051378403], [1.2413848221531294, 0.5738711962637543], [0.2639014435371959, 1.831631094485084], [1.159981249918737, 0.783094842803995], [1.2449427060864082, 0.40048953252173614], [-0.2310633736877823, 1.9126729161178222], [0.42588934993302474, 1.8554073284571178], [1.3636527535952334, 1.0651494907433698], [1.6998034016296717, 0.13792974974719008], [1.2539545454124437, 1.4671456424124576], [1.352543617655346, 0.859417492124438], [1.2746049480232262, 0.727906732000577], [0.10244231066797471, 1.2720457485796781], [-0.20336533730003548, 2.493798640665621], [-0.3294490293148229, 2.0681730686187874], [1.009840994904568, 0.9717569008923435], [1.5024059823039542, 0.40457167767902225], [-0.10329632152126256, 2.1116176708474885], [0.4183316122894343, 2.0422834901589413], [1.89164461866571, -0.04722278674761293], [0.9624048396010105, 1.5181082364657328], [0.8986987607457242, 0.8323690490704776], [0.9615482417701157, 0.29416221318811275], [1.812986077250387, 0.09903786437720297], [-0.35341615675699845, 1.9983025018430534], [0.8154568538498779, 0.5387017661590184], [1.3616365711286345, 1.2035494757836669], [2.0309318576366433, 0.008692000592003812], [0.291385364726773, 1.6322896700687808], [2.3645796286786247, -0.004190459896642906], [1.0635557049072253, 0.9937409243727909], [0.8530791099839428, 1.1797173791817], [1.0773958359062932, 1.026880561572203], [0.6691756516138657, 1.0087636772983832], [0.8231513209273803, 1.502372530928743], [1.3268878971683813, 0.6774601147643391], [2.7296096096557454, -0.28004717551350033], [1.3811463263989068, 0.6148183596783714], [1.066639355545041, 1.0501103983855407], [1.3632245623189534, 0.5927351566534721], [1.2276804050616332, 0.401748076408604], [0.7172092084605285, 1.282437825939688], [1.3987542844787253, 0.619495632388674], [0.3939283823671984, 1.9989291487611907], [0.7212043395133261, 0.9885827450187891], [0.65331752725751, 1.4452007122937809], [0.7839013250914646, 0.8095800493463072], [1.743603798642733, -0.05916403207905674], [-0.14180462357736512, 1.8192223818557005], [0.8143507047368183, 1.4158364052749737], [0.7203572599984585, 1.054059207354003], [1.5244353652149902, 0.6217290339768785], [0.43628292773095145, 0.9761743867567987], [1.737110596477169, 0.3343916569131925], [0.5383972201306799, 1.7542393460610772], [0.42813178210787206, 1.8403738646652512], [1.7122261424314846, 0.9080549010066092], [1.1403327102840406, 0.6819249216667089], [1.0185307110919954, 1.0631710603160256], [1.3371661726096482, 1.109448891248597], [0.4306932179859114, 1.8302517159131444], [0.8690600769700325, 1.5651617907153146], [1.5848624355150367, 0.3884268713173332], [0.8447936199373487, 0.9254793402512346], [0.6420963874734593, 1.3778089214866087], [1.228241501495054, 1.0870668327797388], [2.082165785511214, -0.330275708337447], [0.46553167020297836, 1.1719927073204022], [0.34972612709078177, 1.5434723979068763], [1.7392288689947282, 0.09847008768589216], [0.7248221170088841, 1.5554148295387829], [0.39367082922100494, 1.3253902622855045], [-0.90235900396115, 2.3559104894003617], [1.0582707444788102, 0.9158309391316937], [1.8132911253487292, -0.0008713793128483083], [1.412250356890186, 0.6703620428864365], [0.7754185474037327, 1.1831113523156347], [1.0869345589300183, 1.1302127007259417], [1.6692522622449983, 0.21217468476068502], [-0.5002519418955138, 2.4422179945129994], [0.937148020326855, 0.9907373965039445], [1.1756660093033973, 0.9573224492891034], [1.3864637092640932, 0.968817539850657], [-0.4431883927392495, 2.5212169948041616], [0.9960045954844622, 1.190746283930333], [0.42285402637694536, 1.7880881283358787], [-0.7821800749370194, 3.2728084478296138], [1.357330100059404, 0.9665719313515541], [1.6062023560639345, -0.007599744720098167], [2.139998489900293, 0.27668577613597956], [1.4302774143927233, 0.7299495771797955], [0.4352155343006493, 1.3410512682981268], [0.41732833273213343, 1.215327870161371], [0.09444052356821064, 1.981897681702577], [1.1442631212357621, 1.7408484429492266], [0.24802417225521445, 2.1296480282493357], [0.6944073702290607, 1.2318565929710583], [1.3612588901560339, 0.9688314227227555], [-0.23135929880738382, 2.2998032348892767], [0.7869078028601042, 1.1706502932307736], [0.20654138768978758, 1.355143954678331], [1.5307670364615804, 0.5541580529276866], [2.026361461102984, 0.3997442882331672], [0.8991398916194319, 1.3359808103529671], [0.21948757541047859, 1.4626781257924968], [0.48250111765797954, 1.799879372832415], [2.179631433519358, 0.17294381973391804], [0.4523331878266543, 1.402076809473506], [1.543095003418656, 1.2022504455906406], [1.756005579286922, 0.6412683017424746], [1.2980757382422958, 0.6223332307843603], [-0.3862374251983929, 1.9930331216850816], [1.232893629270726, 0.7490507737423103], [1.4345577972621681, 0.869222088911768], [0.6590835709333993, 1.711453418759231], [0.2361577161704589, 1.567704748929387], [2.3790028140241546, -0.561725021639498], [1.0302483098302773, 1.0731058943524647], [0.43594688618696353, 0.884975420693774], [1.6880178760971323, -0.04151541711369666], [0.969397114471858, 0.7021734752843816], [1.117082841489993, 1.2073735679415258], [1.6861519307263322, 0.9029579466664369], [0.5696007548396921, 1.4290519466387592], [1.3895522706025434, 1.197311264403381], [0.5829450296306615, 1.111259490543454], [1.0169031738494532, 1.4549848710661348], [0.8920817198404377, 1.0514336515739542], [1.5513677714173832, 0.5072444849640225], [1.466556841690978, 0.864373704683219], [0.19918120106260462, 1.7764893295130113], [-0.142582325199212, 2.101543706534318], [1.3150400706433953, 0.8230360422950532], [-0.0394992897209796, 2.0716593875139733], [1.1755966454865352, 1.045622292803726], [1.6994007500354813, 0.3878473930138506], [1.3929280856943445, 0.44160642794997507], [1.9904153291984052, -0.0185213710183334], [1.0120254203215076, 1.38028189077325], [1.9298898601572296, 0.06917476027664926], [0.677277967034746, 1.276099847368486], [0.25816568042172516, 1.4320890355273668], [0.928392024312876, 1.3098661241367984], [-0.0919541082371036, 2.2790250240651218], [1.1178945960528013, 1.39392488598051], [1.280529984085688, 0.9166807884317646], [1.3954775138558357, 0.039115769398286426], [0.7825981316599425, 1.8195520587992249], [0.2332526081150028, 1.7820279850630993], [0.4871252372442082, 1.8749987440789], [3.04623327760434, -0.8357582620847472], [-0.09817620236364633, 1.4029040509025792], [1.80603532732168, 0.5274268459933179], [0.9591695040403165, 0.956416904357474], [1.4912816534302575, 0.9012243783301886], [0.2020425233804114, 1.716082538247936], [1.692895032093094, 0.6854921019090824], [2.1691553314633443, -0.16219616840977036], [0.7847605562732582, 1.5670247578241052], [0.48338201092234423, 1.7235568888016437], [0.1758297472124314, 1.5741632522727405], [0.6434660679203819, 1.4741220999101645], [1.4327622341948387, 0.9233811156945289], [-0.5427335778722977, 2.3830832738397767], [-0.5291913436401581, 2.3307684639966633], [-1.016052027212523, 2.8630656957452443], [1.1632752090590353, 0.593939409004985], [0.8330185298599105, 1.4412607816393876], [0.16518328990364894, 1.4337973711787892], [0.6822451267598469, 1.7310590017121803], [1.4279926940823267, 0.4530492540089113], [0.7616685653533389, 1.3204834052266468], [1.7382991484648154, 0.43091380983746674], [0.978924463181855, 0.9809595771100417], [0.5092443711856931, 1.211152872072714], [0.794699581735938, 1.1839656793016642], [0.6128738511603425, 1.2122658535902995], [1.0933381864420888, 1.0730697995682936], [1.3612499573708083, 0.5114235266475979], [1.936404026735055, 0.21825107409187672], [1.8281688800389417, -0.2544185461402384], [0.37704308154620203, 2.111988579594456], [1.135029570316292, 0.822168399964096], [0.8336123506059484, 1.4230808986122165], [0.33682506479034335, 1.5072410534308474], [2.0069092382700378, -0.7798628329168666], [0.8915618790932648, 1.3112347922652194], [1.3400232752864152, 0.8206395220993603], [0.347228553672821, 1.7654657074913769], [2.72569858580265, 0.08956179233336758], [1.1334275698568423, 1.148458844052797], [0.6713935589527715, 1.530293359560835], [0.8633763048940782, 1.5339975963852592], [1.6257782730027601, -0.23222530356324422], [0.034190095676405186, 2.3620707753985286], [2.1169882380013716, 0.26130146162325374], [0.40294549251262823, 1.178544630586798], [0.9829686392338983, 1.0829461765930644], [1.174153219993174, 0.316681987280542], [2.08542871750945, -0.46048283507618315], [0.2618808566421308, 1.5305174840072011], [0.9135232446985695, 1.7001538874498976], [1.422861792403674, 0.9022952711717337], [1.8342870446002122, 0.05113346255115381], [0.4326146137662422, 1.622200670454073], [0.544518530790822, 1.6152416437373982], [0.8963587156415281, 1.0879969840906714], [1.2915189299452496, 0.5632180339210393], [0.37830957154160616, 1.333220654284712], [1.3683516336354549, 1.3472543034990494], [1.214730109835643, 1.1882454474435773], [-0.12745345597403523, 1.9434256135990633], [2.6032289483450644, -0.5137612820395849], [0.3595055617442141, 1.7725588105838361], [1.27127961731965, 0.7327580382238907], [1.3862938055689342, 0.6686891997483748], [1.5383056170956735, 0.9690104877866963], [0.686077785388693, 1.9568195223671432], [0.8453085154848972, 0.9897305347524837], [1.89064741992531, 0.3874762885817772], [1.0432258936413366, 1.0685010938806887], [1.8685489827335582, 0.5817398116241557], [1.1883397718635644, 1.2045955131045671], [-0.08699337089563586, 2.0970185923616267], [1.532003513087818, 0.594930288318599], [0.9674512858745987, 0.8283167132081171], [0.2916169450984616, 1.8264818913872591], [0.920938305416859, 1.1244872938455266], [2.1751357628154766, -0.9377025094275622], [0.9924677304599885, 1.2643055237054526], [1.399286777159653, 0.6192017594711543], [0.7874789696389466, 1.1576423730930876], [1.309993552809566, 0.41380197885184256], [2.1648659222617592, -0.17468306147732604], [0.9401320424962613, 0.9983248741323698], [1.5919543815315116, 0.7420885854605848], [1.6035408684446575, 0.3330092973975842], [0.9725499316487959, 0.9769028176788762], [1.1898444110209152, 0.9109044383023315], [0.9652643032099163, 1.6083808668039798], [1.7519739367690512, 0.5758010878847882], [0.7686808298897141, 1.3962092939098074], [0.8965116058523636, 1.0400310404378432], [0.9858367286579534, 0.7472573397450409], [0.28128080401494127, 2.2609129237600456], [2.717768535769698, -0.7012645110485307], [0.8194566400009218, 1.5323512605766296], [1.1403163205343219, 0.8456263910592352], [1.4494305975034183, 0.04040422988594572], [0.6768571572599833, 1.1808540522590967]]}, \"id\": \"el2653140551584580688\"});\n",
       "            })\n",
       "         });\n",
       "}\n",
       "</script>"
      ],
      "text/plain": [
       "<IPython.core.display.HTML object>"
      ]
     },
     "execution_count": 46,
     "metadata": {},
     "output_type": "execute_result"
    }
   ],
   "source": [
    "\n",
    "### cf. check the function numpy.random.multivariate_normal()\n",
    "### cf. check the function np.asarray()\n",
    "### cf. check the function np.squeeze()\n",
    "\n",
    "# Generate the two distributions\n",
    "### Use the function np.random.multivariate_normal() and transpose\n",
    "x_d1, y_d1 = np.random.multivariate_normal(np.squeeze(np.asarray(mu1)), np.squeeze(np.asarray(sigma1)), 1000).T \n",
    "\n",
    "x_d2, y_d2 = np.random.multivariate_normal(np.squeeze(np.asarray(mu2)), np.squeeze(np.asarray(sigma2)), 1000).T \n",
    "\n",
    "### cf. check the function numpy.mean()\n",
    "### cf. check the function numpy.cov()\n",
    "\n",
    "# Estimation of the mean and std of the first class\n",
    "est_mean_d1 = np.mean([x_d1, y_d1])\n",
    "est_cov_d1 = np.cov([x_d1, y_d1])\n",
    "\n",
    "# Estimation of the mean and std of the second class\n",
    "est_mean_d2 = np.mean([x_d2, y_d2])\n",
    "est_cov_d2 = np.cov([x_d2, y_d2])\n",
    "\n",
    "print 'First class statistics: mean = {} and covariance = {}'.format(est_mean_d1, est_cov_d1)\n",
    "print 'Second class statistics: mean = {} and covariance = {}'.format(est_mean_d2, est_cov_d2)\n",
    "\n",
    "# Plot the distributions\n",
    "fig = plt.figure()\n",
    "plt.plot(x_d1, y_d1, 'xb', label='class1')\n",
    "plt.plot(x_d2, y_d2, 'xr', label='class2')\n",
    "\n",
    "plt.legend()\n",
    "\n",
    "mpld3.display(fig)\n"
   ]
  },
  {
   "cell_type": "markdown",
   "metadata": {},
   "source": [
    "(i) Define a function to compute the likelihood probability for a multivariate Gaussian density."
   ]
  },
  {
   "cell_type": "code",
   "execution_count": 79,
   "metadata": {
    "collapsed": false
   },
   "outputs": [],
   "source": [
    "\n",
    "# Define the function to compute the likelihood given the \n",
    "# distribution parameter\n",
    "def LikelihoodND(x, mean, cov):\n",
    "    \n",
    "    from scipy.stats import multivariate_normal\n",
    "    \n",
    "    return multivariate_normal.pdf(x, np.ravel(mean), cov)\n",
    "    \n",
    "#     N=2.\n",
    "#     return 1/((2*np.pi)**(N/2.)*np.sqrt(np.linalg.det(cov))) * \\\n",
    "#     np.exp(-0.5*(x-np.ravel(mean)).T*np.linalg.inv(cov)*(x.T-np.ravel(mean)))\n",
    "    "
   ]
  },
  {
   "cell_type": "markdown",
   "metadata": {},
   "source": [
    "(j) Generate the PDFs for each of these densities and plot them as a surface."
   ]
  },
  {
   "cell_type": "code",
   "execution_count": 82,
   "metadata": {
    "collapsed": false
   },
   "outputs": [
    {
     "data": {
      "text/html": [
       "<iframe id=\"igraph\" scrolling=\"no\" style=\"border:none;\" seamless=\"seamless\" src=\"https://plot.ly/~glemaitre/59.embed\" height=\"525px\" width=\"100%\"></iframe>"
      ],
      "text/plain": [
       "<plotly.tools.PlotlyDisplay object>"
      ]
     },
     "execution_count": 82,
     "metadata": {},
     "output_type": "execute_result"
    }
   ],
   "source": [
    "\n",
    "# Generate the meshgrid\n",
    "### cf. check the function numpy.linspace()\n",
    "### cf. check the function numpy.meshgrid()\n",
    "x = np.linspace(-2,8,num=50)\n",
    "y = np.linspace(-2,8,num=50)\n",
    "X, Y = np.meshgrid(x,y)\n",
    "# Generate the first PDF\n",
    "### cf. check the function numpy.zeros()\n",
    "Z_d1 = np.zeros(np.shape(X))\n",
    "Z_d1 = LikelihoodND(np.matrix([X.reshape(-1), Y.reshape(-1)]).T, mu1, sigma1).reshape(Z_d1.shape)\n",
    "\n",
    "# Generate the second PDF\n",
    "### cf. check the function numpy.zero()\n",
    "Z_d2 = np.zeros(np.shape(X))\n",
    "Z_d2 = LikelihoodND(np.matrix([X.reshape(-1), Y.reshape(-1)]).T, mu2, sigma2).reshape(Z_d2.shape)\n",
    "\n",
    "# Plot the surface\n",
    "### cf. check matplotlib.plot_surface()\n",
    "### cf. check matplotlib.colorbar()\n",
    "\n",
    "data = Data([Surface(x=X, y=Y, z=Z_d1 + Z_d2, colorscale='Jet')])\n",
    "layout = Layout(margin=Margin(l=0, r=0, b=0, t=0))\n",
    "fig = Figure(data=data, layout=layout)\n",
    "py.iplot(fig, filename='densities-eucl-maha')\n"
   ]
  },
  {
   "cell_type": "markdown",
   "metadata": {},
   "source": [
    "## Logistic regression classifier"
   ]
  },
  {
   "cell_type": "markdown",
   "metadata": {},
   "source": [
    "In this section, the data correspond to the grades of two examaminations of 80 students from which 40 students were admitted while the others failed."
   ]
  },
  {
   "cell_type": "code",
   "execution_count": null,
   "metadata": {
    "collapsed": false
   },
   "outputs": [],
   "source": [
    "\n",
    "# Load the data\n",
    "data = np.asmatrix(np.loadtxt('./data/data.dat'))\n",
    "labels = np.asmatrix(np.transpose(np.atleast_2d(np.loadtxt('./data/labels.dat'))))\n"
   ]
  },
  {
   "cell_type": "markdown",
   "metadata": {},
   "source": [
    "The grades are stored in the `data` variable whereas `labels` variable corresponds to the admission boolean."
   ]
  },
  {
   "cell_type": "markdown",
   "metadata": {},
   "source": [
    "(a) Plot the data"
   ]
  },
  {
   "cell_type": "code",
   "execution_count": null,
   "metadata": {
    "collapsed": false
   },
   "outputs": [],
   "source": [
    "\n",
    "# Get the positive index\n",
    "pos_idx = ...\n",
    "\n",
    "# Get the negative index\n",
    "neg_idx = ...\n",
    "\n",
    "# Plot the data\n",
    "...\n"
   ]
  },
  {
   "cell_type": "markdown",
   "metadata": {},
   "source": [
    "We defined the sigmoid function as:"
   ]
  },
  {
   "cell_type": "code",
   "execution_count": null,
   "metadata": {
    "collapsed": false
   },
   "outputs": [],
   "source": [
    "\n",
    "# Definition of the sigmoid function\n",
    "def sigmoid(x):\n",
    "    return (1. / (1 + np.exp(-x)))\n"
   ]
  },
  {
   "cell_type": "markdown",
   "metadata": {},
   "source": [
    "Now, the aim is to implement a logistic regression classifier. A logistic regression classifier return the probability such as:\n",
    "\n",
    "$$p(y | x; \\theta) = (h_{\\theta}(x))^{y} (1 - h_{\\theta}(x))^{1 - y} \\ ,$$\n",
    "\n",
    "with $h_{\\theta}(x) = \\frac{1}{1 + \\exp(- \\theta^{T} x)}$\n",
    "\n",
    "where $x$ is the feature vector (i.e., the observations), $\\theta$ is the set of parameters learned during the training stage.\n",
    "\n",
    "The set of parameters $\\theta$ can be found by maximizing the log likelihood which is defined as:\n",
    "\n",
    "$$l(\\theta) = \\sum_{i = 1}^{N} - y_i \\log h_{\\theta}(x_i) - (1 - y_i) \\log (1 - h_{\\theta}(x_i)) $$\n",
    "\n",
    "(b) Define the likelihood function in the following.\n"
   ]
  },
  {
   "cell_type": "code",
   "execution_count": null,
   "metadata": {
    "collapsed": false
   },
   "outputs": [],
   "source": [
    "\n",
    "# Define the likelihood\n",
    "def likelihood(x, h, y):\n",
    "    return ...\n"
   ]
  },
  {
   "cell_type": "markdown",
   "metadata": {},
   "source": [
    "The optimal parameters $\\theta$ can be found through numerical optimization by maximizing $l(\\theta)$. Herein, Newton's method will be used to optimize $l(\\theta)$.\n",
    "\n",
    "Newton's method is an iterative procedure in which the set of parameters $\\theta$ is updated such as:\n",
    "\n",
    "$$\\theta := \\theta - H^{-1} \\nabla_{\\theta}l(\\theta) \\ , $$\n",
    "\n",
    "(c) Complete the following function in order to follow the above definition."
   ]
  },
  {
   "cell_type": "code",
   "execution_count": null,
   "metadata": {
    "collapsed": false
   },
   "outputs": [],
   "source": [
    "\n",
    "# Define the update rule of Newton's method\n",
    "def update_newton(theta_old, grad, H):\n",
    "    return ...\n"
   ]
  },
  {
   "cell_type": "markdown",
   "metadata": {},
   "source": [
    "We recall that the gradient of the likelihood $l(\\theta)$ is defined as:\n",
    "\n",
    "$$\\nabla_{\\theta}l(\\theta) = \\frac{1}{m} x^{T}(h_{\\theta}(x) - y) \\ ,$$\n",
    "\n",
    "(d) Complete the following Python function to cope with the previous definition. "
   ]
  },
  {
   "cell_type": "code",
   "execution_count": null,
   "metadata": {
    "collapsed": false
   },
   "outputs": [],
   "source": [
    "\n",
    "# Define the gradient of the likelihood\n",
    "def grad_likelihood(x, h, y):\n",
    "    return ...\n",
    "    "
   ]
  },
  {
   "cell_type": "markdown",
   "metadata": {},
   "source": [
    "Finally the Hessian of the likelihood is defined as:\n",
    "\n",
    "$$H = \\frac{1}{m} x^{T} \\text{diag}(h_{\\theta}(x)) \\text{diag}(1 - h_{\\theta}(x)) x \\ .$$\n",
    "\n",
    "(e) Complete this Python function."
   ]
  },
  {
   "cell_type": "code",
   "execution_count": null,
   "metadata": {
    "collapsed": false
   },
   "outputs": [],
   "source": [
    "\n",
    "# Define the Hessian\n",
    "def hessian(x, h, y):\n",
    "    return ...\n"
   ]
  },
  {
   "cell_type": "markdown",
   "metadata": {},
   "source": [
    "(f) All the elements necessary to implement the Newton's optimisation have been defined. Complete the following code which will return the best set of parameters."
   ]
  },
  {
   "cell_type": "code",
   "execution_count": null,
   "metadata": {
    "collapsed": false
   },
   "outputs": [],
   "source": [
    "\n",
    "# Implementation of the Newton's method\n",
    "def arg_max_likelihood(x, y, theta, max_iter = 15, epsilon = .00001):\n",
    "    \n",
    "    # Updating loops\n",
    "    it = 0\n",
    "    err = float(\"inf\")\n",
    "    while((it < max_iter)&(err > epsilon)):\n",
    "        # Store the theta values\n",
    "        theta_old = theta\n",
    "        \n",
    "        # Compute h(x)\n",
    "        h = ...\n",
    "        # Compute the current likelihood\n",
    "        l_theta = ...\n",
    "        # Compute the first derivative of the likelihood\n",
    "        grad = ...\n",
    "        # Compute the hessian matrix\n",
    "        H = ...\n",
    "        \n",
    "        # Update the set of parameters\n",
    "        theta = ...\n",
    "        \n",
    "        # Print some information\n",
    "        print 'Iteration #{0}: the cost function is equal to {1:.2f} and the parameters are {2}'.format(it, l_theta, np.ravel(theta.T))\n",
    "        \n",
    "        # Compute the convergence rate\n",
    "        err = np.sum(np.abs(theta - theta_old))\n",
    "        # Increment the number of iterations\n",
    "        it += 1\n",
    "        \n",
    "    # Return the set of parameter\n",
    "    return theta\n",
    "    "
   ]
  },
  {
   "cell_type": "markdown",
   "metadata": {},
   "source": [
    "(g) Apply Newton's method to the given dataset to find the best set of parameters $\\theta$."
   ]
  },
  {
   "cell_type": "code",
   "execution_count": null,
   "metadata": {
    "collapsed": false
   },
   "outputs": [],
   "source": [
    "\n",
    "# Include the intercept in the data\n",
    "data_intercept = np.asmatrix(np.concatenate((np.ones((np.shape(data)[0], 1)), data), axis=1))\n",
    "\n",
    "# Create a matrix for the set of parameters\n",
    "theta = np.asmatrix(np.zeros((np.shape(data)[1] + 1, 1)))\n"
   ]
  },
  {
   "cell_type": "code",
   "execution_count": null,
   "metadata": {
    "collapsed": false
   },
   "outputs": [],
   "source": [
    "\n",
    "# Find the parameters which maximize the likelihood\n",
    "theta = arg_max_likelihood(...)\n"
   ]
  },
  {
   "cell_type": "markdown",
   "metadata": {},
   "source": [
    "(h) What is the probability that a student with a score of 20 on exam #1 and a score of 80 on exam #2 will not be admitted. It can be formalized as:\n",
    "$$p(y = 0 | x) = 1 - p(y = 0 | x) \\text{ with } x = \\{20,80\\}$$"
   ]
  },
  {
   "cell_type": "code",
   "execution_count": null,
   "metadata": {
    "collapsed": false
   },
   "outputs": [],
   "source": [
    "\n",
    "# Define the vector x \n",
    "x = np.matrix([[1., 20., 80.]])\n"
   ]
  },
  {
   "cell_type": "code",
   "execution_count": null,
   "metadata": {
    "collapsed": false
   },
   "outputs": [],
   "source": [
    "\n",
    "# Compute the probability\n",
    "print 'The probability is {}'.format(...)\n"
   ]
  },
  {
   "cell_type": "markdown",
   "metadata": {},
   "source": [
    "(i) Find the boundary decision analatically. We recall that the boundary is defined such as:\n",
    "$$p(y = 1 | x) = p(y = 0 | x)$$"
   ]
  },
  {
   "cell_type": "markdown",
   "metadata": {},
   "source": [
    "We know that:\n",
    "$$p(y = 1 | x) = p(y = 0 | x)$$\n",
    "Thus,\n",
    "$$\\frac{1}{1 + \\exp( \\theta^{T} x)} = \\frac{\\exp( \\theta^{T} x)}{1 + \\exp( \\theta^{T} x)} \\ , $$\n",
    "\n",
    "$$\\exp( \\theta^{T} x) = 1 \\ , $$\n",
    "\n",
    "$$x_2 = -\\frac{(\\theta_1 x_1 + \\theta_0)}{\\theta_2} \\ .$$"
   ]
  },
  {
   "cell_type": "code",
   "execution_count": null,
   "metadata": {
    "collapsed": false
   },
   "outputs": [],
   "source": [
    "\n",
    "# Get the positive index\n",
    "pos_idx = ...\n",
    "\n",
    "# Get the negative index\n",
    "neg_idx = ...\n",
    "\n",
    "# Plot the data\n",
    "...\n",
    "\n",
    "# Compute two points to draw a line\n",
    "x1, x2 = 20., 65.\n",
    "y1 = ...\n",
    "y2 = ...\n",
    "\n",
    "# Draw the line\n",
    "...\n"
   ]
  },
  {
   "cell_type": "markdown",
   "metadata": {},
   "source": [
    "As reference, we give an example of the same classifier already implemented in scikit-learn."
   ]
  },
  {
   "cell_type": "code",
   "execution_count": null,
   "metadata": {
    "collapsed": false
   },
   "outputs": [],
   "source": [
    "\n",
    "# Import the right library\n",
    "from sklearn.linear_model import LogisticRegression\n",
    "\n",
    "# Call the constructor\n",
    "lg_reg = LogisticRegression()\n",
    "lg_reg.fit(data, np.ravel(labels))\n",
    "\n",
    "# Compute the probability for x = {20., 80.}\n",
    "x = np.matrix([[20., 80.]])\n",
    "prob_y = lg_reg.predict_proba(x)\n",
    "\n",
    "# Print the results\n",
    "print 'The probability for x to be affected to class #0 is {}'.format(prob_y[0, 0])\n",
    "print 'The probability for x to be affected to class #1 is {}'.format(prob_y[0, 1])"
   ]
  },
  {
   "cell_type": "markdown",
   "metadata": {},
   "source": [
    "## Bayesian classification for binary classification in a 1-D feature space"
   ]
  },
  {
   "cell_type": "markdown",
   "metadata": {},
   "source": [
    "In a 1-D feature space, the conditional density of the class #1 ($c_1$) is following a normal distribution (i.e., Gaussian distribution) with the following mean and variance $ \\mu_{1} = 0, \\ \\sigma_{1}^{2} = 5$. The class #2 ($c_2$) conditional density is also defined by a normal distribution with $ \\mu_{2} = 2, \\ \\sigma_{2}^{2} = 1$."
   ]
  },
  {
   "cell_type": "markdown",
   "metadata": {},
   "source": [
    "(a) Give the mathematical representation of the two conditional densities."
   ]
  },
  {
   "cell_type": "markdown",
   "metadata": {
    "slideshow": {
     "slide_type": "-"
    }
   },
   "source": [
    "$p(X | c_1) = \\frac{1}{\\sqrt{2\\pi}\\sigma_{1}^{2}}\\exp{-\\frac{(x - \\mu_{1})^{2}}{2 \\sigma_{1}^{2}}}$\n",
    "\n",
    "$p(X | c_2) = \\frac{1}{\\sqrt{2\\pi}\\sigma_{2}^{2}}\\exp{-\\frac{(x - \\mu_{2})^{2}}{2 \\sigma_{2}^{2}}}$"
   ]
  },
  {
   "cell_type": "markdown",
   "metadata": {},
   "source": [
    "(b) Complete the following Python function to return a Gaussian PDF for a given vector $X$, mean $\\mu$ and standard deviation $\\sigma$. "
   ]
  },
  {
   "cell_type": "code",
   "execution_count": null,
   "metadata": {
    "collapsed": false
   },
   "outputs": [],
   "source": [
    "\n",
    "# Create a function in order to generate a Gaussian function\n",
    "### cf. check the function numpy.sqrt()\n",
    "### cf. check the function numpy.exp()\n",
    "### cf. check the operator ** - power operator\n",
    "def Gaussian1D(X, mu, sigma):\n",
    "    return ...\n"
   ]
  },
  {
   "cell_type": "markdown",
   "metadata": {},
   "source": [
    "(c) Generate both $p(X | c_1)$ and $p(X | c_2)$."
   ]
  },
  {
   "cell_type": "code",
   "execution_count": null,
   "metadata": {
    "collapsed": false
   },
   "outputs": [],
   "source": [
    "\n",
    "# Define the mean and standard deviation for each distribution\n",
    "mu1, sigma1 = ...\n",
    "mu2, sigma2 = ...\n",
    "\n",
    "# Generate X\n",
    "### cf. check the function numpy.linspace()\n",
    "X = ...\n",
    "\n",
    "# Compute the different PDFs for both class\n",
    "pdf1 = ...\n",
    "pdf2 = ...\n"
   ]
  },
  {
   "cell_type": "markdown",
   "metadata": {},
   "source": [
    "(d) Plot the generated density functions."
   ]
  },
  {
   "cell_type": "code",
   "execution_count": null,
   "metadata": {
    "collapsed": false
   },
   "outputs": [],
   "source": [
    "\n",
    "# Plot the pdfs\n",
    "### cf. check the function matplotlib.plot()\n",
    "### cf. check the parameter label\n",
    "### cf. check the function matplotlib.legend()\n",
    "### cf. check the function matplotlib.show()\n",
    "...\n"
   ]
  },
  {
   "cell_type": "markdown",
   "metadata": {},
   "source": [
    "(e) Give the equation for the likelihood ratio and plot this ratio for a given vector $X$. Plot the decision constant    "
   ]
  },
  {
   "cell_type": "markdown",
   "metadata": {},
   "source": [
    "$\\Lambda(x) = \\frac{p(x|c_1)}{p(x|c_2)} = \\frac{1}{\\sqrt{5}} \\exp(0.4x^2 - 2x + 2)$"
   ]
  },
  {
   "cell_type": "code",
   "execution_count": null,
   "metadata": {
    "collapsed": false
   },
   "outputs": [],
   "source": [
    "\n",
    "# Generate X\n",
    "### cf. check the function numpy.linspace()\n",
    "X_ratio = ...\n",
    "\n",
    "# Generate the ratio from the analytical expression\n",
    "### cf. check the function numpy.sqrt()\n",
    "### cf. check the function numpy.exp()\n",
    "### cf. check the operator ** - power operator\n",
    "likelihood_ratio = ...\n",
    "\n",
    "# Plot the likelihood ratio\n",
    "### cf. check the function matplotlib.title()\n",
    "### Plot the likelihood ratio using the previous densities generated\n",
    "...\n",
    "### Plot the likelihood ratio using the analytical expression\n",
    "...\n",
    "### Plot the decision constant\n",
    "...\n"
   ]
  },
  {
   "cell_type": "markdown",
   "metadata": {},
   "source": [
    "(f) Complete the following Python function to return the likelihood probability given a scalar $x$."
   ]
  },
  {
   "cell_type": "code",
   "execution_count": null,
   "metadata": {
    "collapsed": false
   },
   "outputs": [],
   "source": [
    "\n",
    "# Function to return the likelihood probability\n",
    "def Likelihood1D(x, mu, sigma):\n",
    "    return ...\n"
   ]
  },
  {
   "cell_type": "markdown",
   "metadata": {},
   "source": [
    "(g) Complete the following Python function to return the posterior probability given a scalar $x$."
   ]
  },
  {
   "cell_type": "code",
   "execution_count": null,
   "metadata": {
    "collapsed": false
   },
   "outputs": [],
   "source": [
    "\n",
    "# Function to return the posterior probability\n",
    "def Posterior1D(x, mu, sigma, prior):\n",
    "    return ...\n"
   ]
  },
  {
   "cell_type": "markdown",
   "metadata": {},
   "source": [
    "(h) Assume the *a-priori* probabilities $P(c_1) = P(c_2) = 0.5$ and $x = 3$"
   ]
  },
  {
   "cell_type": "code",
   "execution_count": null,
   "metadata": {
    "collapsed": false
   },
   "outputs": [],
   "source": [
    "\n",
    "# Define the observation\n",
    "x = 3.\n",
    "\n",
    "# Define the prior probability\n",
    "p_c1, p_c2 = .5, .5\n"
   ]
  },
  {
   "cell_type": "markdown",
   "metadata": {},
   "source": [
    "- Using the Maximum Likelihood (ML) approach, which class will be affected to $x$?"
   ]
  },
  {
   "cell_type": "code",
   "execution_count": null,
   "metadata": {
    "collapsed": false
   },
   "outputs": [],
   "source": [
    "\n",
    "# Compute the likelihood for the two classes\n",
    "p_x_c1 = ...\n",
    "p_x_c2 = ...\n",
    "\n",
    "display(Math('p(x = 3 | c_1)'), p_x_c1)\n",
    "display(Math('p(x = 3 | c_2)'), p_x_c2)\n",
    "\n",
    "# In the ML sense, check which class to affect x\n",
    "...\n"
   ]
  },
  {
   "cell_type": "markdown",
   "metadata": {},
   "source": [
    "- Using the Maximum *a-posteriori* (MAP) approach, which class will be affected to $x$?"
   ]
  },
  {
   "cell_type": "code",
   "execution_count": null,
   "metadata": {
    "collapsed": false
   },
   "outputs": [],
   "source": [
    "\n",
    "# Compute the likelihood for the two classes\n",
    "p_c1_x = ...\n",
    "p_c2_x = ...\n",
    "\n",
    "display(Math('p(c_1 | x = 3)'), p_c1_x)\n",
    "display(Math('p(c_2 | x = 3)'), p_c2_x)\n",
    "\n",
    "# In the ML sense, check which class to affect x\n",
    "...\n"
   ]
  },
  {
   "cell_type": "markdown",
   "metadata": {},
   "source": [
    "- How many decision regions do you observe? Describe those regions based on your sketch."
   ]
  },
  {
   "cell_type": "code",
   "execution_count": null,
   "metadata": {
    "collapsed": false
   },
   "outputs": [],
   "source": [
    "\n",
    "# Plot the previous pdf - refer question (d)\n",
    "...\n",
    "\n",
    "# Plot the different region of decision\n",
    "### cf. check the function matplotlib.fill_between()\n",
    "...\n"
   ]
  },
  {
   "cell_type": "markdown",
   "metadata": {},
   "source": [
    "Three regions observable"
   ]
  },
  {
   "cell_type": "markdown",
   "metadata": {},
   "source": [
    "- Write the integral equation that gives the overall probability of error based on the MAP method."
   ]
  },
  {
   "cell_type": "code",
   "execution_count": null,
   "metadata": {
    "collapsed": false
   },
   "outputs": [],
   "source": [
    "\n",
    "# Compute the classification error\n",
    "p_error = ...\n",
    "\n",
    "display(Math('p(\\epsilon)'), p_error)\n"
   ]
  },
  {
   "cell_type": "markdown",
   "metadata": {},
   "source": [
    "- Find the decision boundary (or boundaries) using analytical methods (not the sketch)."
   ]
  },
  {
   "cell_type": "markdown",
   "metadata": {},
   "source": []
  },
  {
   "cell_type": "markdown",
   "metadata": {},
   "source": [
    "(i) Now, assume the *a-priori* probabilities $P(c_1) = 0.8$ and $P(c_2) = 0.2$, $x = 3$ and a zero-one loss function:\n"
   ]
  },
  {
   "cell_type": "code",
   "execution_count": null,
   "metadata": {
    "collapsed": false
   },
   "outputs": [],
   "source": [
    "\n",
    "# Define the observation\n",
    "x = 3.\n",
    "\n",
    "# Define the prior probability\n",
    "p_c1, p_c2 = .8, .2\n"
   ]
  },
  {
   "cell_type": "markdown",
   "metadata": {},
   "source": [
    "- Sketch the product of the conditional density and its corresponding prior for both classes $c_1$ and $c_2$"
   ]
  },
  {
   "cell_type": "code",
   "execution_count": null,
   "metadata": {
    "collapsed": false
   },
   "outputs": [],
   "source": [
    "\n",
    "# Compute the product of the previous densities with their priors\n",
    "...\n",
    "\n",
    "# Normalise the densities\n",
    "...\n",
    "\n",
    "# Plot the previous pdf\n",
    "...\n"
   ]
  },
  {
   "cell_type": "markdown",
   "metadata": {},
   "source": [
    "- Using the Maximum Likelihood (ML) approach, which class will be affected to an observation such as $x = 3$?"
   ]
  },
  {
   "cell_type": "code",
   "execution_count": null,
   "metadata": {
    "collapsed": false
   },
   "outputs": [],
   "source": [
    "\n",
    "# Compute the likelihood for the two classes\n",
    "...\n",
    "\n",
    "display(Math('p(x = 3 | c_1)'), p_x_c1)\n",
    "display(Math('p(x = 3 | c_2)'), p_x_c2)\n",
    "\n",
    "# In the ML sense, check which class to affect x\n",
    "...\n"
   ]
  },
  {
   "cell_type": "markdown",
   "metadata": {},
   "source": [
    "- Using the Maximum *a-posteriori* (MAP) approach, which class will be affected to $x$?"
   ]
  },
  {
   "cell_type": "code",
   "execution_count": null,
   "metadata": {
    "collapsed": false
   },
   "outputs": [],
   "source": [
    "\n",
    "# Compute the likelihood for the two classes\n",
    "...\n",
    "\n",
    "display(Math('p(c_1 | x = 3)'), p_c1_x)\n",
    "display(Math('p(c_2 | x = 3)'), p_c2_x)\n",
    "\n",
    "# In the ML sense, check which class to affect x\n",
    "...\n"
   ]
  },
  {
   "cell_type": "markdown",
   "metadata": {},
   "source": [
    "- How many decision regions do you observe? Describe those regions based on your sketch."
   ]
  },
  {
   "cell_type": "code",
   "execution_count": null,
   "metadata": {
    "collapsed": false
   },
   "outputs": [],
   "source": [
    "\n",
    "# Plot the previous pdf - refer question (d)\n",
    "...\n",
    "# Plot the different region of decision\n",
    "### cf. check the function matplotlib.fill_between()\n",
    "...\n"
   ]
  },
  {
   "cell_type": "markdown",
   "metadata": {},
   "source": [
    "Only one region observable"
   ]
  },
  {
   "cell_type": "markdown",
   "metadata": {},
   "source": [
    "- Write the integral equation that gives the overall probability of error based on the MAP method."
   ]
  },
  {
   "cell_type": "code",
   "execution_count": null,
   "metadata": {
    "collapsed": false
   },
   "outputs": [],
   "source": [
    "\n",
    "# Compute the classification error\n",
    "p_error = ...\n",
    "\n",
    "display(Math('p(\\epsilon)'), p_error)\n"
   ]
  },
  {
   "cell_type": "markdown",
   "metadata": {},
   "source": [
    "- Find the decision boundary (or boundaries) using analytical methods (not the sketch)."
   ]
  },
  {
   "cell_type": "markdown",
   "metadata": {},
   "source": []
  },
  {
   "cell_type": "markdown",
   "metadata": {},
   "source": [
    "- What kind of loss values (rather than zero-one) would alter the decisions?"
   ]
  },
  {
   "cell_type": "markdown",
   "metadata": {},
   "source": []
  },
  {
   "cell_type": "markdown",
   "metadata": {},
   "source": [
    "## Naive Bayes classifier applied for segmentation in retina images"
   ]
  },
  {
   "cell_type": "code",
   "execution_count": null,
   "metadata": {
    "collapsed": false
   },
   "outputs": [],
   "source": [
    "\n",
    "# Import scikit-image for input-output manipulation\n",
    "from skimage import io\n",
    "from skimage import img_as_float\n"
   ]
  },
  {
   "cell_type": "markdown",
   "metadata": {},
   "source": [
    "(a) From the `data` folder load the training image `training.tif`, the vessel image `training_vessels.gif` and the mask FOV `training_mask.gif`"
   ]
  },
  {
   "cell_type": "code",
   "execution_count": null,
   "metadata": {
    "collapsed": false
   },
   "outputs": [],
   "source": [
    "\n",
    "# Load the images\n",
    "### Use the function img_as_float()\n",
    "### Use the function io.imread()\n",
    "train_im = ...\n",
    "train_ve = ...\n",
    "train_ma = ...\n",
    "\n",
    "# Render the image\n",
    "fig, ax = plt.subplots(1, 3)\n",
    "ax1, ax2, ax3 = ax.ravel()\n",
    "\n",
    "ax1.imshow(train_im)\n",
    "ax1.set_title('Original image')\n",
    "ax1.axis('off')\n",
    "\n",
    "ax2.imshow(train_ve, cmap=plt.cm.gray)\n",
    "ax2.set_title('Vessel mask')\n",
    "ax2.axis('off')\n",
    "\n",
    "ax3.imshow(train_ma, cmap=plt.cm.gray)\n",
    "ax3.set_title('Fovea mask')\n",
    "ax3.axis('off')\n",
    "\n",
    "plt.show()\n"
   ]
  },
  {
   "cell_type": "code",
   "execution_count": null,
   "metadata": {
    "collapsed": false
   },
   "outputs": [],
   "source": [
    "\n",
    "# Import the scikit-image for color conversion\n",
    "from skimage import color\n",
    "# Import morpho element\n",
    "from skimage.morphology import square\n",
    "# Import the median filtering\n",
    "from skimage.filter.rank import median\n",
    "\n",
    "# Function to pre process the images\n",
    "def PreProcessing(rgb_image):\n",
    "    # Convert RGB to LAB color space\n",
    "    lab_image = img_as_float(color.rgb2lab(rgb_image))\n",
    "    \n",
    "    # Normalize each channel between 0 and 1\n",
    "    lab_image[:, :, 0] = normalise_im(lab_image[:, :, 0])\n",
    "    lab_image[:, :, 1] = normalise_im(lab_image[:, :, 1])\n",
    "    lab_image[:, :, 2] = normalise_im(lab_image[:, :, 2])\n",
    "    \n",
    "    # Obtain a background image through median filtering\n",
    "    background_im = img_as_float(median(lab_image[:, :, 0], square(15)))\n",
    "    tmp_im = lab_image[:, :, 0] - background_im\n",
    "    tmp_im[tmp_im > 0] = 0\n",
    "    lab_image[:, :, 0] = - tmp_im\n",
    "    lab_image[:, :, 0] = normalise_im(lab_image[:, :, 0])\n",
    "    \n",
    "    return lab_image\n",
    "\n",
    "def normalise_im(im_2d):\n",
    "    return (im_2d[:, :] - np.min(im_2d[:, :])) / (np.max(im_2d[:, :]) - np.min(im_2d[:, :]))\n"
   ]
  },
  {
   "cell_type": "code",
   "execution_count": null,
   "metadata": {
    "collapsed": false
   },
   "outputs": [],
   "source": [
    "\n",
    "# Pre-process the training image and render it\n",
    "pre_proc_im = PreProcessing(train_im)\n",
    "fig, ax = plt.subplots(1, 3)\n",
    "ax1, ax2, ax3 = ax.ravel()\n",
    "\n",
    "ax1.imshow(pre_proc_im[:, :, 0], cmap=plt.cm.gray)\n",
    "ax1.set_title('Vessel')\n",
    "ax1.axis('off')\n",
    "\n",
    "ax2.imshow(pre_proc_im[:, :, 1], cmap=plt.cm.gray)\n",
    "ax2.set_title('Channel A')\n",
    "ax2.axis('off')\n",
    "\n",
    "ax3.imshow(pre_proc_im[:, :, 2], cmap=plt.cm.gray)\n",
    "ax3.set_title('Channel B')\n",
    "ax3.axis('off')\n",
    "\n",
    "plt.show()\n"
   ]
  },
  {
   "cell_type": "markdown",
   "metadata": {},
   "source": [
    "(b) Create the positive and negative samples from the 3 colour spaces and with the vessel image and the mask image. Your feature space will be three dimensional. Remember that each pixel is a sample with 3 features, with a positive class if it lays to the vessels and negative otherwise."
   ]
  },
  {
   "cell_type": "code",
   "execution_count": null,
   "metadata": {
    "collapsed": false
   },
   "outputs": [],
   "source": [
    "\n",
    "# Create the positive samples\n",
    "idx_pos_y, idx_pos_x = ...\n",
    "pos_fea = ...\n",
    "\n",
    "# Create the negative samples\n",
    "idx_neg_y, idx_neg_x = ...\n",
    "neg_fea = ...\n"
   ]
  },
  {
   "cell_type": "markdown",
   "metadata": {},
   "source": [
    "(c) Plot the 1-D histogram of each feature seperately and evaluate the separability of the classes."
   ]
  },
  {
   "cell_type": "code",
   "execution_count": null,
   "metadata": {
    "collapsed": false
   },
   "outputs": [],
   "source": [
    "\n",
    "# Define the number of bin\n",
    "nb_bins = 50\n",
    "\n",
    "### 1st feature ###\n",
    "plt.figure()\n",
    "# For the positive sample\n",
    "n, bins, patches = plt.hist(...)\n",
    "plt.setp(...)\n",
    "# For the neg sample\n",
    "n, bins, patches = plt.hist(...)\n",
    "plt.setp(...)\n",
    "plt.title('1st feature PDF')\n",
    "\n",
    "### 2nd feature ###\n",
    "plt.figure()\n",
    "# For the positive sample\n",
    "n, bins, patches = plt.hist(...)\n",
    "plt.setp(...)\n",
    "# For the neg sample\n",
    "n, bins, patches = plt.hist(...)\n",
    "plt.setp(...)\n",
    "plt.title('2nd feature PDF')\n",
    "\n",
    "### 3rd feature ###\n",
    "plt.figure()\n",
    "# For the positive sample\n",
    "n, bins, patches = plt.hist(...)\n",
    "plt.setp(...)\n",
    "# For the neg sample\n",
    "n, bins, patches = plt.hist(...)\n",
    "plt.setp(...)\n",
    "plt.title('3rd feature PDF')\n",
    "\n",
    "plt.show()\n"
   ]
  },
  {
   "cell_type": "markdown",
   "metadata": {},
   "source": [
    "(d) Assuming a normal distribution of the samples train a Naive Bayes classifier."
   ]
  },
  {
   "cell_type": "code",
   "execution_count": null,
   "metadata": {
    "collapsed": false
   },
   "outputs": [],
   "source": [
    "\n",
    "# Define the prior of each class\n",
    "prior_pos, prior_neg = .5, .5\n",
    "\n",
    "# Estimation of the mean and std of the first class\n",
    "est_mean_pos = ...\n",
    "est_cov_pos = ...\n",
    "\n",
    "# Estimation of the mean and std of the second class\n",
    "est_mean_neg = ...\n",
    "est_cov_neg = ...\n"
   ]
  },
  {
   "cell_type": "markdown",
   "metadata": {},
   "source": [
    "(e) Load the test image `test.tif` and use the previous model learned to segment the image."
   ]
  },
  {
   "cell_type": "code",
   "execution_count": null,
   "metadata": {
    "collapsed": false
   },
   "outputs": [],
   "source": [
    "\n",
    "# Function to return the posterior probability for N-D\n",
    "def PosteriorND(x, mu, sigma, prior):\n",
    "    return LikelihoodND(x, mu, sigma) * prior\n"
   ]
  },
  {
   "cell_type": "code",
   "execution_count": null,
   "metadata": {
    "collapsed": false
   },
   "outputs": [],
   "source": [
    "\n",
    "# Load the image\n",
    "test_im = ...\n",
    "test_ma = ...\n",
    "\n",
    "# Pre-process the image\n",
    "pre_proc_im_test = PreProcessing(test_im)\n",
    "\n",
    "# Build the feature vector\n",
    "idx_test_y, idx_test_x = ...\n",
    "test_fea = ...\n",
    "\n",
    "# Pre allocation\n",
    "seg_im = np.zeros(np.shape(test_ma))\n",
    "# Classify each sample\n",
    "for f in range(0, np.size(test_fea, 0)):\n",
    "    # Estimate the probability for the positive class\n",
    "    p_pos_x = ...\n",
    "    # Estimate the probability for the negative class\n",
    "    p_neg_x = ...\n",
    "    # Decide depending on the ratio\n",
    "    if ((p_pos_x / p_neg_x) > 1.0):\n",
    "        seg_im[idx_test_y[f]][idx_test_x[f]] = 1.0\n",
    "            \n",
    "# Show the results\n",
    "fig, ax = plt.subplots()\n",
    "ax.imshow(seg_im, cmap=plt.cm.gray)\n",
    "ax.axis('off')\n",
    "\n",
    "plt.show()"
   ]
  }
 ],
 "metadata": {
  "kernelspec": {
   "display_name": "Python 2",
   "language": "python",
   "name": "python2"
  },
  "language_info": {
   "codemirror_mode": {
    "name": "ipython",
    "version": 2
   },
   "file_extension": ".py",
   "mimetype": "text/x-python",
   "name": "python",
   "nbconvert_exporter": "python",
   "pygments_lexer": "ipython2",
   "version": "2.7.11"
  }
 },
 "nbformat": 4,
 "nbformat_minor": 0
}
